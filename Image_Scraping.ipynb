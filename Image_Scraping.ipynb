{
 "cells": [
  {
   "cell_type": "code",
   "execution_count": 2,
   "id": "b45c45c3",
   "metadata": {},
   "outputs": [],
   "source": [
    "import requests\n",
    "import bs4"
   ]
  },
  {
   "cell_type": "code",
   "execution_count": 3,
   "id": "68aed9fe",
   "metadata": {},
   "outputs": [],
   "source": [
    "url = 'https://www.snapdeal.com/search?keyword=mobile&santizedKeyword=&catId=&categoryId=0&suggested=false&vertical=&noOfResults=20&searchState=&clickSrc=go_header&lastKeyword=&prodCatId=&changeBackToAll=false&foundInAll=false&categoryIdSearched=&cityPageUrl=&categoryUrl=&url=&utmContent=&dealDetail=&sort=rlvncy'"
   ]
  },
  {
   "cell_type": "code",
   "execution_count": 6,
   "id": "c6ab259a",
   "metadata": {},
   "outputs": [
    {
     "name": "stdout",
     "output_type": "stream",
     "text": [
      "<class 'requests.models.Response'>\n"
     ]
    }
   ],
   "source": [
    "response = requests.get(url)\n",
    "print(type(response))"
   ]
  },
  {
   "cell_type": "code",
   "execution_count": 8,
   "id": "ef26aa56",
   "metadata": {},
   "outputs": [],
   "source": [
    "soup = bs4.BeautifulSoup(response.content)"
   ]
  },
  {
   "cell_type": "code",
   "execution_count": 9,
   "id": "d593369d",
   "metadata": {},
   "outputs": [],
   "source": [
    "element = soup.findAll('picture')"
   ]
  },
  {
   "cell_type": "code",
   "execution_count": 14,
   "id": "8d098b3e",
   "metadata": {},
   "outputs": [],
   "source": [
    "first_element = element[0]"
   ]
  },
  {
   "cell_type": "code",
   "execution_count": 15,
   "id": "570fae59",
   "metadata": {},
   "outputs": [
    {
     "data": {
      "text/plain": [
       "<picture class=\"picture-elem\">\n",
       "<source class=\"product-image\" media=\"(min-width: 1430px)\" srcset=\"https://n4.sdlcdn.com/imgs/k/l/8/large/Karbonn-KX5-Dual-SIM-Feature-SDL492489642-1-94a8a.jpg\" title=\"Karbonn KX5 Dual SIM Feature Phone White Grey\">\n",
       "<img class=\"product-image\" src=\"https://n4.sdlcdn.com/imgs/k/l/8/230X258_sharpened/Karbonn-KX5-Dual-SIM-Feature-SDL492489642-1-94a8a.jpg\" title=\"Karbonn KX5 Dual SIM Feature Phone White Grey\"/>\n",
       "</source></picture>"
      ]
     },
     "execution_count": 15,
     "metadata": {},
     "output_type": "execute_result"
    }
   ],
   "source": [
    "first_element"
   ]
  },
  {
   "cell_type": "code",
   "execution_count": 25,
   "id": "012e263e",
   "metadata": {},
   "outputs": [],
   "source": [
    "img = first_element.img"
   ]
  },
  {
   "cell_type": "code",
   "execution_count": 33,
   "id": "c4ea7f43",
   "metadata": {},
   "outputs": [
    {
     "name": "stdout",
     "output_type": "stream",
     "text": [
      "{'class': ['product-image'], 'src': 'https://n4.sdlcdn.com/imgs/k/l/8/230X258_sharpened/Karbonn-KX5-Dual-SIM-Feature-SDL492489642-1-94a8a.jpg', 'title': 'Karbonn KX5 Dual SIM Feature Phone White Grey'}\n"
     ]
    }
   ],
   "source": [
    "print(img.attrs)"
   ]
  },
  {
   "cell_type": "code",
   "execution_count": 34,
   "id": "783f4e2a",
   "metadata": {},
   "outputs": [],
   "source": [
    "img_link = img.attrs['src']"
   ]
  },
  {
   "cell_type": "code",
   "execution_count": 35,
   "id": "896c1bc3",
   "metadata": {},
   "outputs": [
    {
     "data": {
      "text/plain": [
       "'https://n4.sdlcdn.com/imgs/k/l/8/230X258_sharpened/Karbonn-KX5-Dual-SIM-Feature-SDL492489642-1-94a8a.jpg'"
      ]
     },
     "execution_count": 35,
     "metadata": {},
     "output_type": "execute_result"
    }
   ],
   "source": [
    "img_link"
   ]
  },
  {
   "cell_type": "code",
   "execution_count": 36,
   "id": "a089da5c",
   "metadata": {},
   "outputs": [],
   "source": [
    "with open('scraped_img.jpg', 'wb') as file:\n",
    "    response = requests.get(img_link)\n",
    "    \n",
    "    file.write(response.content)"
   ]
  },
  {
   "cell_type": "code",
   "execution_count": null,
   "id": "c3f274f6",
   "metadata": {},
   "outputs": [],
   "source": []
  }
 ],
 "metadata": {
  "kernelspec": {
   "display_name": "Python 3 (ipykernel)",
   "language": "python",
   "name": "python3"
  },
  "language_info": {
   "codemirror_mode": {
    "name": "ipython",
    "version": 3
   },
   "file_extension": ".py",
   "mimetype": "text/x-python",
   "name": "python",
   "nbconvert_exporter": "python",
   "pygments_lexer": "ipython3",
   "version": "3.8.10"
  }
 },
 "nbformat": 4,
 "nbformat_minor": 5
}
