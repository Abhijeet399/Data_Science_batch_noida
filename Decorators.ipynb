{
  "nbformat": 4,
  "nbformat_minor": 0,
  "metadata": {
    "colab": {
      "provenance": []
    },
    "kernelspec": {
      "name": "python3",
      "display_name": "Python 3"
    },
    "language_info": {
      "name": "python"
    }
  },
  "cells": [
    {
      "cell_type": "code",
      "execution_count": 1,
      "metadata": {
        "id": "Qdd4LaIMFFL3"
      },
      "outputs": [],
      "source": [
        "users = {\n",
        "    \"Abhijeet\":\"password\",\n",
        "    \"Rohit\":\"coding blocks\"\n",
        "\n",
        "}"
      ]
    },
    {
      "cell_type": "code",
      "source": [
        "def show(username, password):\n",
        "  if username in users and users[username] == password:\n",
        "    print(\"hello world\")\n",
        "  else:\n",
        "    print(\"Not authenticated\")"
      ],
      "metadata": {
        "id": "CDgTvYcVFUWX"
      },
      "execution_count": 2,
      "outputs": []
    },
    {
      "cell_type": "code",
      "source": [
        "show(\"Abhijeet\", \"password\")"
      ],
      "metadata": {
        "colab": {
          "base_uri": "https://localhost:8080/"
        },
        "id": "h9xy-dLcFkGs",
        "outputId": "be0da57e-e547-4ea9-f83d-b00454ce931e"
      },
      "execution_count": 3,
      "outputs": [
        {
          "output_type": "stream",
          "name": "stdout",
          "text": [
            "hello world\n"
          ]
        }
      ]
    },
    {
      "cell_type": "code",
      "source": [
        "def add(username, password, a,b):\n",
        "  if username in users and users[username] == password:\n",
        "    print(a+b)\n",
        "  else:\n",
        "    print(\"Not authenticated\")"
      ],
      "metadata": {
        "id": "76zw4EKxForF"
      },
      "execution_count": 4,
      "outputs": []
    },
    {
      "cell_type": "code",
      "source": [
        "add(\"Abhijeet\", \"password123\", 1, 2)"
      ],
      "metadata": {
        "colab": {
          "base_uri": "https://localhost:8080/"
        },
        "id": "mE4cFZuqF3Kt",
        "outputId": "99d3ae51-6e12-4990-edad-c285e55907c0"
      },
      "execution_count": 5,
      "outputs": [
        {
          "output_type": "stream",
          "name": "stdout",
          "text": [
            "Not authenticated\n"
          ]
        }
      ]
    },
    {
      "cell_type": "code",
      "source": [
        "def login_requ(func):\n",
        "  def wrapper(username, password, *args, **kwargs):\n",
        "    if username in users and users[username] == password:\n",
        "      # User authenticated\n",
        "      func(*args, **kwargs)\n",
        "\n",
        "    else:\n",
        "      print(\"Not authenticated\")\n",
        "  return wrapper\n"
      ],
      "metadata": {
        "id": "bAzVed1cF_w_"
      },
      "execution_count": 6,
      "outputs": []
    },
    {
      "cell_type": "code",
      "source": [
        "def add(a, b):\n",
        "  print(a+b)"
      ],
      "metadata": {
        "id": "bSSWX6fYGs2D"
      },
      "execution_count": 7,
      "outputs": []
    },
    {
      "cell_type": "code",
      "source": [
        "add"
      ],
      "metadata": {
        "colab": {
          "base_uri": "https://localhost:8080/"
        },
        "id": "k12M3JBHYU7w",
        "outputId": "52f40b7b-88d9-43d3-beaa-80b0001ac686"
      },
      "execution_count": 8,
      "outputs": [
        {
          "output_type": "execute_result",
          "data": {
            "text/plain": [
              "<function __main__.add(a, b)>"
            ]
          },
          "metadata": {},
          "execution_count": 8
        }
      ]
    },
    {
      "cell_type": "code",
      "source": [],
      "metadata": {
        "id": "Yy8QfX7zYUf_"
      },
      "execution_count": null,
      "outputs": []
    },
    {
      "cell_type": "code",
      "source": [
        "add(1,2)"
      ],
      "metadata": {
        "colab": {
          "base_uri": "https://localhost:8080/"
        },
        "id": "5kM4Occ-G17Y",
        "outputId": "669cbe93-aaf5-4676-89f3-2c026ccf90c1"
      },
      "execution_count": 9,
      "outputs": [
        {
          "output_type": "stream",
          "name": "stdout",
          "text": [
            "3\n"
          ]
        }
      ]
    },
    {
      "cell_type": "code",
      "source": [
        "prot_add = login_requ(add)"
      ],
      "metadata": {
        "id": "nNNTIaNsG24Z"
      },
      "execution_count": 10,
      "outputs": []
    },
    {
      "cell_type": "code",
      "source": [
        "print(prot_add)"
      ],
      "metadata": {
        "colab": {
          "base_uri": "https://localhost:8080/"
        },
        "id": "6BHHNKCnG7XP",
        "outputId": "93e1c9bc-ee4c-48fe-ff1c-814b1b45cb76"
      },
      "execution_count": 11,
      "outputs": [
        {
          "output_type": "stream",
          "name": "stdout",
          "text": [
            "<function login_requ.<locals>.wrapper at 0x7fd7c8ea9af0>\n"
          ]
        }
      ]
    },
    {
      "cell_type": "code",
      "source": [
        "prot_add(\"Abhijeet\", \"password\", 1, 2)"
      ],
      "metadata": {
        "colab": {
          "base_uri": "https://localhost:8080/"
        },
        "id": "KgSATpzYG9T8",
        "outputId": "9da5bdab-a629-4594-fb21-bc73927c46d4"
      },
      "execution_count": 12,
      "outputs": [
        {
          "output_type": "stream",
          "name": "stdout",
          "text": [
            "3\n"
          ]
        }
      ]
    },
    {
      "cell_type": "code",
      "source": [
        "add = login_requ(add)"
      ],
      "metadata": {
        "id": "7YAko0WuHprX"
      },
      "execution_count": 13,
      "outputs": []
    },
    {
      "cell_type": "code",
      "source": [
        "def add(a, b):\n",
        "  print(a+b)\n",
        "add = login_requ(add)"
      ],
      "metadata": {
        "id": "i45dZ_-JoKQW"
      },
      "execution_count": 14,
      "outputs": []
    },
    {
      "cell_type": "code",
      "source": [
        "### Equivalet to above\n",
        "\n",
        "@login_requ\n",
        "def add(a, b):\n",
        "  print(a+b)"
      ],
      "metadata": {
        "id": "P_ypxEcAHwNU"
      },
      "execution_count": 15,
      "outputs": []
    },
    {
      "cell_type": "code",
      "source": [
        "add(\"Rohit\", \"coding block00s\", 5, 3)"
      ],
      "metadata": {
        "colab": {
          "base_uri": "https://localhost:8080/"
        },
        "id": "9ksCQ09MHwKY",
        "outputId": "8e3ec5bd-259e-4fc2-bbd0-356435c39c0e"
      },
      "execution_count": 16,
      "outputs": [
        {
          "output_type": "stream",
          "name": "stdout",
          "text": [
            "Not authenticated\n"
          ]
        }
      ]
    },
    {
      "cell_type": "code",
      "source": [
        "add(\"Rohit\", \"coding blocks\", 5, 3)"
      ],
      "metadata": {
        "id": "Dev2wxJXH--Y",
        "outputId": "5f3eccca-3d3f-4ded-d168-fbc3a20b45b7",
        "colab": {
          "base_uri": "https://localhost:8080/"
        }
      },
      "execution_count": 17,
      "outputs": [
        {
          "output_type": "stream",
          "name": "stdout",
          "text": [
            "8\n"
          ]
        }
      ]
    },
    {
      "cell_type": "code",
      "source": [
        "students = []\n",
        "num = input('No. of students')\n",
        "for _ in range(int(num)):\n",
        "  name = input()\n",
        "  roll = int(input())\n",
        "  branch = input()\n",
        "  students.append({\n",
        "      \"name\": name,\n",
        "      \"roll\": roll,\n",
        "      \"branch\":branch\n",
        "  })"
      ],
      "metadata": {
        "id": "MPLUzCRSHmZi",
        "colab": {
          "base_uri": "https://localhost:8080/"
        },
        "outputId": "dfd3ed4a-0603-4578-cf60-0d8929c02023"
      },
      "execution_count": 4,
      "outputs": [
        {
          "name": "stdout",
          "output_type": "stream",
          "text": [
            "No. of students2\n",
            "Abhijeet\n",
            "1\n",
            "CSE\n",
            "Rohit\n",
            "45\n",
            "IT\n"
          ]
        }
      ]
    },
    {
      "cell_type": "code",
      "source": [
        "students"
      ],
      "metadata": {
        "colab": {
          "base_uri": "https://localhost:8080/"
        },
        "id": "ClN2Ogn-f_P8",
        "outputId": "5dcfee37-2fae-4765-82cf-a38012c9c070"
      },
      "execution_count": 5,
      "outputs": [
        {
          "output_type": "execute_result",
          "data": {
            "text/plain": [
              "[{'name': 'Abhijeet', 'roll': 1, 'branch': 'CSE'},\n",
              " {'name': 'Rohit', 'roll': 45, 'branch': 'IT'}]"
            ]
          },
          "metadata": {},
          "execution_count": 5
        }
      ]
    },
    {
      "cell_type": "code",
      "source": [
        "def temp(a, b, *args, **kwargs):\n",
        "  print(a+b)\n",
        "  print(args)\n",
        "  print(type(args))\n",
        "  print(kwargs)\n",
        "  print(type(kwargs))"
      ],
      "metadata": {
        "id": "5J4xSSut46-7"
      },
      "execution_count": 25,
      "outputs": []
    },
    {
      "cell_type": "code",
      "source": [
        "temp(1,2,3,4, name = \"ABhijeet\", age=22)"
      ],
      "metadata": {
        "colab": {
          "base_uri": "https://localhost:8080/"
        },
        "id": "A5GEqxb3W3s-",
        "outputId": "acdf8ae0-5fa3-4ad9-e2d3-fb356d5fb5ad"
      },
      "execution_count": 37,
      "outputs": [
        {
          "output_type": "stream",
          "name": "stdout",
          "text": [
            "3\n",
            "(3, 4)\n",
            "<class 'tuple'>\n",
            "{'name': 'ABhijeet', 'age': 22}\n",
            "<class 'dict'>\n"
          ]
        }
      ]
    },
    {
      "cell_type": "code",
      "source": [],
      "metadata": {
        "id": "A1iiO8AuW7Fg"
      },
      "execution_count": null,
      "outputs": []
    }
  ]
}