{
 "cells": [
  {
   "cell_type": "code",
   "execution_count": 1,
   "id": "86c27e05",
   "metadata": {},
   "outputs": [],
   "source": [
    "import numpy as np"
   ]
  },
  {
   "cell_type": "code",
   "execution_count": 2,
   "id": "e69675f9",
   "metadata": {},
   "outputs": [],
   "source": [
    "a = np.array([1,2,3,4,5])"
   ]
  },
  {
   "cell_type": "code",
   "execution_count": 3,
   "id": "aedfbc8d",
   "metadata": {},
   "outputs": [
    {
     "name": "stdout",
     "output_type": "stream",
     "text": [
      "[1 2 3 4 5]\n"
     ]
    }
   ],
   "source": [
    "print(a)"
   ]
  },
  {
   "cell_type": "code",
   "execution_count": 4,
   "id": "9e9be6ed",
   "metadata": {},
   "outputs": [
    {
     "data": {
      "text/plain": [
       "numpy.ndarray"
      ]
     },
     "execution_count": 4,
     "metadata": {},
     "output_type": "execute_result"
    }
   ],
   "source": [
    "type(a)"
   ]
  },
  {
   "cell_type": "code",
   "execution_count": 6,
   "id": "6687adf6",
   "metadata": {},
   "outputs": [
    {
     "data": {
      "text/plain": [
       "(5,)"
      ]
     },
     "execution_count": 6,
     "metadata": {},
     "output_type": "execute_result"
    }
   ],
   "source": [
    "a.shape"
   ]
  },
  {
   "cell_type": "code",
   "execution_count": 18,
   "id": "bd7cee7d",
   "metadata": {},
   "outputs": [],
   "source": [
    "b = np.array([[1, 2], [2, 4], [3, 8], [4, 0], [5, 22]])"
   ]
  },
  {
   "cell_type": "code",
   "execution_count": 19,
   "id": "288bff09",
   "metadata": {},
   "outputs": [
    {
     "name": "stdout",
     "output_type": "stream",
     "text": [
      "(5, 2) [[ 1  2]\n",
      " [ 2  4]\n",
      " [ 3  8]\n",
      " [ 4  0]\n",
      " [ 5 22]]\n"
     ]
    }
   ],
   "source": [
    "# b.shape\n",
    "print(b.shape, b)"
   ]
  },
  {
   "cell_type": "code",
   "execution_count": 20,
   "id": "80d8c3d9",
   "metadata": {},
   "outputs": [
    {
     "data": {
      "text/plain": [
       "array([1, 2])"
      ]
     },
     "execution_count": 20,
     "metadata": {},
     "output_type": "execute_result"
    }
   ],
   "source": [
    "b[0]"
   ]
  },
  {
   "cell_type": "code",
   "execution_count": 23,
   "id": "7f2f0d52",
   "metadata": {},
   "outputs": [],
   "source": [
    "b[4][1] = 99"
   ]
  },
  {
   "cell_type": "code",
   "execution_count": 24,
   "id": "3c93f041",
   "metadata": {},
   "outputs": [
    {
     "data": {
      "text/plain": [
       "array([[ 1,  2],\n",
       "       [ 2,  4],\n",
       "       [ 3,  8],\n",
       "       [ 4,  0],\n",
       "       [ 5, 99]])"
      ]
     },
     "execution_count": 24,
     "metadata": {},
     "output_type": "execute_result"
    }
   ],
   "source": [
    "b"
   ]
  },
  {
   "cell_type": "code",
   "execution_count": 25,
   "id": "0c6740b4",
   "metadata": {},
   "outputs": [],
   "source": [
    "a = np.zeros((3, 3))"
   ]
  },
  {
   "cell_type": "code",
   "execution_count": 26,
   "id": "d134dddd",
   "metadata": {},
   "outputs": [
    {
     "data": {
      "text/plain": [
       "array([[0., 0., 0.],\n",
       "       [0., 0., 0.],\n",
       "       [0., 0., 0.]])"
      ]
     },
     "execution_count": 26,
     "metadata": {},
     "output_type": "execute_result"
    }
   ],
   "source": [
    "a"
   ]
  },
  {
   "cell_type": "code",
   "execution_count": 32,
   "id": "f1465fd1",
   "metadata": {},
   "outputs": [],
   "source": [
    "b = np.ones((3,3), dtype = 'int32')"
   ]
  },
  {
   "cell_type": "code",
   "execution_count": 33,
   "id": "378ec17b",
   "metadata": {},
   "outputs": [
    {
     "data": {
      "text/plain": [
       "array([[1, 1, 1],\n",
       "       [1, 1, 1],\n",
       "       [1, 1, 1]], dtype=int32)"
      ]
     },
     "execution_count": 33,
     "metadata": {},
     "output_type": "execute_result"
    }
   ],
   "source": [
    "b"
   ]
  },
  {
   "cell_type": "code",
   "execution_count": 30,
   "id": "ecd7941c",
   "metadata": {},
   "outputs": [
    {
     "data": {
      "text/plain": [
       "dtype('float64')"
      ]
     },
     "execution_count": 30,
     "metadata": {},
     "output_type": "execute_result"
    }
   ],
   "source": [
    "b.dtype"
   ]
  },
  {
   "cell_type": "code",
   "execution_count": 35,
   "id": "23f1abde",
   "metadata": {},
   "outputs": [],
   "source": [
    "np.zeros?"
   ]
  },
  {
   "cell_type": "code",
   "execution_count": 37,
   "id": "76216c22",
   "metadata": {},
   "outputs": [],
   "source": [
    "c = np.full((2, 3), 5)"
   ]
  },
  {
   "cell_type": "code",
   "execution_count": 39,
   "id": "dcbe2045",
   "metadata": {},
   "outputs": [
    {
     "name": "stdout",
     "output_type": "stream",
     "text": [
      "[[5 5 5]\n",
      " [5 5 5]] (2, 3)\n"
     ]
    }
   ],
   "source": [
    "print(c, c.shape)"
   ]
  },
  {
   "cell_type": "code",
   "execution_count": 54,
   "id": "ba12ab52",
   "metadata": {},
   "outputs": [],
   "source": [
    "eye = np.eye(4, dtype = np.int64)"
   ]
  },
  {
   "cell_type": "code",
   "execution_count": 55,
   "id": "1025d1a9",
   "metadata": {},
   "outputs": [
    {
     "data": {
      "text/plain": [
       "array([[1, 0, 0, 0],\n",
       "       [0, 1, 0, 0],\n",
       "       [0, 0, 1, 0],\n",
       "       [0, 0, 0, 1]])"
      ]
     },
     "execution_count": 55,
     "metadata": {},
     "output_type": "execute_result"
    }
   ],
   "source": [
    "eye"
   ]
  },
  {
   "cell_type": "code",
   "execution_count": 56,
   "id": "ef9d73f8",
   "metadata": {},
   "outputs": [],
   "source": [
    "random_matrix = np.random.random((4, 3))"
   ]
  },
  {
   "cell_type": "code",
   "execution_count": 57,
   "id": "805731aa",
   "metadata": {},
   "outputs": [
    {
     "data": {
      "text/plain": [
       "array([[0.9095907 , 0.46502755, 0.9250652 ],\n",
       "       [0.64460316, 0.30291203, 0.77543335],\n",
       "       [0.80114071, 0.75525663, 0.20091748],\n",
       "       [0.55537445, 0.00839432, 0.41292695]])"
      ]
     },
     "execution_count": 57,
     "metadata": {},
     "output_type": "execute_result"
    }
   ],
   "source": [
    "random_matrix"
   ]
  },
  {
   "cell_type": "code",
   "execution_count": 58,
   "id": "413a0e1a",
   "metadata": {},
   "outputs": [
    {
     "name": "stdout",
     "output_type": "stream",
     "text": [
      "[0.9250652  0.77543335 0.20091748 0.41292695]\n"
     ]
    }
   ],
   "source": [
    "print(random_matrix[:, 2])"
   ]
  },
  {
   "cell_type": "code",
   "execution_count": 62,
   "id": "1b6caf99",
   "metadata": {},
   "outputs": [
    {
     "name": "stdout",
     "output_type": "stream",
     "text": [
      "[[1 2]\n",
      " [3 4]] [[5 6]\n",
      " [7 8]]\n",
      "(2, 2) (2, 2)\n"
     ]
    }
   ],
   "source": [
    "# Mathematical operations in numpy\n",
    "\n",
    "x = np.array([[1, 2], [3, 4]])\n",
    "y = np.array([[5, 6], [7, 8]])\n",
    "\n",
    "print(x, y)\n",
    "print(x.shape, y.shape)"
   ]
  },
  {
   "cell_type": "code",
   "execution_count": 64,
   "id": "d43cf1a8",
   "metadata": {},
   "outputs": [
    {
     "name": "stdout",
     "output_type": "stream",
     "text": [
      "[[ 6  8]\n",
      " [10 12]] [[ 6  8]\n",
      " [10 12]]\n"
     ]
    }
   ],
   "source": [
    "print(x+y, np.add(x, y))"
   ]
  },
  {
   "cell_type": "code",
   "execution_count": 65,
   "id": "0a176242",
   "metadata": {},
   "outputs": [
    {
     "name": "stdout",
     "output_type": "stream",
     "text": [
      "[[-4 -4]\n",
      " [-4 -4]] [[-4 -4]\n",
      " [-4 -4]]\n"
     ]
    }
   ],
   "source": [
    "print(x-y, np.subtract(x, y))"
   ]
  },
  {
   "cell_type": "code",
   "execution_count": 67,
   "id": "36a8fad8",
   "metadata": {},
   "outputs": [
    {
     "name": "stdout",
     "output_type": "stream",
     "text": [
      "[[ 5 12]\n",
      " [21 32]] [[ 5 12]\n",
      " [21 32]]\n"
     ]
    }
   ],
   "source": [
    "print(x*y, np.multiply(x, y))"
   ]
  },
  {
   "cell_type": "code",
   "execution_count": 68,
   "id": "374afd50",
   "metadata": {},
   "outputs": [
    {
     "name": "stdout",
     "output_type": "stream",
     "text": [
      "[[0.2        0.33333333]\n",
      " [0.42857143 0.5       ]] [[0.2        0.33333333]\n",
      " [0.42857143 0.5       ]]\n"
     ]
    }
   ],
   "source": [
    "print(x/y, np.divide(x, y))"
   ]
  },
  {
   "cell_type": "code",
   "execution_count": 70,
   "id": "6e4ae2a3",
   "metadata": {},
   "outputs": [
    {
     "name": "stdout",
     "output_type": "stream",
     "text": [
      "[[1.         1.41421356]\n",
      " [1.73205081 2.        ]] [[2.23606798 2.44948974]\n",
      " [2.64575131 2.82842712]]\n"
     ]
    }
   ],
   "source": [
    "print(np.sqrt(x), np.sqrt(y))"
   ]
  },
  {
   "cell_type": "code",
   "execution_count": 72,
   "id": "8d13143c",
   "metadata": {},
   "outputs": [
    {
     "name": "stdout",
     "output_type": "stream",
     "text": [
      "[[19 22]\n",
      " [43 50]] [[19 22]\n",
      " [43 50]]\n"
     ]
    }
   ],
   "source": [
    "print(x.dot(y), np.dot(x, y))"
   ]
  },
  {
   "cell_type": "code",
   "execution_count": 77,
   "id": "43397dcc",
   "metadata": {},
   "outputs": [],
   "source": [
    "a = np.array([[1,2,3,4,5], [6,7,8,9,10]])"
   ]
  },
  {
   "cell_type": "code",
   "execution_count": 75,
   "id": "d1f21940",
   "metadata": {},
   "outputs": [
    {
     "name": "stdout",
     "output_type": "stream",
     "text": [
      "15 15\n"
     ]
    }
   ],
   "source": [
    "print(sum(a), np.sum(a))"
   ]
  },
  {
   "cell_type": "code",
   "execution_count": 79,
   "id": "50a2ac4d",
   "metadata": {},
   "outputs": [
    {
     "data": {
      "text/plain": [
       "(2, 5)"
      ]
     },
     "execution_count": 79,
     "metadata": {},
     "output_type": "execute_result"
    }
   ],
   "source": [
    "a.shape"
   ]
  },
  {
   "cell_type": "code",
   "execution_count": 81,
   "id": "21029482",
   "metadata": {},
   "outputs": [
    {
     "name": "stdout",
     "output_type": "stream",
     "text": [
      "[15 40]\n"
     ]
    }
   ],
   "source": [
    "print(np.sum(a, axis = 1))"
   ]
  },
  {
   "cell_type": "code",
   "execution_count": 95,
   "id": "c1280d93",
   "metadata": {},
   "outputs": [],
   "source": [
    "a = np.array([1,2,3,4,5, 6])\n",
    "b = np.array([1,2,3,4,5, 6])\n",
    "b = b**2"
   ]
  },
  {
   "cell_type": "code",
   "execution_count": 96,
   "id": "24557b14",
   "metadata": {},
   "outputs": [
    {
     "data": {
      "text/plain": [
       "array([ 1,  4,  9, 16, 25, 36])"
      ]
     },
     "execution_count": 96,
     "metadata": {},
     "output_type": "execute_result"
    }
   ],
   "source": [
    "b"
   ]
  },
  {
   "cell_type": "code",
   "execution_count": 97,
   "id": "2a4af324",
   "metadata": {},
   "outputs": [],
   "source": [
    "stacked = np.stack((a, b), axis = 0)"
   ]
  },
  {
   "cell_type": "code",
   "execution_count": 98,
   "id": "aea03515",
   "metadata": {},
   "outputs": [
    {
     "data": {
      "text/plain": [
       "array([[ 1,  2,  3,  4,  5,  6],\n",
       "       [ 1,  4,  9, 16, 25, 36]])"
      ]
     },
     "execution_count": 98,
     "metadata": {},
     "output_type": "execute_result"
    }
   ],
   "source": [
    "stacked"
   ]
  },
  {
   "cell_type": "code",
   "execution_count": 99,
   "id": "51e42e77",
   "metadata": {},
   "outputs": [
    {
     "data": {
      "text/plain": [
       "(2, 6)"
      ]
     },
     "execution_count": 99,
     "metadata": {},
     "output_type": "execute_result"
    }
   ],
   "source": [
    "stacked.shape"
   ]
  },
  {
   "cell_type": "code",
   "execution_count": 110,
   "id": "a9ea6e47",
   "metadata": {},
   "outputs": [
    {
     "data": {
      "text/plain": [
       "array([[ 1,  2,  3,  4,  5,  6],\n",
       "       [ 1,  4,  9, 16, 25, 36]])"
      ]
     },
     "execution_count": 110,
     "metadata": {},
     "output_type": "execute_result"
    }
   ],
   "source": [
    "stacked.reshape((-1,6))"
   ]
  },
  {
   "cell_type": "code",
   "execution_count": 116,
   "id": "88497f9e",
   "metadata": {},
   "outputs": [
    {
     "name": "stdout",
     "output_type": "stream",
     "text": [
      "[ 1  2  3  4  5  6  7  8  9 10]\n"
     ]
    }
   ],
   "source": [
    "a = np.arange(10) + 1\n",
    "print(a)"
   ]
  },
  {
   "cell_type": "code",
   "execution_count": 123,
   "id": "0fe363da",
   "metadata": {},
   "outputs": [
    {
     "name": "stdout",
     "output_type": "stream",
     "text": [
      "[[-1.47743302  1.20601062 -0.37230766]\n",
      " [ 0.48343472 -0.94372465 -1.02462542]]\n"
     ]
    }
   ],
   "source": [
    "a = np.random.rand?\n",
    "print(a)"
   ]
  },
  {
   "cell_type": "code",
   "execution_count": 121,
   "id": "64792c85",
   "metadata": {},
   "outputs": [
    {
     "name": "stdout",
     "output_type": "stream",
     "text": [
      "[[-1.47743302  1.20601062 -0.37230766]\n",
      " [ 0.48343472 -0.94372465 -1.02462542]]\n"
     ]
    }
   ],
   "source": [
    "a = np.random.randn(2, 3)\n",
    "print(a)"
   ]
  },
  {
   "cell_type": "code",
   "execution_count": 144,
   "id": "478d907c",
   "metadata": {},
   "outputs": [],
   "source": [
    "b = np.random.randint(5, 100, 50)"
   ]
  },
  {
   "cell_type": "code",
   "execution_count": 145,
   "id": "00b306b6",
   "metadata": {},
   "outputs": [
    {
     "data": {
      "text/plain": [
       "43"
      ]
     },
     "execution_count": 145,
     "metadata": {},
     "output_type": "execute_result"
    }
   ],
   "source": [
    "len(list(set(b)))"
   ]
  },
  {
   "cell_type": "code",
   "execution_count": 148,
   "id": "d4347472",
   "metadata": {},
   "outputs": [
    {
     "name": "stdout",
     "output_type": "stream",
     "text": [
      "[28 90 69 19 95 48 62 21 98 90 13 58 20 75 19 60 75 60 21 96 29 13 28 69\n",
      " 39 25 59 24 24 53]\n"
     ]
    }
   ],
   "source": [
    "#Choice between numbers or array of numbers\n",
    "\n",
    "a = np.random.choice(b, size = 30, replace = True)\n",
    "print(a)"
   ]
  },
  {
   "cell_type": "code",
   "execution_count": 163,
   "id": "65733a1b",
   "metadata": {},
   "outputs": [],
   "source": [
    "np.random.seed(1)\n",
    "rand_int = np.random.randint(1, 1000, 100)"
   ]
  },
  {
   "cell_type": "code",
   "execution_count": 164,
   "id": "29bac866",
   "metadata": {},
   "outputs": [
    {
     "name": "stdout",
     "output_type": "stream",
     "text": [
      "[ 38 236 909  73 768 906 716 646 848 961 145 130 973 584 750 509 391 282\n",
      " 179 277 255 358 915 469 908 253 491 669 926 399 563 581 216 984 754 504\n",
      " 479 865  87 142 394   8 320 830 535 314 514 897 317 210 265 729 654 628\n",
      " 432 634 457 543  72 388 455 918 562 314 516 965 793 498  44 589  27 821\n",
      " 337 622 884 298 467  16  65 197  26 368 739 472 904 283 666 617  23 778\n",
      " 708 127 280 382 357 156 934 314 596 167]\n"
     ]
    }
   ],
   "source": [
    "print(rand_int)"
   ]
  },
  {
   "cell_type": "code",
   "execution_count": 168,
   "id": "7f1e111d",
   "metadata": {
    "scrolled": true
   },
   "outputs": [
    {
     "name": "stdout",
     "output_type": "stream",
     "text": [
      "(50, 2)\n"
     ]
    }
   ],
   "source": [
    "rand_int = rand_int.reshape(-1, 2)\n",
    "print(rand_int.shape)"
   ]
  },
  {
   "cell_type": "code",
   "execution_count": 170,
   "id": "254a7845",
   "metadata": {},
   "outputs": [
    {
     "name": "stdout",
     "output_type": "stream",
     "text": [
      "[[ 38 236]\n",
      " [909  73]\n",
      " [768 906]\n",
      " [716 646]\n",
      " [848 961]\n",
      " [145 130]\n",
      " [973 584]\n",
      " [750 509]\n",
      " [391 282]\n",
      " [179 277]\n",
      " [255 358]\n",
      " [915 469]\n",
      " [908 253]\n",
      " [491 669]\n",
      " [926 399]\n",
      " [563 581]\n",
      " [216 984]\n",
      " [754 504]\n",
      " [479 865]\n",
      " [ 87 142]\n",
      " [394   8]\n",
      " [320 830]\n",
      " [535 314]\n",
      " [514 897]\n",
      " [317 210]\n",
      " [265 729]\n",
      " [654 628]\n",
      " [432 634]\n",
      " [457 543]\n",
      " [ 72 388]\n",
      " [455 918]\n",
      " [562 314]\n",
      " [516 965]\n",
      " [793 498]\n",
      " [ 44 589]\n",
      " [ 27 821]\n",
      " [337 622]\n",
      " [884 298]\n",
      " [467  16]\n",
      " [ 65 197]\n",
      " [ 26 368]\n",
      " [739 472]\n",
      " [904 283]\n",
      " [666 617]\n",
      " [ 23 778]\n",
      " [708 127]\n",
      " [280 382]\n",
      " [357 156]\n",
      " [934 314]\n",
      " [596 167]]\n"
     ]
    }
   ],
   "source": [
    "print(rand_int)"
   ]
  },
  {
   "cell_type": "code",
   "execution_count": 180,
   "id": "f0db3606",
   "metadata": {},
   "outputs": [
    {
     "name": "stdout",
     "output_type": "stream",
     "text": [
      "[23  8]\n"
     ]
    }
   ],
   "source": [
    "print(np.min(rand_int, axis = 0))"
   ]
  },
  {
   "cell_type": "code",
   "execution_count": 174,
   "id": "d1bc28cf",
   "metadata": {},
   "outputs": [
    {
     "name": "stdout",
     "output_type": "stream",
     "text": [
      "[236 909 906 716 961 145 973 750 391 277 358 915 908 669 926 581 984 754\n",
      " 865 142 394 830 535 897 317 729 654 634 543 388 918 562 965 793 589 821\n",
      " 622 884 467 197 368 739 904 666 778 708 382 357 934 596]\n"
     ]
    }
   ],
   "source": [
    "print(np.max(rand_int, axis = 1))"
   ]
  },
  {
   "cell_type": "code",
   "execution_count": 177,
   "id": "ddacb8b9",
   "metadata": {},
   "outputs": [
    {
     "name": "stdout",
     "output_type": "stream",
     "text": [
      "485.65\n"
     ]
    }
   ],
   "source": [
    "print(np.mean(rand_int))"
   ]
  },
  {
   "cell_type": "code",
   "execution_count": 179,
   "id": "53b9dbdd",
   "metadata": {},
   "outputs": [
    {
     "name": "stdout",
     "output_type": "stream",
     "text": [
      "[137.  491.  837.  681.  904.5 137.5 778.5 629.5 336.5 228.  306.5 692.\n",
      " 580.5 580.  662.5 572.  600.  629.  672.  114.5 201.  575.  424.5 705.5\n",
      " 263.5 497.  641.  533.  500.  230.  686.5 438.  740.5 645.5 316.5 424.\n",
      " 479.5 591.  241.5 131.  197.  605.5 593.5 641.5 400.5 417.5 331.  256.5\n",
      " 624.  381.5]\n"
     ]
    }
   ],
   "source": [
    "print(np.mean(rand_int, axis = 1))"
   ]
  },
  {
   "cell_type": "code",
   "execution_count": 194,
   "id": "4b7fa8f5",
   "metadata": {
    "scrolled": true
   },
   "outputs": [],
   "source": [
    "rand_int = rand_int.reshape(-1, )"
   ]
  },
  {
   "cell_type": "code",
   "execution_count": 197,
   "id": "4390ac61",
   "metadata": {},
   "outputs": [
    {
     "data": {
      "text/plain": [
       "array([ 38, 236, 909,  73, 768, 906, 716, 646, 848, 961, 145, 130, 973,\n",
       "       584, 750, 509, 391, 282, 179, 277, 255, 358, 915, 469, 908, 253,\n",
       "       491, 669, 926, 399, 563, 581, 216, 984, 754, 504, 479, 865,  87,\n",
       "       142, 394,   8, 320, 830, 535, 314, 514, 897, 317, 210, 265, 729,\n",
       "       654, 628, 432, 634, 457, 543,  72, 388, 455, 918, 562, 314, 516,\n",
       "       965, 793, 498,  44, 589,  27, 821, 337, 622, 884, 298, 467,  16,\n",
       "        65, 197,  26, 368, 739, 472, 904, 283, 666, 617,  23, 778, 708,\n",
       "       127, 280, 382, 357, 156, 934, 314, 596, 167])"
      ]
     },
     "execution_count": 197,
     "metadata": {},
     "output_type": "execute_result"
    }
   ],
   "source": [
    "rand_int"
   ]
  },
  {
   "cell_type": "code",
   "execution_count": 189,
   "id": "d533e48c",
   "metadata": {},
   "outputs": [
    {
     "name": "stdout",
     "output_type": "stream",
     "text": [
      "475.5\n"
     ]
    }
   ],
   "source": [
    "print(np.median(rand_int))"
   ]
  },
  {
   "cell_type": "code",
   "execution_count": 190,
   "id": "5eeddba8",
   "metadata": {},
   "outputs": [
    {
     "name": "stdout",
     "output_type": "stream",
     "text": [
      "[485.65]\n"
     ]
    }
   ],
   "source": [
    "print(sum(rand_int)/len(rand_int))"
   ]
  },
  {
   "cell_type": "code",
   "execution_count": 192,
   "id": "f7558968",
   "metadata": {},
   "outputs": [],
   "source": [
    "weights = np.arange(100) + 1\n",
    "# print(weights)"
   ]
  },
  {
   "cell_type": "code",
   "execution_count": 196,
   "id": "9aa40524",
   "metadata": {},
   "outputs": [
    {
     "name": "stdout",
     "output_type": "stream",
     "text": [
      "464.10534653465345\n"
     ]
    }
   ],
   "source": [
    "#weighted mean\n",
    "print(np.average(rand_int, weights=weights))"
   ]
  },
  {
   "cell_type": "code",
   "execution_count": 198,
   "id": "16bc33ae",
   "metadata": {},
   "outputs": [],
   "source": [
    "u = np.mean(rand_int)"
   ]
  },
  {
   "cell_type": "code",
   "execution_count": 199,
   "id": "b47b25a9",
   "metadata": {},
   "outputs": [],
   "source": [
    "std_dev = np.sqrt(np.mean(abs(rand_int - u)**2))"
   ]
  },
  {
   "cell_type": "code",
   "execution_count": 200,
   "id": "ecdcd876",
   "metadata": {},
   "outputs": [
    {
     "data": {
      "text/plain": [
       "282.9695522490008"
      ]
     },
     "execution_count": 200,
     "metadata": {},
     "output_type": "execute_result"
    }
   ],
   "source": [
    "std_dev"
   ]
  },
  {
   "cell_type": "code",
   "execution_count": 201,
   "id": "80bb2f1a",
   "metadata": {},
   "outputs": [
    {
     "name": "stdout",
     "output_type": "stream",
     "text": [
      "282.9695522490008\n"
     ]
    }
   ],
   "source": [
    "std_dev = np.std(rand_int)\n",
    "print(std_dev)"
   ]
  },
  {
   "cell_type": "code",
   "execution_count": 202,
   "id": "ab56abcc",
   "metadata": {},
   "outputs": [
    {
     "name": "stdout",
     "output_type": "stream",
     "text": [
      "80071.76749999999 80071.76749999999\n"
     ]
    }
   ],
   "source": [
    "print(std_dev**2, np.var(rand_int))"
   ]
  },
  {
   "cell_type": "code",
   "execution_count": 207,
   "id": "91e167b2",
   "metadata": {},
   "outputs": [
    {
     "name": "stdout",
     "output_type": "stream",
     "text": [
      "100\n"
     ]
    }
   ],
   "source": [
    "rand_int = list(rand_int)\n",
    "print(len(rand_int))"
   ]
  },
  {
   "cell_type": "code",
   "execution_count": 208,
   "id": "a70d86b6",
   "metadata": {},
   "outputs": [
    {
     "data": {
      "text/plain": [
       "98"
      ]
     },
     "execution_count": 208,
     "metadata": {},
     "output_type": "execute_result"
    }
   ],
   "source": [
    "len(set(rand_int))"
   ]
  },
  {
   "cell_type": "code",
   "execution_count": null,
   "id": "b0b92f2b",
   "metadata": {},
   "outputs": [],
   "source": []
  }
 ],
 "metadata": {
  "kernelspec": {
   "display_name": "Python 3 (ipykernel)",
   "language": "python",
   "name": "python3"
  },
  "language_info": {
   "codemirror_mode": {
    "name": "ipython",
    "version": 3
   },
   "file_extension": ".py",
   "mimetype": "text/x-python",
   "name": "python",
   "nbconvert_exporter": "python",
   "pygments_lexer": "ipython3",
   "version": "3.8.10"
  }
 },
 "nbformat": 4,
 "nbformat_minor": 5
}
