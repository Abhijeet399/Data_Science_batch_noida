{
 "cells": [
  {
   "cell_type": "code",
   "execution_count": 27,
   "id": "32d5f57e",
   "metadata": {},
   "outputs": [],
   "source": [
    "aa = 1"
   ]
  },
  {
   "cell_type": "code",
   "execution_count": 2,
   "id": "0bb0a51b",
   "metadata": {},
   "outputs": [
    {
     "name": "stdout",
     "output_type": "stream",
     "text": [
      "1\n"
     ]
    }
   ],
   "source": [
    "a='1'\n",
    "print(a)"
   ]
  },
  {
   "cell_type": "code",
   "execution_count": 3,
   "id": "12cb6698",
   "metadata": {},
   "outputs": [],
   "source": [
    "a=\"1\"\n",
    "print(a)"
   ]
  },
  {
   "cell_type": "code",
   "execution_count": 5,
   "id": "0f32f90c",
   "metadata": {},
   "outputs": [
    {
     "name": "stdout",
     "output_type": "stream",
     "text": [
      "1\n"
     ]
    }
   ],
   "source": []
  },
  {
   "cell_type": "code",
   "execution_count": 7,
   "id": "8e4c4cb5",
   "metadata": {},
   "outputs": [
    {
     "name": "stdout",
     "output_type": "stream",
     "text": [
      "<class 'str'>\n"
     ]
    }
   ],
   "source": [
    "print(type(a))"
   ]
  },
  {
   "cell_type": "code",
   "execution_count": 9,
   "id": "889fb10c",
   "metadata": {},
   "outputs": [
    {
     "name": "stdout",
     "output_type": "stream",
     "text": [
      "1\n"
     ]
    }
   ],
   "source": [
    "print(aa)"
   ]
  },
  {
   "cell_type": "code",
   "execution_count": 2,
   "id": "ff8e2559",
   "metadata": {},
   "outputs": [],
   "source": [
    "def add(a,b):\n",
    "    print(a+b)"
   ]
  },
  {
   "cell_type": "code",
   "execution_count": 3,
   "id": "daf69b79",
   "metadata": {},
   "outputs": [
    {
     "name": "stdout",
     "output_type": "stream",
     "text": [
      "3\n"
     ]
    }
   ],
   "source": [
    "add(1, 2)"
   ]
  },
  {
   "cell_type": "code",
   "execution_count": 4,
   "id": "fcfa7e2e",
   "metadata": {},
   "outputs": [],
   "source": [
    "def adder(a,b):\n",
    "    return (a+b)"
   ]
  },
  {
   "cell_type": "code",
   "execution_count": 6,
   "id": "e86b0a6a",
   "metadata": {},
   "outputs": [],
   "source": [
    "a = adder(1,3)"
   ]
  },
  {
   "cell_type": "code",
   "execution_count": 7,
   "id": "bfa578a5",
   "metadata": {},
   "outputs": [],
   "source": [
    "x = 10"
   ]
  },
  {
   "cell_type": "code",
   "execution_count": 8,
   "id": "9ad936b6",
   "metadata": {},
   "outputs": [],
   "source": [
    "def show():\n",
    "    print(x)"
   ]
  },
  {
   "cell_type": "code",
   "execution_count": 9,
   "id": "281a0ab3",
   "metadata": {},
   "outputs": [
    {
     "name": "stdout",
     "output_type": "stream",
     "text": [
      "10\n"
     ]
    }
   ],
   "source": [
    "show()"
   ]
  },
  {
   "cell_type": "code",
   "execution_count": 10,
   "id": "76e4e2ca",
   "metadata": {},
   "outputs": [],
   "source": [
    "del x"
   ]
  },
  {
   "cell_type": "code",
   "execution_count": 15,
   "id": "e00b4c0a",
   "metadata": {},
   "outputs": [],
   "source": [
    "def outer():\n",
    "    x=10\n",
    "    def inner():\n",
    "#         nonlocal x\n",
    "        x+=1\n",
    "        print(x)\n",
    "        \n",
    "    inner()\n",
    "    print(x)"
   ]
  },
  {
   "cell_type": "code",
   "execution_count": 16,
   "id": "f6adba16",
   "metadata": {},
   "outputs": [
    {
     "name": "stdout",
     "output_type": "stream",
     "text": [
      "11\n",
      "11\n"
     ]
    }
   ],
   "source": [
    "outer()"
   ]
  },
  {
   "cell_type": "code",
   "execution_count": 17,
   "id": "6cd7b401",
   "metadata": {},
   "outputs": [
    {
     "name": "stdout",
     "output_type": "stream",
     "text": [
      "c\n"
     ]
    }
   ],
   "source": [
    "st = 'coding blocks'\n",
    "print(st[0])"
   ]
  },
  {
   "cell_type": "code",
   "execution_count": 20,
   "id": "c0bed357",
   "metadata": {},
   "outputs": [
    {
     "name": "stdout",
     "output_type": "stream",
     "text": [
      "67\n"
     ]
    }
   ],
   "source": [
    "print(ord('C'))"
   ]
  },
  {
   "cell_type": "code",
   "execution_count": 22,
   "id": "dd15ec8e",
   "metadata": {},
   "outputs": [
    {
     "name": "stdout",
     "output_type": "stream",
     "text": [
      "B\n"
     ]
    }
   ],
   "source": [
    "print(chr(66))"
   ]
  },
  {
   "cell_type": "code",
   "execution_count": 29,
   "id": "2a7c3004",
   "metadata": {},
   "outputs": [
    {
     "name": "stdout",
     "output_type": "stream",
     "text": [
      "1000\n"
     ]
    }
   ],
   "source": [
    "a=1000\n",
    "b=1000\n",
    "c=20\n",
    "print(a)"
   ]
  },
  {
   "cell_type": "code",
   "execution_count": 30,
   "id": "5ad4d511",
   "metadata": {},
   "outputs": [
    {
     "name": "stdout",
     "output_type": "stream",
     "text": [
      "140360822875920\n"
     ]
    }
   ],
   "source": [
    "print(id(a))"
   ]
  },
  {
   "cell_type": "code",
   "execution_count": 31,
   "id": "1c8965c1",
   "metadata": {},
   "outputs": [
    {
     "name": "stdout",
     "output_type": "stream",
     "text": [
      "140360822876272\n"
     ]
    }
   ],
   "source": [
    "print(id(b))"
   ]
  },
  {
   "cell_type": "code",
   "execution_count": 26,
   "id": "4ff78425",
   "metadata": {},
   "outputs": [
    {
     "name": "stdout",
     "output_type": "stream",
     "text": [
      "9801856\n"
     ]
    }
   ],
   "source": [
    "print(id(c))"
   ]
  },
  {
   "cell_type": "code",
   "execution_count": 28,
   "id": "3c66bf75",
   "metadata": {},
   "outputs": [
    {
     "data": {
      "text/plain": [
       "1"
      ]
     },
     "execution_count": 28,
     "metadata": {},
     "output_type": "execute_result"
    }
   ],
   "source": [
    "aa"
   ]
  },
  {
   "cell_type": "code",
   "execution_count": 54,
   "id": "7a95ac81",
   "metadata": {},
   "outputs": [],
   "source": [
    "def calculator(no_1,no_2):\n",
    "    add = no_1+no_2\n",
    "    sub=no_1-no_2\n",
    "    mul=no_1*no_2\n",
    "    div=no_1/no_2\n",
    "    \n",
    "    return add, sub, mul, div"
   ]
  },
  {
   "cell_type": "code",
   "execution_count": 55,
   "id": "083f183c",
   "metadata": {},
   "outputs": [],
   "source": [
    "a, b, c, d= calculator(50, 20)"
   ]
  },
  {
   "cell_type": "code",
   "execution_count": 57,
   "id": "0e7616f1",
   "metadata": {},
   "outputs": [],
   "source": [
    "del e"
   ]
  },
  {
   "cell_type": "code",
   "execution_count": 59,
   "id": "4626182d",
   "metadata": {},
   "outputs": [
    {
     "name": "stdout",
     "output_type": "stream",
     "text": [
      "70 30 1000 2.5\n"
     ]
    }
   ],
   "source": [
    "print(a,b,c,d)"
   ]
  },
  {
   "cell_type": "code",
   "execution_count": 69,
   "id": "86efc267",
   "metadata": {},
   "outputs": [],
   "source": [
    "st = \"Abhijeet Bhattacharya\"\n",
    "marks = 7\n",
    "age = 23"
   ]
  },
  {
   "cell_type": "code",
   "execution_count": 63,
   "id": "3c2fbe03",
   "metadata": {},
   "outputs": [
    {
     "name": "stdout",
     "output_type": "stream",
     "text": [
      "my name is Abhijeet\n"
     ]
    }
   ],
   "source": [
    "print(\"my name is Abhijeet\")"
   ]
  },
  {
   "cell_type": "code",
   "execution_count": 64,
   "id": "11c5f035",
   "metadata": {},
   "outputs": [
    {
     "name": "stdout",
     "output_type": "stream",
     "text": [
      "Coding blocks 7 23\n"
     ]
    }
   ],
   "source": [
    "print(st, marks, age)"
   ]
  },
  {
   "cell_type": "code",
   "execution_count": 70,
   "id": "a72d6a96",
   "metadata": {},
   "outputs": [
    {
     "name": "stdout",
     "output_type": "stream",
     "text": [
      "My name is Abhijeet Bhattacharya and my marks are 7 , and my age is 23\n"
     ]
    }
   ],
   "source": [
    "print(\"My name is\", st, \"and my marks are\", marks,\", and my age is\", age)"
   ]
  },
  {
   "cell_type": "code",
   "execution_count": 74,
   "id": "60c0e894",
   "metadata": {},
   "outputs": [
    {
     "name": "stdout",
     "output_type": "stream",
     "text": [
      "My name is Abhijeet Bhattacharya and my marks are 7 and my age is 23\n"
     ]
    }
   ],
   "source": [
    "print(\"My name is {} and my marks are {} and my age is {}\".format(st,marks, age))"
   ]
  },
  {
   "cell_type": "code",
   "execution_count": 79,
   "id": "c6ade3f3",
   "metadata": {},
   "outputs": [
    {
     "name": "stdout",
     "output_type": "stream",
     "text": [
      "My name is     Good morning      and my marks are 7 and my age is 23\n"
     ]
    }
   ],
   "source": [
    "print(f\"My name is {st} and my marks are {marks} and my age is {age}\")"
   ]
  },
  {
   "cell_type": "code",
   "execution_count": 78,
   "id": "7ec62cca",
   "metadata": {},
   "outputs": [],
   "source": [
    "#Methods to use strings \n",
    "st = \"    Good morning     \""
   ]
  },
  {
   "cell_type": "code",
   "execution_count": 77,
   "id": "8a52ba01",
   "metadata": {},
   "outputs": [
    {
     "name": "stdout",
     "output_type": "stream",
     "text": [
      "    Good morning     \n"
     ]
    }
   ],
   "source": [
    "print(st)"
   ]
  },
  {
   "cell_type": "code",
   "execution_count": 80,
   "id": "87f91b76",
   "metadata": {},
   "outputs": [
    {
     "name": "stdout",
     "output_type": "stream",
     "text": [
      "1\n"
     ]
    }
   ],
   "source": [
    "inp = input()"
   ]
  },
  {
   "cell_type": "code",
   "execution_count": 81,
   "id": "73dc0f22",
   "metadata": {},
   "outputs": [
    {
     "name": "stdout",
     "output_type": "stream",
     "text": [
      "1\n"
     ]
    }
   ],
   "source": [
    "print(inp)"
   ]
  },
  {
   "cell_type": "code",
   "execution_count": 82,
   "id": "339e4444",
   "metadata": {},
   "outputs": [
    {
     "data": {
      "text/plain": [
       "str"
      ]
     },
     "execution_count": 82,
     "metadata": {},
     "output_type": "execute_result"
    }
   ],
   "source": [
    "type(inp)"
   ]
  },
  {
   "cell_type": "code",
   "execution_count": null,
   "id": "f7a07181",
   "metadata": {},
   "outputs": [],
   "source": []
  },
  {
   "cell_type": "code",
   "execution_count": 85,
   "id": "900da8d0",
   "metadata": {},
   "outputs": [],
   "source": [
    "a=11"
   ]
  },
  {
   "cell_type": "code",
   "execution_count": 86,
   "id": "6fa138a4",
   "metadata": {},
   "outputs": [
    {
     "name": "stdout",
     "output_type": "stream",
     "text": [
      "hi\n"
     ]
    }
   ],
   "source": [
    "if a==10:\n",
    "    print(\"Hello\")\n",
    "else:\n",
    "    print(\"hi\")"
   ]
  },
  {
   "cell_type": "code",
   "execution_count": 88,
   "id": "3a52f20a",
   "metadata": {},
   "outputs": [
    {
     "name": "stdout",
     "output_type": "stream",
     "text": [
      " yes\n"
     ]
    }
   ],
   "source": [
    "temp = input()"
   ]
  },
  {
   "cell_type": "code",
   "execution_count": 118,
   "id": "38b33462",
   "metadata": {},
   "outputs": [
    {
     "name": "stdout",
     "output_type": "stream",
     "text": [
      "YES\n",
      "No\n"
     ]
    }
   ],
   "source": [
    "if temp.strip()==\"yes\":\n",
    "    print(\"YES\")\n",
    "if temp.strip()==\"abhijeet\":\n",
    "    print(\"Abhijeet\")\n",
    "else:\n",
    "    print(\"No\")"
   ]
  },
  {
   "cell_type": "code",
   "execution_count": 91,
   "id": "c22bc67e",
   "metadata": {},
   "outputs": [
    {
     "name": "stdout",
     "output_type": "stream",
     "text": [
      " \n"
     ]
    }
   ],
   "source": [
    "print(temp[0])"
   ]
  },
  {
   "cell_type": "code",
   "execution_count": 92,
   "id": "9020cbbf",
   "metadata": {},
   "outputs": [
    {
     "name": "stdout",
     "output_type": "stream",
     "text": [
      "yes\n"
     ]
    }
   ],
   "source": [
    "st = \"    Good morning     \"\n",
    "print(temp.strip())"
   ]
  },
  {
   "cell_type": "code",
   "execution_count": 97,
   "id": "c291396c",
   "metadata": {},
   "outputs": [
    {
     "name": "stdout",
     "output_type": "stream",
     "text": [
      "Good morning\n"
     ]
    }
   ],
   "source": [
    "print(st.strip())"
   ]
  },
  {
   "cell_type": "code",
   "execution_count": 110,
   "id": "d2aed6f4",
   "metadata": {},
   "outputs": [],
   "source": [
    "st = \"My name is Abhijeet Bhattacharya\""
   ]
  },
  {
   "cell_type": "code",
   "execution_count": 111,
   "id": "f3008cd9",
   "metadata": {},
   "outputs": [
    {
     "name": "stdout",
     "output_type": "stream",
     "text": [
      "['My name is Abhijeet Bhattacharya']\n"
     ]
    }
   ],
   "source": [
    "print(st.split(\"_\"))"
   ]
  },
  {
   "cell_type": "code",
   "execution_count": 105,
   "id": "9af7702c",
   "metadata": {},
   "outputs": [
    {
     "name": "stdout",
     "output_type": "stream",
     "text": [
      "My name is Rohit Bhattacharya\n"
     ]
    }
   ],
   "source": [
    "print(st.replace(\"Abhijeet\", \"Rohit\"))"
   ]
  },
  {
   "cell_type": "code",
   "execution_count": 112,
   "id": "81f07924",
   "metadata": {},
   "outputs": [],
   "source": [
    "a = \"aaaaaaaaaffffffffffwwwww\""
   ]
  },
  {
   "cell_type": "code",
   "execution_count": 116,
   "id": "396bc086",
   "metadata": {},
   "outputs": [
    {
     "name": "stdout",
     "output_type": "stream",
     "text": [
      "9\n"
     ]
    }
   ],
   "source": [
    "print(a.count('a'))"
   ]
  },
  {
   "cell_type": "code",
   "execution_count": 119,
   "id": "8c172452",
   "metadata": {},
   "outputs": [],
   "source": [
    "#List\n",
    "a=[1,2,3,\"hi\",print]"
   ]
  },
  {
   "cell_type": "code",
   "execution_count": 121,
   "id": "4f24f22c",
   "metadata": {},
   "outputs": [
    {
     "name": "stdout",
     "output_type": "stream",
     "text": [
      "1 2 3 hi\n"
     ]
    }
   ],
   "source": [
    "print(a[0], a[1], a[2], a[3])"
   ]
  },
  {
   "cell_type": "code",
   "execution_count": 125,
   "id": "887d6e27",
   "metadata": {},
   "outputs": [
    {
     "name": "stdout",
     "output_type": "stream",
     "text": [
      "hello world\n"
     ]
    }
   ],
   "source": [
    "# print(type(a[4]))\n",
    "a[4](\"hello world\")"
   ]
  },
  {
   "cell_type": "code",
   "execution_count": 129,
   "id": "dde6a4c0",
   "metadata": {},
   "outputs": [
    {
     "name": "stdout",
     "output_type": "stream",
     "text": [
      "6\n"
     ]
    }
   ],
   "source": [
    "b = [1,2,3,4,5,6,7]\n",
    "print(b[-2])"
   ]
  },
  {
   "cell_type": "code",
   "execution_count": 130,
   "id": "b76a1b90",
   "metadata": {},
   "outputs": [
    {
     "name": "stdout",
     "output_type": "stream",
     "text": [
      "[3, 4]\n"
     ]
    }
   ],
   "source": [
    "print(b[2:4])"
   ]
  },
  {
   "cell_type": "code",
   "execution_count": 132,
   "id": "b3175fe2",
   "metadata": {},
   "outputs": [
    {
     "name": "stdout",
     "output_type": "stream",
     "text": [
      "[1, 3, 5]\n"
     ]
    }
   ],
   "source": [
    "print(b[0:6:2])"
   ]
  },
  {
   "cell_type": "code",
   "execution_count": 136,
   "id": "c44298d1",
   "metadata": {},
   "outputs": [
    {
     "data": {
      "text/plain": [
       "[1, 2, 3, 4, 5, 6, 7, '10']"
      ]
     },
     "execution_count": 136,
     "metadata": {},
     "output_type": "execute_result"
    }
   ],
   "source": [
    "b"
   ]
  },
  {
   "cell_type": "code",
   "execution_count": 137,
   "id": "767e999f",
   "metadata": {},
   "outputs": [
    {
     "name": "stdout",
     "output_type": "stream",
     "text": [
      "10\n"
     ]
    }
   ],
   "source": [
    "temp = input()"
   ]
  },
  {
   "cell_type": "code",
   "execution_count": 139,
   "id": "5a15eaf6",
   "metadata": {},
   "outputs": [
    {
     "name": "stdout",
     "output_type": "stream",
     "text": [
      "[1, 2, 3, 4, 5, 6, 7, '10', '10']\n"
     ]
    }
   ],
   "source": [
    "print(b)"
   ]
  },
  {
   "cell_type": "code",
   "execution_count": 150,
   "id": "b361e564",
   "metadata": {},
   "outputs": [
    {
     "name": "stdout",
     "output_type": "stream",
     "text": [
      "500\n"
     ]
    }
   ],
   "source": [
    "temp = input()\n",
    "b.append(temp)\n",
    "temp = int(temp)\n",
    "b.append(temp)"
   ]
  },
  {
   "cell_type": "code",
   "execution_count": 151,
   "id": "5ad2a2ef",
   "metadata": {},
   "outputs": [
    {
     "data": {
      "text/plain": [
       "[1, '100', 100, 2, 3, 4, 5, 6, 7, '10', '10', '20', 100, 1000, '500', 500]"
      ]
     },
     "execution_count": 151,
     "metadata": {},
     "output_type": "execute_result"
    }
   ],
   "source": [
    "b"
   ]
  },
  {
   "cell_type": "code",
   "execution_count": 144,
   "id": "0dde11fb",
   "metadata": {},
   "outputs": [],
   "source": [
    "b.insert(1, '100')"
   ]
  },
  {
   "cell_type": "code",
   "execution_count": 152,
   "id": "9ac448d6",
   "metadata": {},
   "outputs": [
    {
     "data": {
      "text/plain": [
       "[1, '100', 100, 2, 3, 4, 5, 6, 7, '10', '10', '20', 100, 1000, '500', 500]"
      ]
     },
     "execution_count": 152,
     "metadata": {},
     "output_type": "execute_result"
    }
   ],
   "source": [
    "b"
   ]
  },
  {
   "cell_type": "code",
   "execution_count": 161,
   "id": "99936b23",
   "metadata": {},
   "outputs": [
    {
     "name": "stdout",
     "output_type": "stream",
     "text": [
      "20\n"
     ]
    }
   ],
   "source": [
    "m = b.pop()\n",
    "print(m)"
   ]
  },
  {
   "cell_type": "code",
   "execution_count": 162,
   "id": "3c92fa30",
   "metadata": {},
   "outputs": [
    {
     "data": {
      "text/plain": [
       "str"
      ]
     },
     "execution_count": 162,
     "metadata": {},
     "output_type": "execute_result"
    }
   ],
   "source": [
    "type(m)"
   ]
  },
  {
   "cell_type": "code",
   "execution_count": 160,
   "id": "a05513d1",
   "metadata": {},
   "outputs": [
    {
     "data": {
      "text/plain": [
       "[1, 100, 2, 3, 4, 5, 6, 7, '10', '10', '20']"
      ]
     },
     "execution_count": 160,
     "metadata": {},
     "output_type": "execute_result"
    }
   ],
   "source": [
    "b"
   ]
  },
  {
   "cell_type": "code",
   "execution_count": 163,
   "id": "4e0f2a4b",
   "metadata": {},
   "outputs": [],
   "source": [
    "b.remove(7)"
   ]
  },
  {
   "cell_type": "code",
   "execution_count": 168,
   "id": "c7c57886",
   "metadata": {},
   "outputs": [
    {
     "data": {
      "text/plain": [
       "[1, 100, 2, 3, 4, 5, 6]"
      ]
     },
     "execution_count": 168,
     "metadata": {},
     "output_type": "execute_result"
    }
   ],
   "source": [
    "b"
   ]
  },
  {
   "cell_type": "code",
   "execution_count": 169,
   "id": "c92d3099",
   "metadata": {},
   "outputs": [],
   "source": [
    "sort_list = sorted(b)"
   ]
  },
  {
   "cell_type": "code",
   "execution_count": 170,
   "id": "cb420430",
   "metadata": {},
   "outputs": [
    {
     "data": {
      "text/plain": [
       "[1, 2, 3, 4, 5, 6, 100]"
      ]
     },
     "execution_count": 170,
     "metadata": {},
     "output_type": "execute_result"
    }
   ],
   "source": [
    "sort_list"
   ]
  },
  {
   "cell_type": "code",
   "execution_count": 171,
   "id": "a99bfe6e",
   "metadata": {},
   "outputs": [],
   "source": [
    "sort_list.reverse()"
   ]
  },
  {
   "cell_type": "code",
   "execution_count": 172,
   "id": "deb63338",
   "metadata": {},
   "outputs": [
    {
     "data": {
      "text/plain": [
       "[100, 6, 5, 4, 3, 2, 1]"
      ]
     },
     "execution_count": 172,
     "metadata": {},
     "output_type": "execute_result"
    }
   ],
   "source": [
    "sort_list"
   ]
  },
  {
   "cell_type": "code",
   "execution_count": 177,
   "id": "2d1ba61b",
   "metadata": {},
   "outputs": [],
   "source": [
    "list1 = [1,2,3]\n",
    "list2=[3,4,5]\n",
    "list3=[4,5,6]\n",
    "list3[-1] = 7\n",
    "list2 = sorted(list2)"
   ]
  },
  {
   "cell_type": "code",
   "execution_count": 178,
   "id": "0ec7e7e0",
   "metadata": {},
   "outputs": [
    {
     "data": {
      "text/plain": [
       "[4, 5, 7]"
      ]
     },
     "execution_count": 178,
     "metadata": {},
     "output_type": "execute_result"
    }
   ],
   "source": [
    "list3"
   ]
  },
  {
   "cell_type": "code",
   "execution_count": 175,
   "id": "c509b2a2",
   "metadata": {},
   "outputs": [],
   "source": [
    "tup = (1,2,3)"
   ]
  },
  {
   "cell_type": "code",
   "execution_count": 176,
   "id": "96d48564",
   "metadata": {},
   "outputs": [
    {
     "name": "stdout",
     "output_type": "stream",
     "text": [
      "(1, 2, 3)\n"
     ]
    }
   ],
   "source": [
    "print(tup)"
   ]
  },
  {
   "cell_type": "code",
   "execution_count": 179,
   "id": "a5771f2f",
   "metadata": {},
   "outputs": [
    {
     "name": "stdout",
     "output_type": "stream",
     "text": [
      "1\n"
     ]
    }
   ],
   "source": [
    "print(tup[0])"
   ]
  },
  {
   "cell_type": "code",
   "execution_count": 185,
   "id": "2fe5ffe1",
   "metadata": {},
   "outputs": [],
   "source": [
    "#Dict\n",
    "d = {\n",
    "    \"name\":\"Abhijeet\",\n",
    "    \"ages\":[23, 22, 21],\n",
    "    \"marks\":70\n",
    "}"
   ]
  },
  {
   "cell_type": "code",
   "execution_count": 186,
   "id": "f7b86495",
   "metadata": {},
   "outputs": [
    {
     "name": "stdout",
     "output_type": "stream",
     "text": [
      "{'name': 'Abhijeet', 'ages': [23, 22, 21], 'marks': 70}\n"
     ]
    }
   ],
   "source": [
    "print(d)"
   ]
  },
  {
   "cell_type": "code",
   "execution_count": 188,
   "id": "e97c517b",
   "metadata": {},
   "outputs": [
    {
     "data": {
      "text/plain": [
       "[23, 22, 21]"
      ]
     },
     "execution_count": 188,
     "metadata": {},
     "output_type": "execute_result"
    }
   ],
   "source": [
    "marks = \"ages\"\n",
    "d[marks]"
   ]
  },
  {
   "cell_type": "code",
   "execution_count": 189,
   "id": "47c2f449",
   "metadata": {},
   "outputs": [
    {
     "data": {
      "text/plain": [
       "{'name': 'Abhijeet', 'ages': [23, 22, 21], 'marks': 70}"
      ]
     },
     "execution_count": 189,
     "metadata": {},
     "output_type": "execute_result"
    }
   ],
   "source": [
    "d"
   ]
  },
  {
   "cell_type": "code",
   "execution_count": 190,
   "id": "4b134e54",
   "metadata": {},
   "outputs": [
    {
     "name": "stdout",
     "output_type": "stream",
     "text": [
      "dict_items([('name', 'Abhijeet'), ('ages', [23, 22, 21]), ('marks', 70)])\n"
     ]
    }
   ],
   "source": [
    "print(d.items())"
   ]
  },
  {
   "cell_type": "code",
   "execution_count": 206,
   "id": "d83c18df",
   "metadata": {},
   "outputs": [
    {
     "name": "stdout",
     "output_type": "stream",
     "text": [
      "name Abhijeet\n",
      "ages [23, 22, 21]\n",
      "marks 70\n"
     ]
    }
   ],
   "source": [
    "for i, j in d.items():\n",
    "    print(i, j)"
   ]
  },
  {
   "cell_type": "code",
   "execution_count": null,
   "id": "463b4e00",
   "metadata": {},
   "outputs": [],
   "source": []
  },
  {
   "cell_type": "code",
   "execution_count": null,
   "id": "7b7fba49",
   "metadata": {},
   "outputs": [],
   "source": []
  },
  {
   "cell_type": "code",
   "execution_count": 192,
   "id": "b179a2fe",
   "metadata": {},
   "outputs": [
    {
     "name": "stdout",
     "output_type": "stream",
     "text": [
      "range(0, 10)\n"
     ]
    }
   ],
   "source": [
    "print(range(10))"
   ]
  },
  {
   "cell_type": "code",
   "execution_count": 197,
   "id": "e4f82c3f",
   "metadata": {},
   "outputs": [
    {
     "name": "stdout",
     "output_type": "stream",
     "text": [
      "1\n",
      "2\n",
      "3\n",
      "4\n",
      "5\n",
      "FIVE\n",
      "6\n",
      "7\n",
      "8\n",
      "9\n"
     ]
    }
   ],
   "source": [
    "for i in range(1,10):\n",
    "    print(i)\n",
    "    if i==5:\n",
    "        print(\"FIVE\")"
   ]
  },
  {
   "cell_type": "code",
   "execution_count": 204,
   "id": "5ca4a703",
   "metadata": {},
   "outputs": [
    {
     "data": {
      "text/plain": [
       "[1, 100, 2, 3, 4, 5, 6]"
      ]
     },
     "execution_count": 204,
     "metadata": {},
     "output_type": "execute_result"
    }
   ],
   "source": [
    "b"
   ]
  },
  {
   "cell_type": "code",
   "execution_count": 201,
   "id": "ef95d4dc",
   "metadata": {},
   "outputs": [
    {
     "name": "stdout",
     "output_type": "stream",
     "text": [
      "1\n",
      "100\n",
      "2\n",
      "3\n",
      "4\n",
      "5\n",
      "6\n"
     ]
    }
   ],
   "source": [
    "for i in b:\n",
    "    print(i)"
   ]
  },
  {
   "cell_type": "code",
   "execution_count": 207,
   "id": "68b1b416",
   "metadata": {},
   "outputs": [
    {
     "data": {
      "text/plain": [
       "{'name': 'Abhijeet', 'ages': [23, 22, 21], 'marks': 70}"
      ]
     },
     "execution_count": 207,
     "metadata": {},
     "output_type": "execute_result"
    }
   ],
   "source": [
    "d"
   ]
  },
  {
   "cell_type": "code",
   "execution_count": 208,
   "id": "b8beecc5",
   "metadata": {},
   "outputs": [
    {
     "name": "stdout",
     "output_type": "stream",
     "text": [
      "dict_keys(['name', 'ages', 'marks'])\n"
     ]
    }
   ],
   "source": [
    "print(d.keys())"
   ]
  },
  {
   "cell_type": "code",
   "execution_count": 213,
   "id": "545e4693",
   "metadata": {},
   "outputs": [
    {
     "name": "stdout",
     "output_type": "stream",
     "text": [
      "name\n",
      "ages\n",
      "marks\n"
     ]
    }
   ],
   "source": [
    "for i in d.keys():\n",
    "    print(i)"
   ]
  },
  {
   "cell_type": "code",
   "execution_count": 210,
   "id": "063f2550",
   "metadata": {},
   "outputs": [
    {
     "name": "stdout",
     "output_type": "stream",
     "text": [
      "dict_values(['Abhijeet', [23, 22, 21], 70])\n"
     ]
    }
   ],
   "source": [
    "print(d.values())"
   ]
  },
  {
   "cell_type": "code",
   "execution_count": 214,
   "id": "023bed6d",
   "metadata": {},
   "outputs": [],
   "source": [
    "n = 2"
   ]
  },
  {
   "cell_type": "code",
   "execution_count": 222,
   "id": "aa2c8ac3",
   "metadata": {},
   "outputs": [],
   "source": [
    "def add(a, b, *args):\n",
    "    print(a + b)\n",
    "    print(*args)"
   ]
  },
  {
   "cell_type": "code",
   "execution_count": 223,
   "id": "2216529d",
   "metadata": {},
   "outputs": [
    {
     "name": "stdout",
     "output_type": "stream",
     "text": [
      "3\n",
      "3 4\n"
     ]
    }
   ],
   "source": [
    "add(1, 2, 3, 4)"
   ]
  },
  {
   "cell_type": "code",
   "execution_count": 248,
   "id": "42d7bdbe",
   "metadata": {},
   "outputs": [],
   "source": [
    "def add(a=1, b=2, *args, **kwargs):\n",
    "    print(a+b)\n",
    "    print(*args)\n",
    "    print(kwargs)"
   ]
  },
  {
   "cell_type": "code",
   "execution_count": 249,
   "id": "1e608412",
   "metadata": {},
   "outputs": [
    {
     "name": "stdout",
     "output_type": "stream",
     "text": [
      "3\n",
      "\n",
      "{}\n"
     ]
    }
   ],
   "source": [
    "add()"
   ]
  },
  {
   "cell_type": "code",
   "execution_count": 250,
   "id": "9e63e24b",
   "metadata": {},
   "outputs": [
    {
     "name": "stdout",
     "output_type": "stream",
     "text": [
      "150\n",
      "\n",
      "{}\n"
     ]
    }
   ],
   "source": [
    "add(100, 50)"
   ]
  },
  {
   "cell_type": "code",
   "execution_count": 251,
   "id": "af5381e5",
   "metadata": {},
   "outputs": [
    {
     "name": "stdout",
     "output_type": "stream",
     "text": [
      "150\n",
      "75\n",
      "{}\n"
     ]
    }
   ],
   "source": [
    "add(100, 50, 75)"
   ]
  },
  {
   "cell_type": "code",
   "execution_count": 252,
   "id": "d52cd4a2",
   "metadata": {},
   "outputs": [
    {
     "name": "stdout",
     "output_type": "stream",
     "text": [
      "3\n",
      "55\n",
      "{'no': 100}\n"
     ]
    }
   ],
   "source": [
    "add(1, 2, 55, no=100)"
   ]
  },
  {
   "cell_type": "code",
   "execution_count": null,
   "id": "6b86d7d2",
   "metadata": {},
   "outputs": [],
   "source": []
  }
 ],
 "metadata": {
  "kernelspec": {
   "display_name": "Python 3 (ipykernel)",
   "language": "python",
   "name": "python3"
  },
  "language_info": {
   "codemirror_mode": {
    "name": "ipython",
    "version": 3
   },
   "file_extension": ".py",
   "mimetype": "text/x-python",
   "name": "python",
   "nbconvert_exporter": "python",
   "pygments_lexer": "ipython3",
   "version": "3.8.10"
  }
 },
 "nbformat": 4,
 "nbformat_minor": 5
}
