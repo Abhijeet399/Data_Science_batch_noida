{
  "nbformat": 4,
  "nbformat_minor": 0,
  "metadata": {
    "colab": {
      "provenance": []
    },
    "kernelspec": {
      "name": "python3",
      "display_name": "Python 3"
    },
    "language_info": {
      "name": "python"
    },
    "accelerator": "GPU"
  },
  "cells": [
    {
      "cell_type": "code",
      "execution_count": null,
      "metadata": {
        "id": "icRvm96QDlMx"
      },
      "outputs": [],
      "source": [
        "import torch"
      ]
    },
    {
      "cell_type": "code",
      "source": [
        "torch.__version__"
      ],
      "metadata": {
        "colab": {
          "base_uri": "https://localhost:8080/",
          "height": 35
        },
        "id": "Qca6qNePDwy6",
        "outputId": "3326c952-9508-469f-8b30-4126d77de022"
      },
      "execution_count": null,
      "outputs": [
        {
          "output_type": "execute_result",
          "data": {
            "text/plain": [
              "'1.12.1+cu113'"
            ],
            "application/vnd.google.colaboratory.intrinsic+json": {
              "type": "string"
            }
          },
          "metadata": {},
          "execution_count": 2
        }
      ]
    },
    {
      "cell_type": "code",
      "source": [
        "#Pytorch supports \n",
        "# FloatTensor: 32 bit float\n",
        "# DoubleTensor: 64 bit float\n",
        "# Halftensor: 16 bit float\n",
        "# IntTensor: 32 bit int\n",
        "# LongTensor: 64 bit int"
      ],
      "metadata": {
        "id": "NQQ9mun6FACq"
      },
      "execution_count": null,
      "outputs": []
    },
    {
      "cell_type": "code",
      "source": [
        "import numpy as np"
      ],
      "metadata": {
        "id": "3orJOavGGZ3H"
      },
      "execution_count": null,
      "outputs": []
    },
    {
      "cell_type": "code",
      "source": [
        "a = np.array(1)\n",
        "\n",
        "b = torch.tensor(1)\n",
        "\n",
        "print(a)\n",
        "print(b)"
      ],
      "metadata": {
        "colab": {
          "base_uri": "https://localhost:8080/"
        },
        "id": "lhRl5AreGi17",
        "outputId": "08b813a5-1d6b-4a5f-f9a1-33fa0f98e00e"
      },
      "execution_count": null,
      "outputs": [
        {
          "output_type": "stream",
          "name": "stdout",
          "text": [
            "1\n",
            "tensor(1)\n"
          ]
        }
      ]
    },
    {
      "cell_type": "code",
      "source": [
        "print(type(a), type(b))"
      ],
      "metadata": {
        "colab": {
          "base_uri": "https://localhost:8080/"
        },
        "id": "nDEF88AwGrDr",
        "outputId": "bf775475-1a90-4f68-9601-f53365ae83f0"
      },
      "execution_count": null,
      "outputs": [
        {
          "output_type": "stream",
          "name": "stdout",
          "text": [
            "<class 'numpy.ndarray'> <class 'torch.Tensor'>\n"
          ]
        }
      ]
    },
    {
      "cell_type": "code",
      "source": [
        "a = torch.tensor(2)\n",
        "b = torch.tensor(1)"
      ],
      "metadata": {
        "id": "jRyGgl1aGybP"
      },
      "execution_count": null,
      "outputs": []
    },
    {
      "cell_type": "code",
      "source": [
        "print(a, b)"
      ],
      "metadata": {
        "colab": {
          "base_uri": "https://localhost:8080/"
        },
        "id": "TQYaW6eiG8Zc",
        "outputId": "2bea6f50-b384-445f-b6d3-e144f0f95edc"
      },
      "execution_count": null,
      "outputs": [
        {
          "output_type": "stream",
          "name": "stdout",
          "text": [
            "tensor(2) tensor(1)\n"
          ]
        }
      ]
    },
    {
      "cell_type": "code",
      "source": [
        "print(a+b)"
      ],
      "metadata": {
        "colab": {
          "base_uri": "https://localhost:8080/"
        },
        "id": "FNgsl7YTHMlI",
        "outputId": "278ed445-ebdb-49ae-b1ee-c71ebe9729e3"
      },
      "execution_count": null,
      "outputs": [
        {
          "output_type": "stream",
          "name": "stdout",
          "text": [
            "tensor(3)\n"
          ]
        }
      ]
    },
    {
      "cell_type": "code",
      "source": [
        "print(b-a)"
      ],
      "metadata": {
        "colab": {
          "base_uri": "https://localhost:8080/"
        },
        "id": "4oNdfgO2HO9z",
        "outputId": "c313ec24-be0d-4e82-e143-c224367b2bf5"
      },
      "execution_count": null,
      "outputs": [
        {
          "output_type": "stream",
          "name": "stdout",
          "text": [
            "tensor(-1)\n"
          ]
        }
      ]
    },
    {
      "cell_type": "code",
      "source": [
        "print(a*b, a/b)"
      ],
      "metadata": {
        "colab": {
          "base_uri": "https://localhost:8080/"
        },
        "id": "MxZw7tLdHR1Y",
        "outputId": "8d54bda6-c67a-4423-912d-68707005f63a"
      },
      "execution_count": null,
      "outputs": [
        {
          "output_type": "stream",
          "name": "stdout",
          "text": [
            "tensor(2) tensor(2.)\n"
          ]
        }
      ]
    },
    {
      "cell_type": "code",
      "source": [
        "a = np.array(2)\n",
        "b = np.array(1)"
      ],
      "metadata": {
        "id": "2dlfYY6XHTxC"
      },
      "execution_count": null,
      "outputs": []
    },
    {
      "cell_type": "code",
      "source": [
        "print(a+b, b-a, a*b, a/b)"
      ],
      "metadata": {
        "colab": {
          "base_uri": "https://localhost:8080/"
        },
        "id": "tU82qcyeHgj2",
        "outputId": "f4b61603-de0a-46ec-851d-a431044a76af"
      },
      "execution_count": null,
      "outputs": [
        {
          "output_type": "stream",
          "name": "stdout",
          "text": [
            "3 -1 2 2.0\n"
          ]
        }
      ]
    },
    {
      "cell_type": "code",
      "source": [
        "a = np.zeros((3, 3))\n",
        "print(a, a.shape)"
      ],
      "metadata": {
        "colab": {
          "base_uri": "https://localhost:8080/"
        },
        "id": "Lkhru4xqHknX",
        "outputId": "29150eed-ae67-4801-91c2-210ca5169b61"
      },
      "execution_count": null,
      "outputs": [
        {
          "output_type": "stream",
          "name": "stdout",
          "text": [
            "[[0. 0. 0.]\n",
            " [0. 0. 0.]\n",
            " [0. 0. 0.]] (3, 3)\n"
          ]
        }
      ]
    },
    {
      "cell_type": "code",
      "source": [
        "a = torch.zeros((3, 3))\n",
        "print(a, a.shape)"
      ],
      "metadata": {
        "colab": {
          "base_uri": "https://localhost:8080/"
        },
        "id": "2KMN0t24Hxr5",
        "outputId": "46ca17ef-dfe9-44ab-fe32-a862e6813e1f"
      },
      "execution_count": null,
      "outputs": [
        {
          "output_type": "stream",
          "name": "stdout",
          "text": [
            "tensor([[0., 0., 0.],\n",
            "        [0., 0., 0.],\n",
            "        [0., 0., 0.]]) torch.Size([3, 3])\n"
          ]
        }
      ]
    },
    {
      "cell_type": "code",
      "source": [
        "np.random.seed(42)\n",
        "\n",
        "a = np.random.randn(3, 3)\n",
        "print(a)"
      ],
      "metadata": {
        "colab": {
          "base_uri": "https://localhost:8080/"
        },
        "id": "u83IbDJ9H61F",
        "outputId": "e9b4bf8a-c1fc-4efd-a33a-a0c0eefe13c2"
      },
      "execution_count": null,
      "outputs": [
        {
          "output_type": "stream",
          "name": "stdout",
          "text": [
            "[[ 0.49671415 -0.1382643   0.64768854]\n",
            " [ 1.52302986 -0.23415337 -0.23413696]\n",
            " [ 1.57921282  0.76743473 -0.46947439]]\n"
          ]
        }
      ]
    },
    {
      "cell_type": "code",
      "source": [
        "torch.manual_seed(42)\n",
        "\n",
        "a = torch.randn(3, 3)\n",
        "print(a)"
      ],
      "metadata": {
        "colab": {
          "base_uri": "https://localhost:8080/"
        },
        "id": "XEI7RFB_IK3e",
        "outputId": "1cf02b07-8c56-4b10-f013-62c4a6f6495f"
      },
      "execution_count": null,
      "outputs": [
        {
          "output_type": "stream",
          "name": "stdout",
          "text": [
            "tensor([[ 0.3367,  0.1288,  0.2345],\n",
            "        [ 0.2303, -1.1229, -0.1863],\n",
            "        [ 2.2082, -0.6380,  0.4617]])\n"
          ]
        }
      ]
    },
    {
      "cell_type": "code",
      "source": [
        "np.random.seed(42)\n",
        "\n",
        "a = np.random.randn(3, 3)\n",
        "b = np.random.randn(3, 3)\n",
        "print(a)\n",
        "print(b)"
      ],
      "metadata": {
        "colab": {
          "base_uri": "https://localhost:8080/"
        },
        "id": "orrD1ySCIbtG",
        "outputId": "a9556df6-6e6f-4eab-e6f8-0a4bcb102b64"
      },
      "execution_count": null,
      "outputs": [
        {
          "output_type": "stream",
          "name": "stdout",
          "text": [
            "[[ 0.49671415 -0.1382643   0.64768854]\n",
            " [ 1.52302986 -0.23415337 -0.23413696]\n",
            " [ 1.57921282  0.76743473 -0.46947439]]\n",
            "[[ 0.54256004 -0.46341769 -0.46572975]\n",
            " [ 0.24196227 -1.91328024 -1.72491783]\n",
            " [-0.56228753 -1.01283112  0.31424733]]\n"
          ]
        }
      ]
    },
    {
      "cell_type": "code",
      "source": [
        "print(np.add(a, b))\n",
        "print(np.subtract(a, b))\n",
        "print(np.dot(a,b))\n",
        "print(np.divide(a,b))\n",
        "print(np.transpose(a))"
      ],
      "metadata": {
        "colab": {
          "base_uri": "https://localhost:8080/"
        },
        "id": "22ApQRbtItPh",
        "outputId": "469ba446-e66e-4501-a635-e1f993a81118"
      },
      "execution_count": null,
      "outputs": [
        {
          "output_type": "stream",
          "name": "stdout",
          "text": [
            "[[ 1.0392742  -0.60168199  0.18195878]\n",
            " [ 1.76499213 -2.14743362 -1.95905479]\n",
            " [ 1.01692529 -0.24539639 -0.15522705]]\n",
            "[[-0.04584589  0.32515339  1.11341829]\n",
            " [ 1.28106758  1.67912687  1.49078088]\n",
            " [ 2.14150034  1.78026585 -0.78372172]]\n",
            "[[-0.12814468 -0.62164688  0.21069439]\n",
            " [ 0.90133115 -0.02065676 -0.3790019 ]\n",
            " [ 1.30648762 -1.7246546  -2.20677932]]\n",
            "[[ 0.9155008   0.29835784 -1.39069607]\n",
            " [ 6.29449313  0.12238321  0.13573803]\n",
            " [-2.80855031 -0.75771243 -1.49396459]]\n",
            "[[ 0.49671415  1.52302986  1.57921282]\n",
            " [-0.1382643  -0.23415337  0.76743473]\n",
            " [ 0.64768854 -0.23413696 -0.46947439]]\n"
          ]
        }
      ]
    },
    {
      "cell_type": "code",
      "source": [
        "torch.manual_seed(42)\n",
        "\n",
        "a = torch.randn(3, 3)\n",
        "b = torch.randn(3, 3)\n",
        "print(a, b)"
      ],
      "metadata": {
        "colab": {
          "base_uri": "https://localhost:8080/"
        },
        "id": "lfTC026gI-vA",
        "outputId": "302b56f2-7298-44ba-aa32-78657fa3adcc"
      },
      "execution_count": null,
      "outputs": [
        {
          "output_type": "stream",
          "name": "stdout",
          "text": [
            "tensor([[ 0.3367,  0.1288,  0.2345],\n",
            "        [ 0.2303, -1.1229, -0.1863],\n",
            "        [ 2.2082, -0.6380,  0.4617]]) tensor([[ 0.2674,  0.5349,  0.8094],\n",
            "        [ 1.1103, -1.6898, -0.9890],\n",
            "        [ 0.9580,  1.3221,  0.8172]])\n"
          ]
        }
      ]
    },
    {
      "cell_type": "code",
      "source": [
        "print(torch.add(a, b))\n",
        "print(torch.sub(a, b))\n",
        "print(torch.mm(a,b))\n",
        "print(torch.div(a,b))\n",
        "print(torch.t(a))"
      ],
      "metadata": {
        "colab": {
          "base_uri": "https://localhost:8080/"
        },
        "id": "f_2_Uu4OJXC_",
        "outputId": "5cb01964-be1a-43ae-fbc3-eaa535c3fa41"
      },
      "execution_count": null,
      "outputs": [
        {
          "output_type": "stream",
          "name": "stdout",
          "text": [
            "tensor([[ 0.6040,  0.6637,  1.0438],\n",
            "        [ 1.3406, -2.8127, -1.1753],\n",
            "        [ 3.1662,  0.6841,  1.2788]])\n",
            "tensor([[ 0.0693, -0.4061, -0.5749],\n",
            "        [-0.8800,  0.5669,  0.8026],\n",
            "        [ 1.2502, -1.9601, -0.3555]])\n",
            "tensor([[ 0.4576,  0.2724,  0.3367],\n",
            "        [-1.3636,  1.7743,  1.1446],\n",
            "        [ 0.3243,  2.8696,  2.7954]])\n",
            "tensor([[ 1.2594,  0.2408,  0.2897],\n",
            "        [ 0.2075,  0.6645,  0.1884],\n",
            "        [ 2.3051, -0.4826,  0.5649]])\n",
            "tensor([[ 0.3367,  0.2303,  2.2082],\n",
            "        [ 0.1288, -1.1229, -0.6380],\n",
            "        [ 0.2345, -0.1863,  0.4617]])\n"
          ]
        }
      ]
    },
    {
      "cell_type": "code",
      "source": [
        "a = torch.tensor([[1,2], [3,4]])\n",
        "b = torch.tensor([[5, 6], [7, 8]])"
      ],
      "metadata": {
        "id": "Uku2USYMJg4w"
      },
      "execution_count": null,
      "outputs": []
    },
    {
      "cell_type": "code",
      "source": [
        "print(a, b)"
      ],
      "metadata": {
        "colab": {
          "base_uri": "https://localhost:8080/"
        },
        "id": "wx1fPaORJ32-",
        "outputId": "de1aab94-981f-4a1e-f090-86d532277767"
      },
      "execution_count": null,
      "outputs": [
        {
          "output_type": "stream",
          "name": "stdout",
          "text": [
            "tensor([[1, 2],\n",
            "        [3, 4]]) tensor([[5, 6],\n",
            "        [7, 8]])\n"
          ]
        }
      ]
    },
    {
      "cell_type": "code",
      "source": [
        "print(torch.cat((a, b), dim=1))"
      ],
      "metadata": {
        "colab": {
          "base_uri": "https://localhost:8080/"
        },
        "id": "ZkyFzGuiJ5p3",
        "outputId": "3c4042c9-730c-413a-9479-52af708a5340"
      },
      "execution_count": null,
      "outputs": [
        {
          "output_type": "stream",
          "name": "stdout",
          "text": [
            "tensor([[1, 2, 5, 6],\n",
            "        [3, 4, 7, 8]])\n"
          ]
        }
      ]
    },
    {
      "cell_type": "code",
      "source": [
        "a = torch.cat((a, b), dim=1)"
      ],
      "metadata": {
        "id": "yjyZYyKrJ9kw"
      },
      "execution_count": null,
      "outputs": []
    },
    {
      "cell_type": "code",
      "source": [
        "a = a.reshape(1, 8)"
      ],
      "metadata": {
        "id": "qHIrnOwjKKVC"
      },
      "execution_count": null,
      "outputs": []
    },
    {
      "cell_type": "code",
      "source": [
        "a"
      ],
      "metadata": {
        "colab": {
          "base_uri": "https://localhost:8080/"
        },
        "id": "Xe_j23GaKNXT",
        "outputId": "04366c02-7ac5-4bf6-82b3-ac44132245eb"
      },
      "execution_count": null,
      "outputs": [
        {
          "output_type": "execute_result",
          "data": {
            "text/plain": [
              "tensor([[1, 2, 5, 6, 3, 4, 7, 8]])"
            ]
          },
          "metadata": {},
          "execution_count": 36
        }
      ]
    },
    {
      "cell_type": "code",
      "source": [
        "a = np.array([[1,2],[3,4]])\n",
        "print(a)\n",
        "tensor = torch.from_numpy(a)\n",
        "print(tensor)"
      ],
      "metadata": {
        "colab": {
          "base_uri": "https://localhost:8080/"
        },
        "id": "FTPpFco5KN_n",
        "outputId": "3043177a-bb3c-4a57-d25e-2268e158019a"
      },
      "execution_count": null,
      "outputs": [
        {
          "output_type": "stream",
          "name": "stdout",
          "text": [
            "[[1 2]\n",
            " [3 4]]\n",
            "tensor([[1, 2],\n",
            "        [3, 4]])\n"
          ]
        }
      ]
    },
    {
      "cell_type": "code",
      "source": [
        "a = torch.ones((2, 2), requires_grad = True)"
      ],
      "metadata": {
        "id": "EJ5oh4zoKiX6"
      },
      "execution_count": null,
      "outputs": []
    },
    {
      "cell_type": "code",
      "source": [
        "a"
      ],
      "metadata": {
        "colab": {
          "base_uri": "https://localhost:8080/"
        },
        "id": "YIBZPDmtK59D",
        "outputId": "02164f32-7ef6-49b3-e7d4-a5446328928b"
      },
      "execution_count": null,
      "outputs": [
        {
          "output_type": "execute_result",
          "data": {
            "text/plain": [
              "tensor([[1., 1.],\n",
              "        [1., 1.]], requires_grad=True)"
            ]
          },
          "metadata": {},
          "execution_count": 41
        }
      ]
    },
    {
      "cell_type": "code",
      "source": [
        "b = a+5\n",
        "c = b.mean()\n",
        "print(b, c)"
      ],
      "metadata": {
        "colab": {
          "base_uri": "https://localhost:8080/"
        },
        "id": "03Ze4TNHK6iN",
        "outputId": "e5c320b6-c6c6-4be7-d3f1-df6e5693eaf7"
      },
      "execution_count": null,
      "outputs": [
        {
          "output_type": "stream",
          "name": "stdout",
          "text": [
            "tensor([[6., 6.],\n",
            "        [6., 6.]], grad_fn=<AddBackward0>) tensor(6., grad_fn=<MeanBackward0>)\n"
          ]
        }
      ]
    },
    {
      "cell_type": "code",
      "source": [
        "c.backward()\n",
        "\n",
        "print(a.grad)"
      ],
      "metadata": {
        "colab": {
          "base_uri": "https://localhost:8080/"
        },
        "id": "-l-KKgAQLNj3",
        "outputId": "2b780119-144e-4ee3-e072-fe08e278a969"
      },
      "execution_count": null,
      "outputs": [
        {
          "output_type": "stream",
          "name": "stdout",
          "text": [
            "tensor([[0.2500, 0.2500],\n",
            "        [0.2500, 0.2500]])\n"
          ]
        }
      ]
    },
    {
      "cell_type": "code",
      "source": [],
      "metadata": {
        "id": "jjEFtGSxLs_U"
      },
      "execution_count": null,
      "outputs": []
    }
  ]
}