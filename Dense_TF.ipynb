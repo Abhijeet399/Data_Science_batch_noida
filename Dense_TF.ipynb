{
  "nbformat": 4,
  "nbformat_minor": 0,
  "metadata": {
    "colab": {
      "provenance": []
    },
    "kernelspec": {
      "name": "python3",
      "display_name": "Python 3"
    },
    "language_info": {
      "name": "python"
    }
  },
  "cells": [
    {
      "cell_type": "code",
      "execution_count": null,
      "metadata": {
        "id": "pUm2KJIJtud4"
      },
      "outputs": [],
      "source": [
        "import numpy as np # linear algebra\n",
        "import pandas as pd # data processing, CSV file I/O (e.g. pd.read_csv)\n",
        "import matplotlib.pyplot as plt"
      ]
    },
    {
      "cell_type": "code",
      "source": [
        "from keras.datasets import boston_housing\n",
        "\n",
        "(training_dataset_x, training_dataset_y), (test_dataset_x, test_dataset_y) = boston_housing.load_data()"
      ],
      "metadata": {
        "id": "jRBGnoFst0V4"
      },
      "execution_count": null,
      "outputs": []
    },
    {
      "cell_type": "code",
      "source": [
        "training_dataset_x.shape"
      ],
      "metadata": {
        "id": "qmcD3k658VbZ",
        "outputId": "4ce03d51-d970-447b-fa5b-b3793bace7b9",
        "colab": {
          "base_uri": "https://localhost:8080/"
        }
      },
      "execution_count": null,
      "outputs": [
        {
          "output_type": "execute_result",
          "data": {
            "text/plain": [
              "(404, 13)"
            ]
          },
          "metadata": {},
          "execution_count": 34
        }
      ]
    },
    {
      "cell_type": "code",
      "source": [
        "from sklearn.preprocessing import MinMaxScaler\n",
        "mms = MinMaxScaler()\n",
        "mms.fit(training_dataset_x)\n",
        "training_dataset_x = mms.transform(training_dataset_x)\n",
        "test_dataset_x = mms.transform(test_dataset_x)"
      ],
      "metadata": {
        "id": "TTxZBMSDt2jY"
      },
      "execution_count": null,
      "outputs": []
    },
    {
      "cell_type": "code",
      "source": [
        "from tensorflow.keras.models import Sequential\n",
        "from tensorflow.keras.layers import Dense\n",
        "\n",
        "# create keras model and add the layers\n",
        "model = Sequential(name='BostonHousingPrices')\n",
        "model.add(Dense(100, input_dim = training_dataset_x.shape[1], activation='relu', name='Hidden-1'))\n",
        "model.add(Dense(100, activation='relu', name='Hidden-2'))\n",
        "model.add(Dense(1, activation='linear', name='Output'))\n"
      ],
      "metadata": {
        "id": "M0qd7WZhuGCD"
      },
      "execution_count": null,
      "outputs": []
    },
    {
      "cell_type": "code",
      "source": [
        "model.compile(optimizer='rmsprop', loss='mse', metrics=['mae'])"
      ],
      "metadata": {
        "id": "335wS47vubAi"
      },
      "execution_count": null,
      "outputs": []
    },
    {
      "cell_type": "code",
      "source": [
        "hist = model.fit(training_dataset_x, training_dataset_y, batch_size=32, epochs=100, validation_split=0.2)\n",
        "\n",
        "# this part is for drawing the graphs\n",
        "import matplotlib.pyplot as plt\n",
        "\n",
        "figure = plt.gcf()\n",
        "figure.set_size_inches((15, 5))\n",
        "plt.title('Loss - Epoch Graphics')\n",
        "plt.xlabel('Epoch')\n",
        "plt.ylabel('Loss')\n",
        "plt.plot(range(1, len(hist.history['loss']) + 1), hist.history['loss'])\n",
        "plt.plot(range(1, len(hist.history['val_loss']) + 1), hist.history['val_loss'])\n",
        "plt.legend(['Loss', 'Validation Loss'])\n",
        "plt.show()\n",
        "\n",
        "figure = plt.gcf()\n",
        "figure.set_size_inches((15, 5))\n",
        "plt.title('Mean Absolute Error - Epoch Graphics')\n",
        "plt.xlabel('Epoch')\n",
        "plt.ylabel('Mean Absolute Error')\n",
        "plt.plot(range(1, len(hist.history['mae']) + 1), hist.history['mae'])\n",
        "plt.plot(range(1, len(hist.history['val_mae']) + 1), hist.history['val_mae'])\n",
        "plt.legend(['Mean Absolute Error', 'Validation Mean Absolute Error'])\n",
        "plt.show()"
      ],
      "metadata": {
        "colab": {
          "base_uri": "https://localhost:8080/",
          "height": 1000
        },
        "id": "2MZ1_O_nuovh",
        "outputId": "ad03b24e-388d-4e1a-8bcd-cf3a7435586b"
      },
      "execution_count": null,
      "outputs": [
        {
          "output_type": "stream",
          "name": "stdout",
          "text": [
            "Epoch 1/100\n",
            "11/11 [==============================] - 1s 17ms/step - loss: 530.6725 - mae: 21.0468 - val_loss: 543.8356 - val_mae: 21.3414\n",
            "Epoch 2/100\n",
            "11/11 [==============================] - 0s 6ms/step - loss: 437.5648 - mae: 18.6048 - val_loss: 435.0057 - val_mae: 18.4787\n",
            "Epoch 3/100\n",
            "11/11 [==============================] - 0s 4ms/step - loss: 331.1402 - mae: 15.3279 - val_loss: 306.9809 - val_mae: 14.5103\n",
            "Epoch 4/100\n",
            "11/11 [==============================] - 0s 4ms/step - loss: 224.6591 - mae: 11.7765 - val_loss: 198.0403 - val_mae: 11.1212\n",
            "Epoch 5/100\n",
            "11/11 [==============================] - 0s 4ms/step - loss: 155.1597 - mae: 9.5350 - val_loss: 155.0833 - val_mae: 9.6763\n",
            "Epoch 6/100\n",
            "11/11 [==============================] - 0s 4ms/step - loss: 129.3235 - mae: 8.6436 - val_loss: 126.6253 - val_mae: 8.6710\n",
            "Epoch 7/100\n",
            "11/11 [==============================] - 0s 6ms/step - loss: 111.7137 - mae: 7.9355 - val_loss: 112.9736 - val_mae: 7.9892\n",
            "Epoch 8/100\n",
            "11/11 [==============================] - 0s 6ms/step - loss: 98.7905 - mae: 7.3838 - val_loss: 97.1279 - val_mae: 7.2949\n",
            "Epoch 9/100\n",
            "11/11 [==============================] - 0s 6ms/step - loss: 87.1750 - mae: 6.8859 - val_loss: 86.3336 - val_mae: 6.7480\n",
            "Epoch 10/100\n",
            "11/11 [==============================] - 0s 4ms/step - loss: 77.3904 - mae: 6.4525 - val_loss: 73.6020 - val_mae: 6.2696\n",
            "Epoch 11/100\n",
            "11/11 [==============================] - 0s 6ms/step - loss: 69.5044 - mae: 6.0511 - val_loss: 69.0362 - val_mae: 5.9290\n",
            "Epoch 12/100\n",
            "11/11 [==============================] - 0s 4ms/step - loss: 63.0732 - mae: 5.6711 - val_loss: 70.0933 - val_mae: 5.7344\n",
            "Epoch 13/100\n",
            "11/11 [==============================] - 0s 7ms/step - loss: 59.1097 - mae: 5.3030 - val_loss: 65.1863 - val_mae: 5.5023\n",
            "Epoch 14/100\n",
            "11/11 [==============================] - 0s 6ms/step - loss: 55.5331 - mae: 5.1840 - val_loss: 59.7085 - val_mae: 5.2888\n",
            "Epoch 15/100\n",
            "11/11 [==============================] - 0s 5ms/step - loss: 52.5223 - mae: 5.0594 - val_loss: 57.7836 - val_mae: 5.1351\n",
            "Epoch 16/100\n",
            "11/11 [==============================] - 0s 6ms/step - loss: 50.2162 - mae: 4.8366 - val_loss: 50.7435 - val_mae: 4.9731\n",
            "Epoch 17/100\n",
            "11/11 [==============================] - 0s 4ms/step - loss: 48.3801 - mae: 4.7979 - val_loss: 48.7684 - val_mae: 4.8537\n",
            "Epoch 18/100\n",
            "11/11 [==============================] - 0s 4ms/step - loss: 46.6689 - mae: 4.7117 - val_loss: 50.8271 - val_mae: 4.7715\n",
            "Epoch 19/100\n",
            "11/11 [==============================] - 0s 6ms/step - loss: 44.0963 - mae: 4.5539 - val_loss: 44.4429 - val_mae: 4.7299\n",
            "Epoch 20/100\n",
            "11/11 [==============================] - 0s 6ms/step - loss: 43.0213 - mae: 4.5323 - val_loss: 42.5829 - val_mae: 4.8145\n",
            "Epoch 21/100\n",
            "11/11 [==============================] - 0s 5ms/step - loss: 41.5178 - mae: 4.5740 - val_loss: 43.6207 - val_mae: 4.5009\n",
            "Epoch 22/100\n",
            "11/11 [==============================] - 0s 4ms/step - loss: 39.9908 - mae: 4.3244 - val_loss: 40.2480 - val_mae: 4.7384\n",
            "Epoch 23/100\n",
            "11/11 [==============================] - 0s 4ms/step - loss: 39.4645 - mae: 4.4842 - val_loss: 40.6533 - val_mae: 4.3638\n",
            "Epoch 24/100\n",
            "11/11 [==============================] - 0s 4ms/step - loss: 37.5398 - mae: 4.1821 - val_loss: 41.1163 - val_mae: 4.3433\n",
            "Epoch 25/100\n",
            "11/11 [==============================] - 0s 4ms/step - loss: 36.9592 - mae: 4.1242 - val_loss: 39.3185 - val_mae: 4.2667\n",
            "Epoch 26/100\n",
            "11/11 [==============================] - 0s 4ms/step - loss: 34.8617 - mae: 4.0071 - val_loss: 34.6783 - val_mae: 4.3457\n",
            "Epoch 27/100\n",
            "11/11 [==============================] - 0s 6ms/step - loss: 33.0277 - mae: 3.9910 - val_loss: 33.4502 - val_mae: 4.0679\n",
            "Epoch 28/100\n",
            "11/11 [==============================] - 0s 6ms/step - loss: 32.4538 - mae: 3.9178 - val_loss: 31.6327 - val_mae: 4.1649\n",
            "Epoch 29/100\n",
            "11/11 [==============================] - 0s 5ms/step - loss: 31.4512 - mae: 3.8597 - val_loss: 32.9556 - val_mae: 3.9633\n",
            "Epoch 30/100\n",
            "11/11 [==============================] - 0s 5ms/step - loss: 29.7910 - mae: 3.6772 - val_loss: 35.8186 - val_mae: 4.0899\n",
            "Epoch 31/100\n",
            "11/11 [==============================] - 0s 4ms/step - loss: 28.9830 - mae: 3.5726 - val_loss: 28.5001 - val_mae: 3.8034\n",
            "Epoch 32/100\n",
            "11/11 [==============================] - 0s 4ms/step - loss: 28.0142 - mae: 3.6247 - val_loss: 27.2851 - val_mae: 3.8168\n",
            "Epoch 33/100\n",
            "11/11 [==============================] - 0s 4ms/step - loss: 27.1019 - mae: 3.6016 - val_loss: 29.7400 - val_mae: 3.7714\n",
            "Epoch 34/100\n",
            "11/11 [==============================] - 0s 6ms/step - loss: 26.2727 - mae: 3.4507 - val_loss: 26.4556 - val_mae: 3.6177\n",
            "Epoch 35/100\n",
            "11/11 [==============================] - 0s 6ms/step - loss: 25.4105 - mae: 3.4173 - val_loss: 25.6465 - val_mae: 3.7640\n",
            "Epoch 36/100\n",
            "11/11 [==============================] - 0s 5ms/step - loss: 25.6207 - mae: 3.4767 - val_loss: 24.6994 - val_mae: 3.6524\n",
            "Epoch 37/100\n",
            "11/11 [==============================] - 0s 4ms/step - loss: 24.4610 - mae: 3.3605 - val_loss: 27.9985 - val_mae: 4.1784\n",
            "Epoch 38/100\n",
            "11/11 [==============================] - 0s 4ms/step - loss: 24.7257 - mae: 3.5108 - val_loss: 24.2452 - val_mae: 3.4429\n",
            "Epoch 39/100\n",
            "11/11 [==============================] - 0s 4ms/step - loss: 22.9897 - mae: 3.2580 - val_loss: 24.1254 - val_mae: 3.4310\n",
            "Epoch 40/100\n",
            "11/11 [==============================] - 0s 7ms/step - loss: 23.0058 - mae: 3.2776 - val_loss: 24.1501 - val_mae: 3.4302\n",
            "Epoch 41/100\n",
            "11/11 [==============================] - 0s 5ms/step - loss: 23.0301 - mae: 3.2458 - val_loss: 21.9211 - val_mae: 3.2812\n",
            "Epoch 42/100\n",
            "11/11 [==============================] - 0s 4ms/step - loss: 21.9371 - mae: 3.1871 - val_loss: 26.7825 - val_mae: 3.6843\n",
            "Epoch 43/100\n",
            "11/11 [==============================] - 0s 4ms/step - loss: 22.4143 - mae: 3.1823 - val_loss: 23.5893 - val_mae: 3.4048\n",
            "Epoch 44/100\n",
            "11/11 [==============================] - 0s 4ms/step - loss: 21.5654 - mae: 3.1039 - val_loss: 22.8371 - val_mae: 3.3408\n",
            "Epoch 45/100\n",
            "11/11 [==============================] - 0s 7ms/step - loss: 21.3836 - mae: 3.1477 - val_loss: 24.3087 - val_mae: 3.4890\n",
            "Epoch 46/100\n",
            "11/11 [==============================] - 0s 6ms/step - loss: 21.1525 - mae: 3.0739 - val_loss: 21.9818 - val_mae: 3.6150\n",
            "Epoch 47/100\n",
            "11/11 [==============================] - 0s 5ms/step - loss: 21.0218 - mae: 3.1213 - val_loss: 21.4529 - val_mae: 3.2435\n",
            "Epoch 48/100\n",
            "11/11 [==============================] - 0s 5ms/step - loss: 20.2162 - mae: 3.0482 - val_loss: 22.1016 - val_mae: 3.3307\n",
            "Epoch 49/100\n",
            "11/11 [==============================] - 0s 5ms/step - loss: 20.9456 - mae: 3.0756 - val_loss: 24.2650 - val_mae: 3.9060\n",
            "Epoch 50/100\n",
            "11/11 [==============================] - 0s 4ms/step - loss: 20.8125 - mae: 3.1558 - val_loss: 19.8674 - val_mae: 3.1352\n",
            "Epoch 51/100\n",
            "11/11 [==============================] - 0s 4ms/step - loss: 19.7513 - mae: 2.9941 - val_loss: 18.9571 - val_mae: 3.1187\n",
            "Epoch 52/100\n",
            "11/11 [==============================] - 0s 6ms/step - loss: 19.9118 - mae: 3.0429 - val_loss: 19.3090 - val_mae: 3.2646\n",
            "Epoch 53/100\n",
            "11/11 [==============================] - 0s 4ms/step - loss: 19.6580 - mae: 3.0243 - val_loss: 20.8494 - val_mae: 3.2626\n",
            "Epoch 54/100\n",
            "11/11 [==============================] - 0s 4ms/step - loss: 19.0687 - mae: 2.9683 - val_loss: 20.4440 - val_mae: 3.2348\n",
            "Epoch 55/100\n",
            "11/11 [==============================] - 0s 6ms/step - loss: 19.4740 - mae: 3.0257 - val_loss: 17.9752 - val_mae: 3.0127\n",
            "Epoch 56/100\n",
            "11/11 [==============================] - 0s 4ms/step - loss: 18.9656 - mae: 2.9561 - val_loss: 18.1732 - val_mae: 2.9955\n",
            "Epoch 57/100\n",
            "11/11 [==============================] - 0s 6ms/step - loss: 19.0336 - mae: 2.9465 - val_loss: 19.1296 - val_mae: 3.3133\n",
            "Epoch 58/100\n",
            "11/11 [==============================] - 0s 6ms/step - loss: 18.5127 - mae: 2.9757 - val_loss: 17.5575 - val_mae: 3.0385\n",
            "Epoch 59/100\n",
            "11/11 [==============================] - 0s 4ms/step - loss: 18.4192 - mae: 2.9769 - val_loss: 19.8177 - val_mae: 3.2003\n",
            "Epoch 60/100\n",
            "11/11 [==============================] - 0s 4ms/step - loss: 18.5797 - mae: 2.8782 - val_loss: 20.0878 - val_mae: 3.2383\n",
            "Epoch 61/100\n",
            "11/11 [==============================] - 0s 6ms/step - loss: 18.0926 - mae: 2.9074 - val_loss: 21.6910 - val_mae: 3.4064\n",
            "Epoch 62/100\n",
            "11/11 [==============================] - 0s 5ms/step - loss: 18.6719 - mae: 2.8643 - val_loss: 17.0375 - val_mae: 3.0024\n",
            "Epoch 63/100\n",
            "11/11 [==============================] - 0s 6ms/step - loss: 17.5972 - mae: 2.8714 - val_loss: 17.5686 - val_mae: 3.0101\n",
            "Epoch 64/100\n",
            "11/11 [==============================] - 0s 6ms/step - loss: 17.7585 - mae: 2.8504 - val_loss: 19.1610 - val_mae: 3.1647\n",
            "Epoch 65/100\n",
            "11/11 [==============================] - 0s 5ms/step - loss: 17.4368 - mae: 2.7853 - val_loss: 16.9671 - val_mae: 3.0432\n",
            "Epoch 66/100\n",
            "11/11 [==============================] - 0s 4ms/step - loss: 18.2048 - mae: 2.9545 - val_loss: 18.2384 - val_mae: 3.2403\n",
            "Epoch 67/100\n",
            "11/11 [==============================] - 0s 4ms/step - loss: 17.1538 - mae: 2.8518 - val_loss: 16.9928 - val_mae: 2.9836\n",
            "Epoch 68/100\n",
            "11/11 [==============================] - 0s 5ms/step - loss: 17.0522 - mae: 2.7901 - val_loss: 17.3353 - val_mae: 3.0401\n",
            "Epoch 69/100\n",
            "11/11 [==============================] - 0s 4ms/step - loss: 17.2118 - mae: 2.8146 - val_loss: 17.8608 - val_mae: 3.1973\n",
            "Epoch 70/100\n",
            "11/11 [==============================] - 0s 4ms/step - loss: 16.5648 - mae: 2.8163 - val_loss: 15.5433 - val_mae: 2.8745\n",
            "Epoch 71/100\n",
            "11/11 [==============================] - 0s 4ms/step - loss: 16.6619 - mae: 2.7954 - val_loss: 18.3227 - val_mae: 3.1592\n",
            "Epoch 72/100\n",
            "11/11 [==============================] - 0s 4ms/step - loss: 16.7710 - mae: 2.7096 - val_loss: 17.4908 - val_mae: 3.1616\n",
            "Epoch 73/100\n",
            "11/11 [==============================] - 0s 4ms/step - loss: 16.4014 - mae: 2.7575 - val_loss: 17.4966 - val_mae: 3.1745\n",
            "Epoch 74/100\n",
            "11/11 [==============================] - 0s 4ms/step - loss: 16.1034 - mae: 2.6885 - val_loss: 15.2536 - val_mae: 2.8413\n",
            "Epoch 75/100\n",
            "11/11 [==============================] - 0s 6ms/step - loss: 16.2090 - mae: 2.7351 - val_loss: 15.6429 - val_mae: 2.9125\n",
            "Epoch 76/100\n",
            "11/11 [==============================] - 0s 6ms/step - loss: 16.5275 - mae: 2.7713 - val_loss: 15.0341 - val_mae: 2.8076\n",
            "Epoch 77/100\n",
            "11/11 [==============================] - 0s 4ms/step - loss: 16.3998 - mae: 2.7467 - val_loss: 16.7582 - val_mae: 3.0246\n",
            "Epoch 78/100\n",
            "11/11 [==============================] - 0s 6ms/step - loss: 15.7531 - mae: 2.6993 - val_loss: 14.9139 - val_mae: 2.8131\n",
            "Epoch 79/100\n",
            "11/11 [==============================] - 0s 5ms/step - loss: 16.0694 - mae: 2.7501 - val_loss: 16.0058 - val_mae: 2.9453\n",
            "Epoch 80/100\n",
            "11/11 [==============================] - 0s 4ms/step - loss: 15.1736 - mae: 2.6115 - val_loss: 16.2398 - val_mae: 3.0146\n",
            "Epoch 81/100\n",
            "11/11 [==============================] - 0s 4ms/step - loss: 15.2599 - mae: 2.7008 - val_loss: 15.3348 - val_mae: 2.8805\n",
            "Epoch 82/100\n",
            "11/11 [==============================] - 0s 6ms/step - loss: 14.9444 - mae: 2.6602 - val_loss: 14.9676 - val_mae: 2.8528\n",
            "Epoch 83/100\n",
            "11/11 [==============================] - 0s 6ms/step - loss: 14.9741 - mae: 2.6072 - val_loss: 17.7540 - val_mae: 3.2122\n",
            "Epoch 84/100\n",
            "11/11 [==============================] - 0s 4ms/step - loss: 15.5009 - mae: 2.7007 - val_loss: 15.1706 - val_mae: 2.8702\n",
            "Epoch 85/100\n",
            "11/11 [==============================] - 0s 6ms/step - loss: 14.7176 - mae: 2.5836 - val_loss: 14.0420 - val_mae: 2.7380\n",
            "Epoch 86/100\n",
            "11/11 [==============================] - 0s 4ms/step - loss: 14.2615 - mae: 2.5779 - val_loss: 16.8490 - val_mae: 3.0849\n",
            "Epoch 87/100\n",
            "11/11 [==============================] - 0s 4ms/step - loss: 14.3353 - mae: 2.5608 - val_loss: 13.8802 - val_mae: 2.7471\n",
            "Epoch 88/100\n",
            "11/11 [==============================] - 0s 6ms/step - loss: 14.0905 - mae: 2.4934 - val_loss: 13.8037 - val_mae: 2.7185\n",
            "Epoch 89/100\n",
            "11/11 [==============================] - 0s 4ms/step - loss: 13.8242 - mae: 2.5158 - val_loss: 13.4978 - val_mae: 2.6832\n",
            "Epoch 90/100\n",
            "11/11 [==============================] - 0s 4ms/step - loss: 14.3309 - mae: 2.5771 - val_loss: 13.3774 - val_mae: 2.6603\n",
            "Epoch 91/100\n",
            "11/11 [==============================] - 0s 5ms/step - loss: 13.6074 - mae: 2.5126 - val_loss: 13.1503 - val_mae: 2.6532\n",
            "Epoch 92/100\n",
            "11/11 [==============================] - 0s 5ms/step - loss: 14.2352 - mae: 2.5595 - val_loss: 13.2338 - val_mae: 2.6650\n",
            "Epoch 93/100\n",
            "11/11 [==============================] - 0s 5ms/step - loss: 13.2436 - mae: 2.4586 - val_loss: 14.2356 - val_mae: 2.7895\n",
            "Epoch 94/100\n",
            "11/11 [==============================] - 0s 5ms/step - loss: 13.6416 - mae: 2.4770 - val_loss: 15.1080 - val_mae: 2.8498\n",
            "Epoch 95/100\n",
            "11/11 [==============================] - 0s 6ms/step - loss: 13.1372 - mae: 2.4563 - val_loss: 13.5979 - val_mae: 2.6884\n",
            "Epoch 96/100\n",
            "11/11 [==============================] - 0s 6ms/step - loss: 13.0439 - mae: 2.4488 - val_loss: 13.2677 - val_mae: 2.6658\n",
            "Epoch 97/100\n",
            "11/11 [==============================] - 0s 6ms/step - loss: 13.0842 - mae: 2.4550 - val_loss: 15.1874 - val_mae: 2.9330\n",
            "Epoch 98/100\n",
            "11/11 [==============================] - 0s 6ms/step - loss: 12.9185 - mae: 2.4376 - val_loss: 16.7290 - val_mae: 3.0274\n",
            "Epoch 99/100\n",
            "11/11 [==============================] - 0s 6ms/step - loss: 12.8303 - mae: 2.4138 - val_loss: 13.3606 - val_mae: 2.6375\n",
            "Epoch 100/100\n",
            "11/11 [==============================] - 0s 7ms/step - loss: 12.3836 - mae: 2.3753 - val_loss: 21.9654 - val_mae: 3.6042\n"
          ]
        },
        {
          "output_type": "display_data",
          "data": {
            "text/plain": [
              "<Figure size 1080x360 with 1 Axes>"
            ],
            "image/png": "[encoded data removed]"
          },
          "metadata": {
            "needs_background": "light"
          }
        },
        {
          "output_type": "display_data",
          "data": {
            "text/plain": [
              "<Figure size 1080x360 with 1 Axes>"
            ],
            "image/png": "[encoded data removed]"
          },
          "metadata": {
            "needs_background": "light"
          }
        }
      ]
    },
    {
      "cell_type": "code",
      "source": [
        "test_result = model.evaluate(test_dataset_x, test_dataset_y)\n",
        "for i in range(len(test_result)):\n",
        "    print(f'{model.metrics_names[i]} ---> {test_result[i]}')"
      ],
      "metadata": {
        "colab": {
          "base_uri": "https://localhost:8080/"
        },
        "id": "qsgYuHQBxjV9",
        "outputId": "9b2551a9-cc0e-43f7-b40b-f7a44080627a"
      },
      "execution_count": null,
      "outputs": [
        {
          "output_type": "stream",
          "name": "stdout",
          "text": [
            "4/4 [==============================] - 0s 3ms/step - loss: 41.0280 - mae: 4.3859\n",
            "loss ---> 41.02798080444336\n",
            "mae ---> 4.38585901260376\n"
          ]
        }
      ]
    },
    {
      "cell_type": "code",
      "source": [
        "print(test_dataset_x, test_dataset_y, test_result)"
      ],
      "metadata": {
        "colab": {
          "base_uri": "https://localhost:8080/"
        },
        "id": "vRYjof6FyV6w",
        "outputId": "49b2239e-8784-4cb5-ed6a-58d05835de49"
      },
      "execution_count": null,
      "outputs": [
        {
          "output_type": "stream",
          "name": "stdout",
          "text": [
            "[[2.03195508e-01 0.00000000e+00 6.46627566e-01 ... 8.08510638e-01\n",
            "  6.79055928e-02 7.53863135e-01]\n",
            " [1.31471460e-03 0.00000000e+00 3.50073314e-01 ... 5.53191489e-01\n",
            "  9.95082959e-01 3.99558499e-01]\n",
            " [5.46814270e-04 0.00000000e+00 1.73387097e-01 ... 8.08510638e-01\n",
            "  1.00000000e+00 2.21026490e-01]\n",
            " ...\n",
            " [2.05400974e-02 0.00000000e+00 7.00879765e-01 ... 2.23404255e-01\n",
            "  9.81617832e-01 5.24282561e-03]\n",
            " [3.95380999e-03 0.00000000e+00 2.10410557e-01 ... 5.10638298e-01\n",
            "  9.86887891e-01 2.20198675e-01]\n",
            " [3.27940197e-02 0.00000000e+00 7.00879765e-01 ... 2.23404255e-01\n",
            "  6.04770790e-01 2.22958057e-01]] [ 7.2 18.8 19.  27.  22.2 24.5 31.2 22.9 20.5 23.2 18.6 14.5 17.8 50.\n",
            " 20.8 24.3 24.2 19.8 19.1 22.7 12.  10.2 20.  18.5 20.9 23.  27.5 30.1\n",
            "  9.5 22.  21.2 14.1 33.1 23.4 20.1  7.4 15.4 23.8 20.1 24.5 33.  28.4\n",
            " 14.1 46.7 32.5 29.6 28.4 19.8 20.2 25.  35.4 20.3  9.7 14.5 34.9 26.6\n",
            "  7.2 50.  32.4 21.6 29.8 13.1 27.5 21.2 23.1 21.9 13.  23.2  8.1  5.6\n",
            " 21.7 29.6 19.6  7.  26.4 18.9 20.9 28.1 35.4 10.2 24.3 43.1 17.6 15.4\n",
            " 16.2 27.1 21.4 21.5 22.4 25.  16.6 18.6 22.  42.8 35.1 21.5 36.  21.9\n",
            " 24.1 50.  26.7 25. ] [41.02798080444336, 4.38585901260376]\n"
          ]
        }
      ]
    },
    {
      "cell_type": "code",
      "source": [
        "print(test_dataset_x)"
      ],
      "metadata": {
        "colab": {
          "base_uri": "https://localhost:8080/"
        },
        "id": "fS8QTO4-yhB4",
        "outputId": "39f50c44-55df-4221-837c-eb69269cc702"
      },
      "execution_count": null,
      "outputs": [
        {
          "output_type": "stream",
          "name": "stdout",
          "text": [
            "[[2.03195508e-01 0.00000000e+00 6.46627566e-01 ... 8.08510638e-01\n",
            "  6.79055928e-02 7.53863135e-01]\n",
            " [1.31471460e-03 0.00000000e+00 3.50073314e-01 ... 5.53191489e-01\n",
            "  9.95082959e-01 3.99558499e-01]\n",
            " [5.46814270e-04 0.00000000e+00 1.73387097e-01 ... 8.08510638e-01\n",
            "  1.00000000e+00 2.21026490e-01]\n",
            " ...\n",
            " [2.05400974e-02 0.00000000e+00 7.00879765e-01 ... 2.23404255e-01\n",
            "  9.81617832e-01 5.24282561e-03]\n",
            " [3.95380999e-03 0.00000000e+00 2.10410557e-01 ... 5.10638298e-01\n",
            "  9.86887891e-01 2.20198675e-01]\n",
            " [3.27940197e-02 0.00000000e+00 7.00879765e-01 ... 2.23404255e-01\n",
            "  6.04770790e-01 2.22958057e-01]]\n"
          ]
        }
      ]
    },
    {
      "cell_type": "code",
      "source": [
        "predict_result = model.predict(test_dataset_x)"
      ],
      "metadata": {
        "id": "w-mSOTa9y19u"
      },
      "execution_count": null,
      "outputs": []
    },
    {
      "cell_type": "code",
      "source": [
        "for i in range(len(predict_result)):\n",
        "  print(predict_result[i], test_dataset_y[i])\n"
      ],
      "metadata": {
        "colab": {
          "base_uri": "https://localhost:8080/"
        },
        "id": "v4eU9kMOzB2M",
        "outputId": "f568a859-add4-4330-c4ac-e434ca32f0a4"
      },
      "execution_count": null,
      "outputs": [
        {
          "output_type": "stream",
          "name": "stdout",
          "text": [
            "[11.38303] 7.2\n",
            "[20.699167] 18.8\n",
            "[23.144863] 19.0\n",
            "[38.224743] 27.0\n",
            "[26.09264] 22.2\n",
            "[21.333887] 24.5\n",
            "[31.4955] 31.2\n",
            "[25.3823] 22.9\n",
            "[21.310884] 20.5\n",
            "[26.0901] 23.2\n",
            "[16.726679] 18.6\n",
            "[20.849983] 14.5\n",
            "[19.96752] 17.8\n",
            "[42.300976] 50.0\n",
            "[20.621529] 20.8\n",
            "[22.086174] 24.3\n",
            "[26.9886] 24.2\n",
            "[22.789635] 19.8\n",
            "[22.631739] 19.1\n",
            "[37.475037] 22.7\n",
            "[14.238835] 12.0\n",
            "[16.95354] 10.2\n",
            "[21.902485] 20.0\n",
            "[16.365997] 18.5\n",
            "[22.327724] 20.9\n",
            "[28.526537] 23.0\n",
            "[37.327904] 27.5\n",
            "[28.749516] 30.1\n",
            "[14.078028] 9.5\n",
            "[22.637285] 22.0\n",
            "[23.001225] 21.2\n",
            "[18.955969] 14.1\n",
            "[40.11583] 33.1\n",
            "[25.24882] 23.4\n",
            "[20.317766] 20.1\n",
            "[11.862656] 7.4\n",
            "[17.699673] 15.4\n",
            "[18.958132] 23.8\n",
            "[22.263021] 20.1\n",
            "[29.07352] 24.5\n",
            "[27.861301] 33.0\n",
            "[29.561491] 28.4\n",
            "[19.877037] 14.1\n",
            "[42.067993] 46.7\n",
            "[33.47006] 32.5\n",
            "[24.754242] 29.6\n",
            "[31.638323] 28.4\n",
            "[19.90218] 19.8\n",
            "[29.13318] 20.2\n",
            "[24.634613] 25.0\n",
            "[34.691376] 35.4\n",
            "[20.209301] 20.3\n",
            "[14.430031] 9.7\n",
            "[18.030413] 14.5\n",
            "[38.43305] 34.9\n",
            "[29.650024] 26.6\n",
            "[18.571463] 7.2\n",
            "[47.712368] 50.0\n",
            "[41.69155] 32.4\n",
            "[26.292873] 21.6\n",
            "[31.184399] 29.8\n",
            "[22.67962] 13.1\n",
            "[19.528307] 27.5\n",
            "[21.875748] 21.2\n",
            "[26.540266] 23.1\n",
            "[24.85011] 21.9\n",
            "[18.692339] 13.0\n",
            "[26.816595] 23.2\n",
            "[12.995921] 8.1\n",
            "[13.962183] 5.6\n",
            "[37.41058] 21.7\n",
            "[29.629438] 29.6\n",
            "[27.751266] 19.6\n",
            "[15.601559] 7.0\n",
            "[28.528187] 26.4\n",
            "[22.431637] 18.9\n",
            "[22.249557] 20.9\n",
            "[25.523308] 28.1\n",
            "[37.649593] 35.4\n",
            "[12.746554] 10.2\n",
            "[23.199112] 24.3\n",
            "[42.627396] 43.1\n",
            "[18.099562] 17.6\n",
            "[19.981365] 15.4\n",
            "[21.356045] 16.2\n",
            "[21.065271] 27.1\n",
            "[25.315657] 21.4\n",
            "[23.267908] 21.5\n",
            "[25.463566] 22.4\n",
            "[37.563545] 25.0\n",
            "[20.435957] 16.6\n",
            "[20.924414] 18.6\n",
            "[27.507217] 22.0\n",
            "[37.963757] 42.8\n",
            "[38.22293] 35.1\n",
            "[23.082464] 21.5\n",
            "[41.13835] 36.0\n",
            "[60.153896] 21.9\n",
            "[27.061523] 24.1\n",
            "[51.86532] 50.0\n",
            "[38.91308] 26.7\n",
            "[22.347694] 25.0\n"
          ]
        }
      ]
    },
    {
      "cell_type": "code",
      "source": [],
      "metadata": {
        "id": "JXX2v1H_z3O-"
      },
      "execution_count": null,
      "outputs": []
    }
  ]
}