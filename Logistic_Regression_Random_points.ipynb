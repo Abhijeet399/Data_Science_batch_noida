{
  "nbformat": 4,
  "nbformat_minor": 0,
  "metadata": {
    "colab": {
      "provenance": []
    },
    "kernelspec": {
      "name": "python3",
      "display_name": "Python 3"
    },
    "language_info": {
      "name": "python"
    }
  },
  "cells": [
    {
      "cell_type": "code",
      "execution_count": 1,
      "metadata": {
        "id": "l2n_4RFypGZZ"
      },
      "outputs": [],
      "source": [
        "import numpy as np\n",
        "import matplotlib.pyplot as plt"
      ]
    },
    {
      "cell_type": "code",
      "source": [
        "np.random.multivariate_normal?"
      ],
      "metadata": {
        "id": "OmBfyUrKqB8b"
      },
      "execution_count": 2,
      "outputs": []
    },
    {
      "cell_type": "code",
      "source": [
        "mean_1 = np.array([1, 0.5])\n",
        "cov_1 = np.array([[1, 0.1], [0.1, 0.2]])\n",
        "\n",
        "mean_2 = np.array([4, 5])\n",
        "cov_2 = np.array([[1.2, 0.1], [0.1, 1.3]])"
      ],
      "metadata": {
        "id": "ODQsYmdepaqS"
      },
      "execution_count": 4,
      "outputs": []
    },
    {
      "cell_type": "code",
      "source": [
        "dist_1 = np.random.multivariate_normal(mean_1, cov_1, 500)\n",
        "dist_2 = np.random.multivariate_normal(mean_2, cov_2, 500)"
      ],
      "metadata": {
        "id": "pzCvQndhqWf2"
      },
      "execution_count": 5,
      "outputs": []
    },
    {
      "cell_type": "code",
      "source": [
        "print(dist_1.shape, dist_2.shape)"
      ],
      "metadata": {
        "colab": {
          "base_uri": "https://localhost:8080/"
        },
        "id": "-KWANI7Aq82h",
        "outputId": "099817a8-aa65-49d0-c2d3-ac45ab09eae3"
      },
      "execution_count": 6,
      "outputs": [
        {
          "output_type": "stream",
          "name": "stdout",
          "text": [
            "(500, 2) (500, 2)\n"
          ]
        }
      ]
    },
    {
      "cell_type": "code",
      "source": [
        "plt.scatter(dist_1[:, 0], dist_1[:, 1], color = 'red', label = 'Class: 1')\n",
        "plt.scatter(dist_2[:, 0], dist_2[:, 1], color = 'blue', label = 'Class: 2')\n",
        "plt.xlabel('Feature type: 1')\n",
        "plt.ylabel('Feature type: 2')\n",
        "plt.legend()\n",
        "plt.show()"
      ],
      "metadata": {
        "colab": {
          "base_uri": "https://localhost:8080/",
          "height": 279
        },
        "id": "LVMY_YD_rC6b",
        "outputId": "39a64f5a-45f6-4924-b3f5-343e95df9bdd"
      },
      "execution_count": 7,
      "outputs": [
        {
          "output_type": "display_data",
          "data": {
            "text/plain": [
              "<Figure size 432x288 with 1 Axes>"
            ],
            "image/png": "[encoded data removed]"
          },
          "metadata": {
            "needs_background": "light"
          }
        }
      ]
    },
    {
      "cell_type": "code",
      "source": [
        "dataset = np.zeros((1000, 3))\n",
        "dataset[:500, :2] = dist_1\n",
        "dataset[500:, :2] = dist_2\n",
        "\n",
        "dataset[500:, -1] = 1\n",
        "print(dataset[: 10])\n",
        "print(dataset[: -10])"
      ],
      "metadata": {
        "colab": {
          "base_uri": "https://localhost:8080/"
        },
        "id": "kwYodcrzrVhF",
        "outputId": "f1d9e4ff-c2a8-4ab7-dd15-fc4b92225158"
      },
      "execution_count": 8,
      "outputs": [
        {
          "output_type": "stream",
          "name": "stdout",
          "text": [
            "[[-0.83040955 -0.26483996  0.        ]\n",
            " [ 1.82769231  0.48745047  0.        ]\n",
            " [ 0.49349748  0.1941584   0.        ]\n",
            " [ 2.2381681   0.84845607  0.        ]\n",
            " [ 2.44129219  0.56441933  0.        ]\n",
            " [-0.49217003  0.65777272  0.        ]\n",
            " [ 2.86604836 -0.39396174  0.        ]\n",
            " [ 0.38253835  0.12427106  0.        ]\n",
            " [ 0.83247243 -0.24329804  0.        ]\n",
            " [ 0.7229146   0.48013294  0.        ]]\n",
            "[[-0.83040955 -0.26483996  0.        ]\n",
            " [ 1.82769231  0.48745047  0.        ]\n",
            " [ 0.49349748  0.1941584   0.        ]\n",
            " ...\n",
            " [ 4.76614556  6.22152726  1.        ]\n",
            " [ 4.47585276  4.71256485  1.        ]\n",
            " [ 3.81100654  5.95819511  1.        ]]\n"
          ]
        }
      ]
    },
    {
      "cell_type": "code",
      "source": [
        "np.random.shuffle(dataset)"
      ],
      "metadata": {
        "id": "8vaziCCTsZD8"
      },
      "execution_count": 9,
      "outputs": []
    },
    {
      "cell_type": "code",
      "source": [
        "print(dataset[: 10])"
      ],
      "metadata": {
        "colab": {
          "base_uri": "https://localhost:8080/"
        },
        "id": "-yCBcxONsoDz",
        "outputId": "a3d34124-d6df-47d9-a1ce-c9df73347ea6"
      },
      "execution_count": 10,
      "outputs": [
        {
          "output_type": "stream",
          "name": "stdout",
          "text": [
            "[[ 1.12065751  0.5852179   0.        ]\n",
            " [ 3.46162002  0.49784261  0.        ]\n",
            " [ 0.49862456  0.61137309  0.        ]\n",
            " [ 5.47476318  5.63855211  1.        ]\n",
            " [-0.13562236  0.64884378  0.        ]\n",
            " [ 4.3845135   1.72676188  1.        ]\n",
            " [ 0.24383808  0.30071175  0.        ]\n",
            " [ 2.58691905  4.68664693  1.        ]\n",
            " [ 2.59081023  0.80979989  0.        ]\n",
            " [-0.10365824  0.28499962  0.        ]]\n"
          ]
        }
      ]
    },
    {
      "cell_type": "code",
      "source": [
        "X_train = dataset[:800, :-1]\n",
        "X_test = dataset[800:, :-1]\n",
        "\n",
        "Y_train = dataset[:800, -1]\n",
        "Y_test = dataset[800:, -1]\n",
        "\n",
        "print(X_train.shape, Y_train.shape, X_test.shape, Y_test.shape)"
      ],
      "metadata": {
        "colab": {
          "base_uri": "https://localhost:8080/"
        },
        "id": "lLUjZX9jsy1n",
        "outputId": "13bcfd01-1fe6-4d0c-ea35-c400acda2c37"
      },
      "execution_count": 11,
      "outputs": [
        {
          "output_type": "stream",
          "name": "stdout",
          "text": [
            "(800, 2) (800,) (200, 2) (200,)\n"
          ]
        }
      ]
    },
    {
      "cell_type": "code",
      "source": [
        "Y_test"
      ],
      "metadata": {
        "colab": {
          "base_uri": "https://localhost:8080/"
        },
        "id": "b2vHaar5tdfA",
        "outputId": "3816d81b-d01e-4c3e-d301-069248cbbbbb"
      },
      "execution_count": 13,
      "outputs": [
        {
          "output_type": "execute_result",
          "data": {
            "text/plain": [
              "array([0., 0., 1., 1., 0., 0., 1., 0., 1., 1., 0., 0., 0., 0., 0., 0., 0.,\n",
              "       0., 1., 1., 1., 1., 0., 0., 1., 0., 0., 0., 0., 1., 1., 1., 1., 1.,\n",
              "       0., 1., 1., 1., 1., 1., 1., 0., 1., 1., 0., 0., 0., 1., 1., 0., 0.,\n",
              "       1., 1., 1., 1., 1., 0., 0., 0., 0., 0., 0., 1., 1., 0., 0., 1., 1.,\n",
              "       1., 1., 1., 1., 0., 0., 0., 1., 0., 0., 1., 1., 0., 0., 1., 1., 0.,\n",
              "       0., 0., 1., 1., 0., 1., 0., 1., 1., 1., 0., 1., 1., 1., 0., 0., 1.,\n",
              "       1., 0., 0., 0., 0., 1., 0., 0., 0., 1., 1., 1., 1., 0., 1., 1., 1.,\n",
              "       1., 0., 0., 0., 0., 1., 0., 0., 0., 0., 1., 1., 0., 1., 1., 1., 1.,\n",
              "       1., 0., 0., 1., 0., 0., 0., 0., 1., 0., 0., 0., 0., 0., 0., 1., 0.,\n",
              "       1., 1., 1., 0., 0., 0., 1., 0., 0., 1., 1., 1., 1., 1., 0., 1., 1.,\n",
              "       1., 1., 1., 0., 0., 0., 0., 0., 0., 0., 0., 1., 1., 1., 1., 0., 1.,\n",
              "       0., 1., 0., 1., 0., 1., 0., 0., 0., 1., 0., 0., 1.])"
            ]
          },
          "metadata": {},
          "execution_count": 13
        }
      ]
    },
    {
      "cell_type": "code",
      "source": [
        "plt.scatter(X_train[:, 0], X_train[:, 1], c = Y_train)\n",
        "plt.xlabel('Feature type: 1')\n",
        "plt.ylabel('Feature type: 2')\n",
        "plt.show()"
      ],
      "metadata": {
        "colab": {
          "base_uri": "https://localhost:8080/",
          "height": 279
        },
        "id": "NHR4Ie7pvUmU",
        "outputId": "84f0e932-59f6-4cf9-e96f-06d3fc47d5bb"
      },
      "execution_count": 14,
      "outputs": [
        {
          "output_type": "display_data",
          "data": {
            "text/plain": [
              "<Figure size 432x288 with 1 Axes>"
            ],
            "image/png": "[encoded data removed]"
          },
          "metadata": {
            "needs_background": "light"
          }
        }
      ]
    },
    {
      "cell_type": "code",
      "source": [
        "mean = X_train.mean(axis = 0)\n",
        "std = X_train.std(axis = 0)\n",
        "print(mean, std)"
      ],
      "metadata": {
        "colab": {
          "base_uri": "https://localhost:8080/"
        },
        "id": "x0r8XTfJtjnj",
        "outputId": "80dd68a9-267a-474c-9762-2ec8a3f38f57"
      },
      "execution_count": 17,
      "outputs": [
        {
          "output_type": "stream",
          "name": "stdout",
          "text": [
            "[2.47202776 2.75305326] [1.89676154 2.44267678]\n"
          ]
        }
      ]
    },
    {
      "cell_type": "code",
      "source": [
        "X_train = (X_train - mean)/std"
      ],
      "metadata": {
        "id": "GqQVwBW-uCf4"
      },
      "execution_count": 18,
      "outputs": []
    },
    {
      "cell_type": "code",
      "source": [
        "plt.scatter(X_train[:, 0], X_train[:, 1], c = Y_train)\n",
        "plt.xlabel('Feature type: 1')\n",
        "plt.ylabel('Feature type: 2')\n",
        "plt.show()"
      ],
      "metadata": {
        "colab": {
          "base_uri": "https://localhost:8080/",
          "height": 279
        },
        "id": "_lY2iFMNusIF",
        "outputId": "0848041a-8a67-45dd-cf19-1bc8c49a1f6e"
      },
      "execution_count": 19,
      "outputs": [
        {
          "output_type": "display_data",
          "data": {
            "text/plain": [
              "<Figure size 432x288 with 1 Axes>"
            ],
            "image/png": "[encoded data removed]"
          },
          "metadata": {
            "needs_background": "light"
          }
        }
      ]
    },
    {
      "cell_type": "code",
      "source": [
        "X_test = (X_test - mean)/std"
      ],
      "metadata": {
        "id": "kAIyn1D4vq_b"
      },
      "execution_count": 20,
      "outputs": []
    },
    {
      "cell_type": "code",
      "source": [
        "plt.scatter(X_test[:, 0], X_test[:, 1], c = Y_test)\n",
        "plt.xlabel('Feature type: 1')\n",
        "plt.ylabel('Feature type: 2')\n",
        "plt.show()"
      ],
      "metadata": {
        "colab": {
          "base_uri": "https://localhost:8080/",
          "height": 279
        },
        "id": "Y9_qEMIHvx32",
        "outputId": "9455147d-9c92-423d-e2cc-0169f07eb912"
      },
      "execution_count": 21,
      "outputs": [
        {
          "output_type": "display_data",
          "data": {
            "text/plain": [
              "<Figure size 432x288 with 1 Axes>"
            ],
            "image/png": "[encoded data removed]"
          },
          "metadata": {
            "needs_background": "light"
          }
        }
      ]
    },
    {
      "cell_type": "code",
      "source": [
        "print(X_train.std())"
      ],
      "metadata": {
        "colab": {
          "base_uri": "https://localhost:8080/"
        },
        "id": "Z5SEaZ9Ev2xN",
        "outputId": "c61ecbba-515d-4e3f-8127-06bd479d8d1f"
      },
      "execution_count": 22,
      "outputs": [
        {
          "output_type": "stream",
          "name": "stdout",
          "text": [
            "0.9999999999999997\n"
          ]
        }
      ]
    },
    {
      "cell_type": "code",
      "source": [
        "def sigmoid(X):\n",
        "    return 1.0/(1.0 + np.exp(-X))"
      ],
      "metadata": {
        "id": "e4jtvFkWw21N"
      },
      "execution_count": 23,
      "outputs": []
    },
    {
      "cell_type": "code",
      "source": [
        "def hypothesis(X, theta):\n",
        "    return sigmoid(np.dot(X, theta))"
      ],
      "metadata": {
        "id": "ZyTGcpqowhBJ"
      },
      "execution_count": 24,
      "outputs": []
    },
    {
      "cell_type": "code",
      "source": [
        "random_values = np.linspace(-300, 300, 20)"
      ],
      "metadata": {
        "id": "QwqmOJfhxRh2"
      },
      "execution_count": 27,
      "outputs": []
    },
    {
      "cell_type": "code",
      "source": [
        "plt.plot(random_values, sigmoid(random_values))"
      ],
      "metadata": {
        "colab": {
          "base_uri": "https://localhost:8080/",
          "height": 283
        },
        "id": "TUtK5h-DxfxH",
        "outputId": "bd594d5a-1eb9-4400-d220-ce91f3b692b1"
      },
      "execution_count": 28,
      "outputs": [
        {
          "output_type": "execute_result",
          "data": {
            "text/plain": [
              "[<matplotlib.lines.Line2D at 0x7efdaa0840d0>]"
            ]
          },
          "metadata": {},
          "execution_count": 28
        },
        {
          "output_type": "display_data",
          "data": {
            "text/plain": [
              "<Figure size 432x288 with 1 Axes>"
            ],
            "image/png": "[encoded data removed]"
          },
          "metadata": {
            "needs_background": "light"
          }
        }
      ]
    },
    {
      "cell_type": "code",
      "source": [
        "def cost_function(X, Y, theta):\n",
        "    h_theta = hypothesis(X, theta)\n",
        "    cost = np.mean(Y*np.log(h_theta) + (1 - Y)*np.log(1 - h_theta))\n",
        "    cost = cost*-1\n",
        "\n",
        "    return cost"
      ],
      "metadata": {
        "id": "X-62fwegxkMb"
      },
      "execution_count": 30,
      "outputs": []
    },
    {
      "cell_type": "code",
      "source": [
        "def gradient(X, Y, theta):\n",
        "\n",
        "  h_theta = hypothesis(X, theta)\n",
        "\n",
        "  grad = np.dot(X.T, (Y - h_theta))\n",
        "\n",
        "  return grad/X.shape[0]"
      ],
      "metadata": {
        "id": "mdpXzdOFzTFn"
      },
      "execution_count": 31,
      "outputs": []
    },
    {
      "cell_type": "code",
      "source": [
        "def gradient_descent(X, Y, learning_rate = 0.001, max_steps = 500):\n",
        "\n",
        "  m, n = X.shape\n",
        "  theta = np.zeros((n, 1))\n",
        "  cost_epoch = []\n",
        "\n",
        "  for i in range(max_steps):\n",
        "\n",
        "    grad = gradient(X, Y, theta)\n",
        "\n",
        "    e = cost_function(X, Y, theta)\n",
        "    cost_epoch.append(e)\n",
        "\n",
        "    theta = theta + learning_rate*grad\n",
        "\n",
        "  return (theta, cost_epoch)"
      ],
      "metadata": {
        "id": "GMFlSHszz62m"
      },
      "execution_count": 32,
      "outputs": []
    },
    {
      "cell_type": "code",
      "source": [
        "ones = np.ones((X_train.shape[0], 1))\n",
        "X_train = np.hstack((ones, X_train))\n",
        "print(X_train[:4, :4], X_train.shape)\n",
        "Y_train = Y_train.reshape((-1, 1))"
      ],
      "metadata": {
        "colab": {
          "base_uri": "https://localhost:8080/"
        },
        "id": "dy8866Qo0xHz",
        "outputId": "c0730be5-af63-4ab5-aaf8-2f03ac6f5a4b"
      },
      "execution_count": 33,
      "outputs": [
        {
          "output_type": "stream",
          "name": "stdout",
          "text": [
            "[[ 1.         -0.71246186 -0.88748351]\n",
            " [ 1.          0.52172729 -0.92325381]\n",
            " [ 1.         -1.04040658 -0.87677592]\n",
            " [ 1.          1.58308535  1.18128558]] (800, 3)\n"
          ]
        }
      ]
    },
    {
      "cell_type": "code",
      "source": [
        "theta, cost_epoch = gradient_descent(X_train, Y_train, learning_rate=0.1, max_steps = 1000)"
      ],
      "metadata": {
        "id": "DFp2cbtf-gyH"
      },
      "execution_count": 34,
      "outputs": []
    },
    {
      "cell_type": "code",
      "source": [
        "theta"
      ],
      "metadata": {
        "colab": {
          "base_uri": "https://localhost:8080/"
        },
        "id": "LDSP5Kce-5-Z",
        "outputId": "cb0de736-38eb-4eb8-e55f-f0effcd9b8d7"
      },
      "execution_count": 35,
      "outputs": [
        {
          "output_type": "execute_result",
          "data": {
            "text/plain": [
              "array([[0.51150304],\n",
              "       [2.47710128],\n",
              "       [3.5723371 ]])"
            ]
          },
          "metadata": {},
          "execution_count": 35
        }
      ]
    },
    {
      "cell_type": "code",
      "source": [
        "cost_epoch"
      ],
      "metadata": {
        "colab": {
          "base_uri": "https://localhost:8080/"
        },
        "id": "x2fLaHWx-61I",
        "outputId": "437d15a4-a97c-439e-c021-3d0257ff7f9b"
      },
      "execution_count": 36,
      "outputs": [
        {
          "output_type": "execute_result",
          "data": {
            "text/plain": [
              "[0.6931471805599452,\n",
              " 0.6550184505513971,\n",
              " 0.6202261473604626,\n",
              " 0.5884596315750311,\n",
              " 0.5594275051261326,\n",
              " 0.5328602598254393,\n",
              " 0.508511392862848,\n",
              " 0.48615738172111983,\n",
              " 0.46559686917050386,\n",
              " 0.44664934636226145,\n",
              " 0.42915355557106877,\n",
              " 0.41296577359991204,\n",
              " 0.39795808658126075,\n",
              " 0.3840167277681951,\n",
              " 0.3710405209492609,\n",
              " 0.35893945161527296,\n",
              " 0.3476333740920407,\n",
              " 0.3370508538437596,\n",
              " 0.32712813865786133,\n",
              " 0.3178082493646238,\n",
              " 0.3090401793211964,\n",
              " 0.30077819152216234,\n",
              " 0.2929812024828791,\n",
              " 0.28561224270155605,\n",
              " 0.2786379843578515,\n",
              " 0.27202832783120934,\n",
              " 0.26575603954758625,\n",
              " 0.2597964345452427,\n",
              " 0.25412709796553345,\n",
              " 0.24872764041266016,\n",
              " 0.24357948278476765,\n",
              " 0.23866566676001752,\n",
              " 0.23397068763049284,\n",
              " 0.2294803466204291,\n",
              " 0.2251816202102151,\n",
              " 0.2210625443206764,\n",
              " 0.21711211149976506,\n",
              " 0.21332017950182802,\n",
              " 0.2096773898633996,\n",
              " 0.2061750952636509,\n",
              " 0.2028052946163375,\n",
              " 0.1995605749768928,\n",
              " 0.19643405946631134,\n",
              " 0.19341936051532024,\n",
              " 0.1905105378203389,\n",
              " 0.1877020604788413,\n",
              " 0.18498877283764303,\n",
              " 0.18236586364477644,\n",
              " 0.17982883814522105,\n",
              " 0.17737349280387574,\n",
              " 0.1749958923766908,\n",
              " 0.17269234908359618,\n",
              " 0.1704594036654188,\n",
              " 0.16829380813194805,\n",
              " 0.16619251003016203,\n",
              " 0.16415263808078617,\n",
              " 0.1621714890481768,\n",
              " 0.16024651572330964,\n",
              " 0.15837531591267348,\n",
              " 0.15655562233734902,\n",
              " 0.1547852933566872,\n",
              " 0.15306230443996302,\n",
              " 0.1513847403173134,\n",
              " 0.14975078774830122,\n",
              " 0.14815872885269127,\n",
              " 0.14660693495357224,\n",
              " 0.1450938608879,\n",
              " 0.1436180397439374,\n",
              " 0.1421780779889955,\n",
              " 0.14077265095438762,\n",
              " 0.1394004986476488,\n",
              " 0.13806042186488235,\n",
              " 0.13675127857861688,\n",
              " 0.13547198057881799,\n",
              " 0.13422149034673359,\n",
              " 0.1329988181430803,\n",
              " 0.1318030192937253,\n",
              " 0.13063319165750498,\n",
              " 0.12948847326216145,\n",
              " 0.12836804009558977,\n",
              " 0.12727110404068528,\n",
              " 0.1261969109430718,\n",
              " 0.12514473880189142,\n",
              " 0.12411389607465186,\n",
              " 0.12310372008786902,\n",
              " 0.12211357554591476,\n",
              " 0.12114285313109331,\n",
              " 0.12019096818852759,\n",
              " 0.11925735948994451,\n",
              " 0.11834148807091313,\n",
              " 0.11744283613651235,\n",
              " 0.11656090603079221,\n",
              " 0.11569521926574634,\n",
              " 0.11484531560583801,\n",
              " 0.11401075220441818,\n",
              " 0.11319110278864614,\n",
              " 0.11238595688977362,\n",
              " 0.11159491911588187,\n",
              " 0.11081760846437208,\n",
              " 0.11005365767170355,\n",
              " 0.10930271259805177,\n",
              " 0.10856443164472321,\n",
              " 0.10783848520231464,\n",
              " 0.10712455512774521,\n",
              " 0.10642233424841656,\n",
              " 0.10573152589187738,\n",
              " 0.10505184343947721,\n",
              " 0.10438300990259637,\n",
              " 0.10372475752013345,\n",
              " 0.10307682737601827,\n",
              " 0.10243896903559904,\n",
              " 0.101810940199828,\n",
              " 0.101192506376238,\n",
              " 0.10058344056576786,\n",
              " 0.09998352296455422,\n",
              " 0.09939254067986242,\n",
              " 0.09881028745938146,\n",
              " 0.09823656343315554,\n",
              " 0.09767117486747043,\n",
              " 0.09711393393005344,\n",
              " 0.09656465846598537,\n",
              " 0.0960231717837592,\n",
              " 0.09548930245095333,\n",
              " 0.09496288409901968,\n",
              " 0.09444375523671568,\n",
              " 0.09393175907173693,\n",
              " 0.09342674334013366,\n",
              " 0.09292856014311703,\n",
              " 0.09243706579088458,\n",
              " 0.09195212065311587,\n",
              " 0.09147358901580702,\n",
              " 0.0910013389441341,\n",
              " 0.09053524215105004,\n",
              " 0.09007517387133829,\n",
              " 0.08962101274085982,\n",
              " 0.08917264068074558,\n",
              " 0.08872994278629992,\n",
              " 0.08829280722039222,\n",
              " 0.08786112511112687,\n",
              " 0.08743479045359273,\n",
              " 0.0870137000155027,\n",
              " 0.08659775324654578,\n",
              " 0.0861868521912815,\n",
              " 0.08578090140541622,\n",
              " 0.08537980787530952,\n",
              " 0.08498348094056515,\n",
              " 0.0845918322195706,\n",
              " 0.08420477553785377,\n",
              " 0.08382222685913389,\n",
              " 0.08344410421894889,\n",
              " 0.0830703276607471,\n",
              " 0.08270081917433762,\n",
              " 0.08233550263659818,\n",
              " 0.08197430375434386,\n",
              " 0.08161715000926609,\n",
              " 0.08126397060485395,\n",
              " 0.08091469641521573,\n",
              " 0.08056925993572098,\n",
              " 0.08022759523538842,\n",
              " 0.07988963791094765,\n",
              " 0.07955532504250656,\n",
              " 0.07922459515075893,\n",
              " 0.0788973881556703,\n",
              " 0.07857364533658283,\n",
              " 0.0782533092936823,\n",
              " 0.0779363239107733,\n",
              " 0.07762263431931117,\n",
              " 0.07731218686364105,\n",
              " 0.0770049290673973,\n",
              " 0.07670080960101792,\n",
              " 0.0763997782503315,\n",
              " 0.07610178588617482,\n",
              " 0.07580678443500234,\n",
              " 0.07551472685044987,\n",
              " 0.07522556708581599,\n",
              " 0.07493926006742745,\n",
              " 0.0746557616688549,\n",
              " 0.07437502868594774,\n",
              " 0.07409701881265772,\n",
              " 0.0738216906176224,\n",
              " 0.07354900352148057,\n",
              " 0.07327891777489297,\n",
              " 0.07301139443724308,\n",
              " 0.0727463953559933,\n",
              " 0.07248388314667281,\n",
              " 0.07222382117347538,\n",
              " 0.07196617353044456,\n",
              " 0.07171090502322629,\n",
              " 0.07145798115136869,\n",
              " 0.07120736809114986,\n",
              " 0.07095903267891583,\n",
              " 0.0707129423949102,\n",
              " 0.07046906534757957,\n",
              " 0.07022737025833757,\n",
              " 0.06998782644677261,\n",
              " 0.06975040381628378,\n",
              " 0.06951507284013064,\n",
              " 0.06928180454788342,\n",
              " 0.06905057051225941,\n",
              " 0.06882134283633354,\n",
              " 0.06859409414111041,\n",
              " 0.06836879755344565,\n",
              " 0.06814542669430576,\n",
              " 0.0679239556673549,\n",
              " 0.06770435904785804,\n",
              " 0.06748661187189073,\n",
              " 0.06727068962584491,\n",
              " 0.06705656823622203,\n",
              " 0.06684422405970375,\n",
              " 0.06663363387349172,\n",
              " 0.06642477486590788,\n",
              " 0.06621762462724705,\n",
              " 0.06601216114087399,\n",
              " 0.06580836277455746,\n",
              " 0.06560620827203333,\n",
              " 0.06540567674479057,\n",
              " 0.06520674766407265,\n",
              " 0.06500940085308778,\n",
              " 0.06481361647942198,\n",
              " 0.06461937504764859,\n",
              " 0.0644266573921283,\n",
              " 0.06423544466999392,\n",
              " 0.06404571835431468,\n",
              " 0.06385746022743433,\n",
              " 0.06367065237447798,\n",
              " 0.06348527717702299,\n",
              " 0.06330131730692855,\n",
              " 0.06311875572031994,\n",
              " 0.06293757565172228,\n",
              " 0.0627577606083401,\n",
              " 0.06257929436447802,\n",
              " 0.0624021609560986,\n",
              " 0.06222634467551364,\n",
              " 0.0620518300662048,\n",
              " 0.061878601917770164,\n",
              " 0.06170664526099286,\n",
              " 0.061535945363028643,\n",
              " 0.06136648772270886,\n",
              " 0.06119825806595557,\n",
              " 0.061031242341305844,\n",
              " 0.060865426715542126,\n",
              " 0.06070079756942571,\n",
              " 0.06053734149353043,\n",
              " 0.060375045284174166,\n",
              " 0.060213895939444886,\n",
              " 0.06005388065531919,\n",
              " 0.05989498682187071,\n",
              " 0.05973720201956569,\n",
              " 0.0595805140156438,\n",
              " 0.059424910760581595,\n",
              " 0.05927038038463645,\n",
              " 0.05911691119446916,\n",
              " 0.05896449166984254,\n",
              " 0.058813110460394655,\n",
              " 0.05866275638248414,\n",
              " 0.05851341841610621,\n",
              " 0.05836508570187718,\n",
              " 0.05821774753808594,\n",
              " 0.058071393377810435,\n",
              " 0.05792601282609764,\n",
              " 0.05778159563720548,\n",
              " 0.057638131711904766,\n",
              " 0.057495611094840006,\n",
              " 0.057354023971947304,\n",
              " 0.05721336066792812,\n",
              " 0.0570736116437774,\n",
              " 0.056934767494364574,\n",
              " 0.05679681894606631,\n",
              " 0.0566597568544497,\n",
              " 0.05652357220200445,\n",
              " 0.05638825609592304,\n",
              " 0.05625379976592771,\n",
              " 0.056120194562142824,\n",
              " 0.05598743195301188,\n",
              " 0.05585550352325784,\n",
              " 0.05572440097188574,\n",
              " 0.055594116110226695,\n",
              " 0.055464640860022174,\n",
              " 0.055335967251547526,\n",
              " 0.05520808742177403,\n",
              " 0.05508099361256834,\n",
              " 0.054954678168928524,\n",
              " 0.05482913353725588,\n",
              " 0.05470435226366149,\n",
              " 0.054580326992306985,\n",
              " 0.054457050463778425,\n",
              " 0.05433451551349272,\n",
              " 0.054212715070135815,\n",
              " 0.05409164215413167,\n",
              " 0.05397128987614174,\n",
              " 0.053851651435593874,\n",
              " 0.05373272011924001,\n",
              " 0.05361448929974242,\n",
              " 0.053496952434287086,\n",
              " 0.05338010306322438,\n",
              " 0.05326393480873594,\n",
              " 0.05314844137352725,\n",
              " 0.05303361653954546,\n",
              " 0.05291945416672175,\n",
              " 0.05280594819173774,\n",
              " 0.05269309262681545,\n",
              " 0.052580881558530156,\n",
              " 0.05246930914664582,\n",
              " 0.05235836962297245,\n",
              " 0.0522480572902449,\n",
              " 0.05213836652102275,\n",
              " 0.05202929175661078,\n",
              " 0.051920827505999495,\n",
              " 0.05181296834482525,\n",
              " 0.051705708914349835,\n",
              " 0.051599043920458686,\n",
              " 0.051492968132677605,\n",
              " 0.05138747638320748,\n",
              " 0.0512825635659767,\n",
              " 0.051178224635710784,\n",
              " 0.05107445460701894,\n",
              " 0.050971248553497085,\n",
              " 0.05086860160684717,\n",
              " 0.05076650895601231,\n",
              " 0.05066496584632736,\n",
              " 0.05056396757868478,\n",
              " 0.05046350950871531,\n",
              " 0.050363587045983246,\n",
              " 0.05026419565319589,\n",
              " 0.05016533084542711,\n",
              " 0.05006698818935445,\n",
              " 0.0499691633025097,\n",
              " 0.04987185185254253,\n",
              " 0.04977504955649705,\n",
              " 0.04967875218010091,\n",
              " 0.049582955537066695,\n",
              " 0.04948765548840555,\n",
              " 0.04939284794175245,\n",
              " 0.0492985288507032,\n",
              " 0.049204694214162785,\n",
              " 0.04911134007570478,\n",
              " 0.049018462522941834,\n",
              " 0.04892605768690668,\n",
              " 0.04883412174144372,\n",
              " 0.0487426509026109,\n",
              " 0.048651641428091634,\n",
              " 0.04856108961661659,\n",
              " 0.04847099180739523,\n",
              " 0.048381344379556684,\n",
              " 0.04829214375160019,\n",
              " 0.048203386380854425,\n",
              " 0.04811506876294585,\n",
              " 0.04802718743127596,\n",
              " 0.047939738956506925,\n",
              " 0.04785271994605589,\n",
              " 0.04776612704359736,\n",
              " 0.04767995692857388,\n",
              " 0.047594206315714545,\n",
              " 0.047508871954561396,\n",
              " 0.0474239506290035,\n",
              " 0.04733943915681845,\n",
              " 0.04725533438922138,\n",
              " 0.04717163321042113,\n",
              " 0.047088332537183496,\n",
              " 0.047005429318401584,\n",
              " 0.04692292053467284,\n",
              " 0.046840803197882905,\n",
              " 0.04675907435079605,\n",
              " 0.04667773106665196,\n",
              " 0.046596770448769094,\n",
              " 0.04651618963015402,\n",
              " 0.046435985773117104,\n",
              " 0.046356156068893956,\n",
              " 0.04627669773727302,\n",
              " 0.0461976080262288,\n",
              " 0.04611888421156076,\n",
              " 0.04604052359653793,\n",
              " 0.045962523511548836,\n",
              " 0.045884881313756926,\n",
              " 0.0458075943867612,\n",
              " 0.04573066014026212,\n",
              " 0.0456540760097325,\n",
              " 0.0455778394560935,\n",
              " 0.045501947965395466,\n",
              " 0.045426399048503666,\n",
              " 0.04535119024078873,\n",
              " 0.04527631910182167,\n",
              " 0.045201783215073725,\n",
              " 0.04512758018762035,\n",
              " 0.04505370764984993,\n",
              " 0.044980163255176696,\n",
              " 0.0449069446797579,\n",
              " 0.044834049622215225,\n",
              " 0.044761475803360276,\n",
              " 0.044689220965924176,\n",
              " 0.04461728287429107,\n",
              " 0.044545659314235576,\n",
              " 0.04447434809266408,\n",
              " 0.04440334703735978,\n",
              " 0.044332653996731496,\n",
              " 0.04426226683956602,\n",
              " 0.044192183454784255,\n",
              " 0.044122401751200614,\n",
              " 0.04405291965728608,\n",
              " 0.043983735120934654,\n",
              " 0.04391484610923305,\n",
              " 0.043846250608233744,\n",
              " 0.04377794662273139,\n",
              " 0.04370993217604209,\n",
              " 0.0436422053097862,\n",
              " 0.043574764083673896,\n",
              " 0.04350760657529398,\n",
              " 0.043440730879905465,\n",
              " 0.04337413511023234,\n",
              " 0.043307817396260925,\n",
              " 0.043241775885040384,\n",
              " 0.043176008740485675,\n",
              " 0.043110514143183565,\n",
              " 0.043045290290201155,\n",
              " 0.04298033539489705,\n",
              " 0.04291564768673524,\n",
              " 0.04285122541110153,\n",
              " 0.04278706682912236,\n",
              " 0.042723170217486374,\n",
              " 0.04265953386826816,\n",
              " 0.042596156088754535,\n",
              " 0.04253303520127323,\n",
              " 0.04247016954302382,\n",
              " 0.04240755746591098,\n",
              " 0.042345197336380015,\n",
              " 0.042283087535254574,\n",
              " 0.04222122645757663,\n",
              " 0.042159612512448506,\n",
              " 0.042098244122877077,\n",
              " 0.04203711972562005,\n",
              " 0.04197623777103431,\n",
              " 0.04191559672292629,\n",
              " 0.041855195058404224,\n",
              " 0.041795031267732534,\n",
              " 0.04173510385418803,\n",
              " 0.04167541133391798,\n",
              " 0.041615952235800203,\n",
              " 0.04155672510130477,\n",
              " 0.04149772848435779,\n",
              " 0.041438960951206666,\n",
              " 0.041380421080287416,\n",
              " 0.041322107462093534,\n",
              " 0.04126401869904653,\n",
              " 0.04120615340536836,\n",
              " 0.041148510206955216,\n",
              " 0.041091087741253196,\n",
              " 0.041033884657135415,\n",
              " 0.04097689961478079,\n",
              " 0.040920131285554315,\n",
              " 0.04086357835188886,\n",
              " 0.0408072395071686,\n",
              " 0.04075111345561373,\n",
              " 0.040695198912166795,\n",
              " 0.040639494602380456,\n",
              " 0.040583999262306596,\n",
              " 0.040528711638386845,\n",
              " 0.040473630487344536,\n",
              " 0.040418754576078,\n",
              " 0.040364082681555155,\n",
              " 0.04030961359070946,\n",
              " 0.04025534610033712,\n",
              " 0.04020127901699567,\n",
              " 0.040147411156903685,\n",
              " 0.04009374134584184,\n",
              " 0.040040268419055156,\n",
              " 0.03998699122115644,\n",
              " 0.039933908606030924,\n",
              " 0.039881019436742084,\n",
              " 0.039828322585438614,\n",
              " 0.03977581693326258,\n",
              " 0.03972350137025857,\n",
              " 0.039671374795284084,\n",
              " 0.03961943611592098,\n",
              " 0.03956768424838795,\n",
              " 0.03951611811745406,\n",
              " 0.03946473665635346,\n",
              " 0.0394135388067009,\n",
              " 0.0393625235184085,\n",
              " 0.0393116897496033,\n",
              " 0.03926103646654604,\n",
              " 0.03921056264355064,\n",
              " 0.03916026726290486,\n",
              " 0.03911014931479182,\n",
              " 0.03906020779721246,\n",
              " 0.03901044171590887,\n",
              " 0.03896085008428862,\n",
              " 0.03891143192334995,\n",
              " 0.0388621862616078,\n",
              " 0.03881311213502077,\n",
              " 0.03876420858691889,\n",
              " 0.03871547466793227,\n",
              " 0.03866690943592059,\n",
              " 0.03861851195590336,\n",
              " 0.03857028129999105,\n",
              " 0.038522216547316995,\n",
              " 0.038474316783970106,\n",
              " 0.03842658110292831,\n",
              " 0.038379008603992876,\n",
              " 0.03833159839372331,\n",
              " 0.03828434958537321,\n",
              " 0.03823726129882672,\n",
              " 0.0381903326605357,\n",
              " 0.03814356280345779,\n",
              " 0.038096950866994904,\n",
              " 0.03805049599693269,\n",
              " 0.03800419734538055,\n",
              " 0.03795805407071228,\n",
              " 0.037912065337507544,\n",
              " 0.03786623031649392,\n",
              " 0.03782054818448955,\n",
              " 0.03777501812434653,\n",
              " 0.037729639324894905,\n",
              " 0.03768441098088724,\n",
              " 0.037639332292943924,\n",
              " 0.037594402467498955,\n",
              " 0.03754962071674643,\n",
              " 0.03750498625858758,\n",
              " 0.037460498316578425,\n",
              " 0.037416156119877926,\n",
              " 0.03737195890319688,\n",
              " 0.03732790590674721,\n",
              " 0.037283996376191855,\n",
              " 0.037240229562595324,\n",
              " 0.037196604722374606,\n",
              " 0.037153121117250804,\n",
              " 0.03710977801420116,\n",
              " 0.037066574685411656,\n",
              " 0.03702351040823016,\n",
              " 0.03698058446512004,\n",
              " 0.03693779614361428,\n",
              " 0.03689514473627014,\n",
              " 0.03685262954062424,\n",
              " 0.03681024985914817,\n",
              " 0.03676800499920463,\n",
              " 0.036725894273003865,\n",
              " 0.036683916997560836,\n",
              " 0.03664207249465256,\n",
              " 0.036600360090776156,\n",
              " 0.03655877911710715,\n",
              " 0.03651732890945838,\n",
              " 0.036476008808239174,\n",
              " 0.03643481815841515,\n",
              " 0.03639375630946826,\n",
              " 0.0363528226153574,\n",
              " 0.0363120164344793,\n",
              " 0.03627133712963,\n",
              " 0.036230784067966565,\n",
              " 0.03619035662096926,\n",
              " 0.0361500541644042,\n",
              " 0.036109876078286245,\n",
              " 0.03606982174684243,\n",
              " 0.036029890558475636,\n",
              " 0.03599008190572879,\n",
              " 0.03595039518524927,\n",
              " 0.03591082979775382,\n",
              " 0.03587138514799376,\n",
              " 0.03583206064472061,\n",
              " 0.03579285570065193,\n",
              " 0.035753769732437685,\n",
              " 0.03571480216062688,\n",
              " 0.03567595240963448,\n",
              " 0.03563721990770885,\n",
              " 0.03559860408689922,\n",
              " 0.03556010438302384,\n",
              " 0.035521720235638155,\n",
              " 0.03548345108800353,\n",
              " 0.03544529638705615,\n",
              " 0.035407255583376276,\n",
              " 0.03536932813115783,\n",
              " 0.035331513488178305,\n",
              " 0.03529381111576889,\n",
              " 0.035256220478784975,\n",
              " 0.03521874104557696,\n",
              " 0.035181372287961275,\n",
              " 0.035144113681191816,\n",
              " 0.035106964703931494,\n",
              " 0.03506992483822429,\n",
              " 0.03503299356946734,\n",
              " 0.03499617038638348,\n",
              " 0.03495945478099406,\n",
              " 0.034922846248591856,\n",
              " 0.03488634428771447,\n",
              " 0.03484994840011782,\n",
              " 0.03481365809075004,\n",
              " 0.03477747286772542,\n",
              " 0.03474139224229891,\n",
              " 0.0347054157288406,\n",
              " 0.03466954284481054,\n",
              " 0.0346337731107339,\n",
              " 0.03459810605017621,\n",
              " 0.034562541189718965,\n",
              " 0.03452707805893543,\n",
              " 0.03449171619036666,\n",
              " 0.03445645511949776,\n",
              " 0.034421294384734395,\n",
              " 0.03438623352737951,\n",
              " 0.03435127209161028,\n",
              " 0.03431640962445528,\n",
              " 0.03428164567577186,\n",
              " 0.03424697979822377,\n",
              " 0.03421241154725898,\n",
              " 0.034177940481087674,\n",
              " 0.034143566160660575,\n",
              " 0.03410928814964728,\n",
              " 0.03407510601441502,\n",
              " 0.03404101932400747,\n",
              " 0.0340070276501238,\n",
              " 0.033973130567097935,\n",
              " 0.033939327651878036,\n",
              " 0.03390561848400608,\n",
              " 0.03387200264559778,\n",
              " 0.033838479721322576,\n",
              " 0.03380504929838381,\n",
              " 0.03377171096649917,\n",
              " 0.03373846431788128,\n",
              " 0.03370530894721844,\n",
              " 0.033672244451655564,\n",
              " 0.03363927043077534,\n",
              " 0.03360638648657949,\n",
              " 0.033573592223470235,\n",
              " 0.033540887248232,\n",
              " 0.03350827117001315,\n",
              " 0.033475743600308,\n",
              " 0.03344330415293897,\n",
              " 0.0334109524440389,\n",
              " 0.03337868809203348,\n",
              " 0.03334651071762395,\n",
              " 0.03331441994376984,\n",
              " 0.033282415395671935,\n",
              " 0.033250496700755396,\n",
              " 0.03321866348865302,\n",
              " 0.03318691539118863,\n",
              " 0.033155252042360625,\n",
              " 0.033123673078325776,\n",
              " 0.03309217813738298,\n",
              " 0.03306076685995735,\n",
              " 0.0330294388885843,\n",
              " 0.03299819386789389,\n",
              " 0.032967031444595236,\n",
              " 0.0329359512674611,\n",
              " 0.03290495298731258,\n",
              " 0.03287403625700398,\n",
              " 0.03284320073140781,\n",
              " 0.032812446067399845,\n",
              " 0.032781771923844454,\n",
              " 0.032751177961579926,\n",
              " 0.03272066384340404,\n",
              " 0.03269022923405966,\n",
              " 0.032659873800220535,\n",
              " 0.03262959721047713,\n",
              " 0.032599399135322775,\n",
              " 0.03256927924713968,\n",
              " 0.032539237220185285,\n",
              " 0.03250927273057859,\n",
              " 0.032479385456286716,\n",
              " 0.03244957507711148,\n",
              " 0.03241984127467616,\n",
              " 0.0323901837324124,\n",
              " 0.03236060213554704,\n",
              " 0.032331096171089396,\n",
              " 0.03230166552781832,\n",
              " 0.03227230989626953,\n",
              " 0.032243028968723095,\n",
              " 0.03221382243919089,\n",
              " 0.032184690003404265,\n",
              " 0.032155631358801805,\n",
              " 0.032126646204517134,\n",
              " 0.03209773424136694,\n",
              " 0.032068895171838946,\n",
              " 0.032040128700080134,\n",
              " 0.032011434531885,\n",
              " 0.03198281237468387,\n",
              " 0.03195426193753144,\n",
              " 0.03192578293109524,\n",
              " 0.031897375067644396,\n",
              " 0.03186903806103827,\n",
              " 0.03184077162671545,\n",
              " 0.031812575481682544,\n",
              " 0.031784449344503335,\n",
              " 0.03175639293528786,\n",
              " 0.03172840597568163,\n",
              " 0.03170048818885495,\n",
              " 0.03167263929949235,\n",
              " 0.03164485903378202,\n",
              " 0.031617147119405456,\n",
              " 0.03158950328552709,\n",
              " 0.031561927262784055,\n",
              " 0.03153441878327601,\n",
              " 0.03150697758055509,\n",
              " 0.03147960338961589,\n",
              " 0.03145229594688561,\n",
              " 0.03142505499021414,\n",
              " 0.03139788025886442,\n",
              " 0.031370771493502675,\n",
              " 0.031343728436188927,\n",
              " 0.03131675083036742,\n",
              " 0.031289838420857204,\n",
              " 0.03126299095384286,\n",
              " 0.03123620817686515,\n",
              " 0.03120948983881183,\n",
              " 0.03118283568990858,\n",
              " 0.03115624548170988,\n",
              " 0.031129718967090138,\n",
              " 0.031103255900234723,\n",
              " 0.031076856036631177,\n",
              " 0.031050519133060405,\n",
              " 0.031024244947588084,\n",
              " 0.03099803323955598,\n",
              " 0.030971883769573418,\n",
              " 0.030945796299508867,\n",
              " 0.030919770592481452,\n",
              " 0.030893806412852668,\n",
              " 0.030867903526218113,\n",
              " 0.03084206169939928,\n",
              " 0.030816280700435416,\n",
              " 0.030790560298575454,\n",
              " 0.03076490026426999,\n",
              " 0.030739300369163402,\n",
              " 0.030713760386085896,\n",
              " 0.030688280089045752,\n",
              " 0.03066285925322152,\n",
              " 0.03063749765495437,\n",
              " 0.03061219507174046,\n",
              " 0.030586951282223326,\n",
              " 0.030561766066186425,\n",
              " 0.030536639204545662,\n",
              " 0.030511570479341988,\n",
              " 0.03048655967373409,\n",
              " 0.03046160657199111,\n",
              " 0.030436710959485424,\n",
              " 0.030411872622685462,\n",
              " 0.030387091349148677,\n",
              " 0.030362366927514383,\n",
              " 0.03033769914749687,\n",
              " 0.030313087799878402,\n",
              " 0.03028853267650238,\n",
              " 0.030264033570266427,\n",
              " 0.030239590275115722,\n",
              " 0.03021520258603621,\n",
              " 0.030190870299047906,\n",
              " 0.030166593211198352,\n",
              " 0.030142371120556004,\n",
              " 0.030118203826203685,\n",
              " 0.030094091128232178,\n",
              " 0.03007003282773378,\n",
              " 0.0300460287267959,\n",
              " 0.030022078628494816,\n",
              " 0.029998182336889324,\n",
              " 0.02997433965701459,\n",
              " 0.029950550394875902,\n",
              " 0.0299268143574426,\n",
              " 0.029903131352641964,\n",
              " 0.029879501189353185,\n",
              " 0.029855923677401402,\n",
              " 0.029832398627551725,\n",
              " 0.02980892585150334,\n",
              " 0.029785505161883687,\n",
              " 0.029762136372242624,\n",
              " 0.029738819297046675,\n",
              " 0.029715553751673306,\n",
              " 0.029692339552405227,\n",
              " 0.029669176516424815,\n",
              " 0.029646064461808456,\n",
              " 0.02962300320752103,\n",
              " 0.029599992573410415,\n",
              " 0.02957703238020197,\n",
              " 0.029554122449493164,\n",
              " 0.02953126260374816,\n",
              " 0.029508452666292474,\n",
              " 0.029485692461307687,\n",
              " 0.029462981813826162,\n",
              " 0.029440320549725785,\n",
              " 0.02941770849572488,\n",
              " 0.029395145479376942,\n",
              " 0.02937263132906561,\n",
              " 0.02935016587399954,\n",
              " 0.0293277489442074,\n",
              " 0.029305380370532874,\n",
              " 0.029283059984629684,\n",
              " 0.02926078761895666,\n",
              " 0.02923856310677288,\n",
              " 0.029216386282132804,\n",
              " 0.02919425697988144,\n",
              " 0.029172175035649603,\n",
              " 0.0291501402858491,\n",
              " 0.029128152567668115,\n",
              " 0.029106211719066424,\n",
              " 0.02908431757877085,\n",
              " 0.02906246998627058,\n",
              " 0.02904066878181263,\n",
              " 0.029018913806397297,\n",
              " 0.028997204901773634,\n",
              " 0.02897554191043499,\n",
              " 0.02895392467561454,\n",
              " 0.0289323530412809,\n",
              " 0.028910826852133767,\n",
              " 0.0288893459535995,\n",
              " 0.028867910191826843,\n",
              " 0.028846519413682676,\n",
              " 0.028825173466747674,\n",
              " 0.02880387219931218,\n",
              " 0.028782615460371926,\n",
              " 0.028761403099623887,\n",
              " 0.0287402349674622,\n",
              " 0.028719110914974,\n",
              " 0.02869803079393536,\n",
              " 0.02867699445680727,\n",
              " 0.028656001756731553,\n",
              " 0.028635052547526952,\n",
              " 0.028614146683685126,\n",
              " 0.02859328402036672,\n",
              " 0.028572464413397468,\n",
              " 0.028551687719264307,\n",
              " 0.02853095379511153,\n",
              " 0.028510262498736977,\n",
              " 0.028489613688588208,\n",
              " 0.028469007223758752,\n",
              " 0.028448442963984376,\n",
              " 0.02842792076963932,\n",
              " 0.028407440501732686,\n",
              " 0.028387002021904684,\n",
              " 0.028366605192423056,\n",
              " 0.028346249876179456,\n",
              " 0.028325935936685802,\n",
              " 0.02830566323807079,\n",
              " 0.028285431645076322,\n",
              " 0.02826524102305396,\n",
              " 0.0282450912379615,\n",
              " 0.02822498215635946,\n",
              " 0.028204913645407653,\n",
              " 0.02818488557286174,\n",
              " 0.028164897807069912,\n",
              " 0.02814495021696943,\n",
              " 0.028125042672083333,\n",
              " 0.028105175042517087,\n",
              " 0.028085347198955293,\n",
              " 0.02806555901265842,\n",
              " 0.02804581035545952,\n",
              " 0.028026101099761024,\n",
              " 0.0280064311185315,\n",
              " 0.027986800285302486,\n",
              " 0.027967208474165298,\n",
              " 0.027947655559767928,\n",
              " 0.02792814141731188,\n",
              " 0.02790866592254904,\n",
              " 0.027889228951778672,\n",
              " 0.027869830381844284,\n",
              " 0.027850470090130613,\n",
              " 0.027831147954560622,\n",
              " 0.027811863853592467,\n",
              " 0.027792617666216532,\n",
              " 0.02777340927195247,\n",
              " 0.027754238550846275,\n",
              " 0.027735105383467316,\n",
              " 0.027716009650905492,\n",
              " 0.027696951234768338,\n",
              " 0.02767793001717812,\n",
              " 0.027658945880769035,\n",
              " 0.02763999870868439,\n",
              " 0.027621088384573778,\n",
              " 0.027602214792590275,\n",
              " 0.027583377817387716,\n",
              " 0.02756457734411793,\n",
              " 0.027545813258427976,\n",
              " 0.027527085446457482,\n",
              " 0.027508393794835904,\n",
              " 0.027489738190679906,\n",
              " 0.027471118521590617,\n",
              " 0.027452534675651084,\n",
              " 0.027433986541423573,\n",
              " 0.02741547400794699,\n",
              " 0.02739699696473431,\n",
              " 0.027378555301769972,\n",
              " 0.027360148909507342,\n",
              " 0.027341777678866162,\n",
              " 0.027323441501230068,\n",
              " 0.02730514026844401,\n",
              " 0.027286873872811826,\n",
              " 0.027268642207093734,\n",
              " 0.0272504451645039,\n",
              " 0.027232282638707993,\n",
              " 0.027214154523820727,\n",
              " 0.027196060714403503,\n",
              " 0.02717800110546198,\n",
              " 0.0271599755924437,\n",
              " 0.027141984071235744,\n",
              " 0.02712402643816235,\n",
              " 0.027106102589982646,\n",
              " 0.027088212423888224,\n",
              " 0.027070355837500983,\n",
              " 0.0270525327288707,\n",
              " 0.027034742996472856,\n",
              " 0.027016986539206336,\n",
              " 0.02699926325639119,\n",
              " 0.026981573047766372,\n",
              " 0.02696391581348764,\n",
              " 0.026946291454125203,\n",
              " 0.026928699870661616,\n",
              " 0.02691114096448964,\n",
              " 0.02689361463741001,\n",
              " 0.026876120791629314,\n",
              " 0.026858659329757888,\n",
              " 0.02684123015480768,\n",
              " 0.026823833170190138,\n",
              " 0.026806468279714134,\n",
              " 0.026789135387583873,\n",
              " 0.02677183439839683,\n",
              " 0.02675456521714173,\n",
              " 0.026737327749196446,\n",
              " 0.02672012190032604,\n",
              " 0.026702947576680715,\n",
              " 0.026685804684793802,\n",
              " 0.02666869313157984,\n",
              " 0.026651612824332493,\n",
              " 0.026634563670722686,\n",
              " 0.026617545578796607,\n",
              " 0.026600558456973778,\n",
              " 0.02658360221404512,\n",
              " 0.026566676759171078,\n",
              " 0.026549782001879647,\n",
              " 0.02653291785206456,\n",
              " 0.026516084219983346,\n",
              " 0.02649928101625552,\n",
              " 0.02648250815186068,\n",
              " 0.026465765538136687,\n",
              " 0.02644905308677784,\n",
              " 0.02643237070983302,\n",
              " 0.026415718319703928,\n",
              " 0.02639909582914326,\n",
              " 0.026382503151252915,\n",
              " 0.02636594019948223,\n",
              " 0.026349406887626225,\n",
              " 0.026332903129823816,\n",
              " 0.0263164288405561,\n",
              " 0.026299983934644614,\n",
              " 0.02628356832724963,\n",
              " 0.026267181933868396,\n",
              " 0.02625082467033348,\n",
              " 0.026234496452811066,\n",
              " 0.026218197197799286,\n",
              " 0.026201926822126492,\n",
              " 0.026185685242949685,\n",
              " 0.026169472377752804,\n",
              " 0.02615328814434509,\n",
              " 0.026137132460859504,\n",
              " 0.02612100524575101,\n",
              " 0.0261049064177951,\n",
              " 0.02608883589608606,\n",
              " 0.026072793600035463,\n",
              " 0.026056779449370585,\n",
              " 0.02604079336413277,\n",
              " 0.02602483526467595,\n",
              " 0.026008905071665037,\n",
              " 0.02599300270607439,\n",
              " 0.02597712808918629,\n",
              " 0.02596128114258943,\n",
              " 0.025945461788177356,\n",
              " 0.025929669948147,\n",
              " 0.025913905544997173,\n",
              " 0.025898168501527045,\n",
              " 0.025882458740834738,\n",
              " 0.02586677618631577,\n",
              " 0.025851120761661656,\n",
              " 0.025835492390858413,\n",
              " 0.025819890998185154,\n",
              " 0.02580431650821262,\n",
              " 0.025788768845801745,\n",
              " 0.0257732479361023,\n",
              " 0.025757753704551405,\n",
              " 0.02574228607687217,\n",
              " 0.02572684497907229,\n",
              " 0.02571143033744266,\n",
              " 0.025696042078555994,\n",
              " 0.025680680129265453,\n",
              " 0.025665344416703317,\n",
              " 0.025650034868279575,\n",
              " 0.025634751411680607,\n",
              " 0.025619493974867878,\n",
              " 0.025604262486076553,\n",
              " 0.025589056873814204,\n",
              " 0.0255738770668595,\n",
              " 0.025558722994260877,\n",
              " 0.02554359458533528,\n",
              " 0.02552849176966681,\n",
              " 0.025513414477105503,\n",
              " 0.02549836263776603,\n",
              " 0.025483336182026414,\n",
              " 0.025468335040526778,\n",
              " 0.025453359144168103,\n",
              " 0.025438408424110964,\n",
              " 0.025423482811774284,\n",
              " 0.02540858223883415,\n",
              " 0.025393706637222502,\n",
              " 0.02537885593912602,\n",
              " 0.025364030076984817,\n",
              " 0.025349228983491283,\n",
              " 0.0253344525915889,\n",
              " 0.025319700834470996,\n",
              " 0.025304973645579633,\n",
              " 0.02529027095860438]"
            ]
          },
          "metadata": {},
          "execution_count": 36
        }
      ]
    },
    {
      "cell_type": "code",
      "source": [
        "plt.plot(cost_epoch)"
      ],
      "metadata": {
        "colab": {
          "base_uri": "https://localhost:8080/",
          "height": 283
        },
        "id": "odZ-w3Kx-8Xr",
        "outputId": "16bdaf03-d68e-44d4-a4ba-e81b699af1d5"
      },
      "execution_count": 30,
      "outputs": [
        {
          "output_type": "execute_result",
          "data": {
            "text/plain": [
              "[<matplotlib.lines.Line2D at 0x7fab62d03070>]"
            ]
          },
          "metadata": {},
          "execution_count": 30
        },
        {
          "output_type": "display_data",
          "data": {
            "text/plain": [
              "<Figure size 432x288 with 1 Axes>"
            ],
            "image/png": "[encoded data removed]"
          },
          "metadata": {
            "needs_background": "light"
          }
        }
      ]
    },
    {
      "cell_type": "code",
      "source": [
        "x1 = np.arange(-3, 5)\n",
        "\n",
        "x2 = -(theta[0] * theta[1]*x1)/theta[2]\n",
        "\n",
        "plt.scatter(X_train[:, 1], X_train[:, 2], c = Y_train)\n",
        "plt.plot(x1, x2)"
      ],
      "metadata": {
        "colab": {
          "base_uri": "https://localhost:8080/",
          "height": 285
        },
        "id": "3WPeUOdc_esk",
        "outputId": "a25e8387-b12d-4082-d2ae-eb987140974e"
      },
      "execution_count": 31,
      "outputs": [
        {
          "output_type": "execute_result",
          "data": {
            "text/plain": [
              "[<matplotlib.lines.Line2D at 0x7fab62cd88b0>]"
            ]
          },
          "metadata": {},
          "execution_count": 31
        },
        {
          "output_type": "display_data",
          "data": {
            "text/plain": [
              "<Figure size 432x288 with 1 Axes>"
            ],
            "image/png": "[encoded data removed]"
          },
          "metadata": {
            "needs_background": "light"
          }
        }
      ]
    },
    {
      "cell_type": "code",
      "source": [
        "ones = np.ones((X_test.shape[0], 1))\n",
        "X_test = np.hstack((ones, X_test))\n",
        "print(X_test[:4, :4], X_test.shape)\n",
        "Y_test = Y_test.reshape((-1, 1))"
      ],
      "metadata": {
        "colab": {
          "base_uri": "https://localhost:8080/"
        },
        "id": "icsGyiP7BIK-",
        "outputId": "6abaf506-8f80-4503-81a0-ef88ff10f703"
      },
      "execution_count": 32,
      "outputs": [
        {
          "output_type": "stream",
          "name": "stdout",
          "text": [
            "[[ 1.          0.84596743  0.93387489]\n",
            " [ 1.          0.21236947  0.4674041 ]\n",
            " [ 1.          0.80451334  0.86540209]\n",
            " [ 1.          1.18981017 -0.23567782]] (200, 3)\n"
          ]
        }
      ]
    },
    {
      "cell_type": "code",
      "source": [
        "def predict(X, theta):\n",
        "    h_theta = hypothesis(X, theta)\n",
        "    output = np.zeros(h_theta.shape)\n",
        "\n",
        "    output[h_theta>0.5] = 1\n",
        "    output = output.astype('int')\n",
        "\n",
        "    return output"
      ],
      "metadata": {
        "id": "jSe3uIS3C-rl"
      },
      "execution_count": 33,
      "outputs": []
    },
    {
      "cell_type": "code",
      "source": [
        "train_preds = predict(X_train, theta)\n",
        "test_preds = predict(X_test, theta)"
      ],
      "metadata": {
        "id": "CdQTPx-yDqAn"
      },
      "execution_count": 34,
      "outputs": []
    },
    {
      "cell_type": "code",
      "source": [
        "for i in range(len(test_preds)):\n",
        "    print(test_preds[i], Y_test[i])"
      ],
      "metadata": {
        "colab": {
          "base_uri": "https://localhost:8080/"
        },
        "id": "SPFj-ZZjD4Ww",
        "outputId": "11b88842-c9d1-406d-cde8-8b57de9f3a74"
      },
      "execution_count": 35,
      "outputs": [
        {
          "output_type": "stream",
          "name": "stdout",
          "text": [
            "[1] [1.]\n",
            "[1] [1.]\n",
            "[1] [1.]\n",
            "[1] [1.]\n",
            "[0] [0.]\n",
            "[0] [0.]\n",
            "[0] [0.]\n",
            "[0] [0.]\n",
            "[0] [0.]\n",
            "[0] [0.]\n",
            "[0] [0.]\n",
            "[0] [0.]\n",
            "[0] [0.]\n",
            "[0] [0.]\n",
            "[0] [0.]\n",
            "[1] [1.]\n",
            "[0] [0.]\n",
            "[1] [1.]\n",
            "[1] [1.]\n",
            "[0] [0.]\n",
            "[0] [0.]\n",
            "[1] [1.]\n",
            "[0] [0.]\n",
            "[0] [0.]\n",
            "[1] [1.]\n",
            "[0] [0.]\n",
            "[1] [1.]\n",
            "[1] [1.]\n",
            "[1] [1.]\n",
            "[1] [1.]\n",
            "[1] [1.]\n",
            "[1] [1.]\n",
            "[1] [1.]\n",
            "[1] [1.]\n",
            "[1] [1.]\n",
            "[1] [1.]\n",
            "[0] [0.]\n",
            "[0] [0.]\n",
            "[1] [1.]\n",
            "[1] [1.]\n",
            "[1] [1.]\n",
            "[0] [0.]\n",
            "[0] [0.]\n",
            "[1] [1.]\n",
            "[1] [1.]\n",
            "[0] [0.]\n",
            "[1] [1.]\n",
            "[1] [1.]\n",
            "[0] [0.]\n",
            "[0] [0.]\n",
            "[1] [1.]\n",
            "[0] [0.]\n",
            "[1] [1.]\n",
            "[1] [1.]\n",
            "[0] [0.]\n",
            "[0] [0.]\n",
            "[1] [1.]\n",
            "[1] [1.]\n",
            "[0] [0.]\n",
            "[0] [0.]\n",
            "[0] [0.]\n",
            "[1] [1.]\n",
            "[1] [1.]\n",
            "[1] [1.]\n",
            "[0] [0.]\n",
            "[0] [0.]\n",
            "[0] [0.]\n",
            "[0] [0.]\n",
            "[1] [1.]\n",
            "[0] [0.]\n",
            "[0] [0.]\n",
            "[0] [0.]\n",
            "[1] [1.]\n",
            "[1] [1.]\n",
            "[0] [0.]\n",
            "[0] [0.]\n",
            "[1] [1.]\n",
            "[0] [0.]\n",
            "[1] [1.]\n",
            "[1] [1.]\n",
            "[0] [0.]\n",
            "[1] [1.]\n",
            "[0] [0.]\n",
            "[1] [1.]\n",
            "[1] [1.]\n",
            "[0] [0.]\n",
            "[1] [1.]\n",
            "[1] [1.]\n",
            "[0] [0.]\n",
            "[0] [0.]\n",
            "[1] [1.]\n",
            "[1] [1.]\n",
            "[1] [1.]\n",
            "[0] [0.]\n",
            "[1] [1.]\n",
            "[0] [0.]\n",
            "[1] [1.]\n",
            "[0] [0.]\n",
            "[0] [0.]\n",
            "[0] [0.]\n",
            "[0] [0.]\n",
            "[1] [1.]\n",
            "[1] [1.]\n",
            "[0] [0.]\n",
            "[1] [1.]\n",
            "[1] [1.]\n",
            "[1] [1.]\n",
            "[0] [0.]\n",
            "[0] [0.]\n",
            "[1] [1.]\n",
            "[0] [0.]\n",
            "[0] [0.]\n",
            "[0] [0.]\n",
            "[1] [1.]\n",
            "[1] [1.]\n",
            "[1] [1.]\n",
            "[1] [1.]\n",
            "[1] [1.]\n",
            "[0] [0.]\n",
            "[0] [0.]\n",
            "[1] [1.]\n",
            "[0] [0.]\n",
            "[0] [0.]\n",
            "[1] [1.]\n",
            "[0] [0.]\n",
            "[1] [1.]\n",
            "[0] [0.]\n",
            "[0] [0.]\n",
            "[1] [1.]\n",
            "[1] [1.]\n",
            "[1] [1.]\n",
            "[0] [0.]\n",
            "[0] [0.]\n",
            "[1] [1.]\n",
            "[0] [0.]\n",
            "[0] [0.]\n",
            "[1] [1.]\n",
            "[1] [1.]\n",
            "[0] [0.]\n",
            "[0] [0.]\n",
            "[0] [0.]\n",
            "[1] [1.]\n",
            "[1] [1.]\n",
            "[0] [0.]\n",
            "[0] [0.]\n",
            "[1] [1.]\n",
            "[0] [0.]\n",
            "[0] [0.]\n",
            "[0] [0.]\n",
            "[1] [1.]\n",
            "[1] [1.]\n",
            "[1] [1.]\n",
            "[1] [1.]\n",
            "[0] [0.]\n",
            "[0] [0.]\n",
            "[0] [0.]\n",
            "[1] [1.]\n",
            "[1] [1.]\n",
            "[1] [1.]\n",
            "[0] [0.]\n",
            "[1] [1.]\n",
            "[0] [0.]\n",
            "[1] [1.]\n",
            "[0] [0.]\n",
            "[1] [1.]\n",
            "[1] [1.]\n",
            "[1] [1.]\n",
            "[0] [0.]\n",
            "[1] [1.]\n",
            "[0] [0.]\n",
            "[0] [0.]\n",
            "[1] [1.]\n",
            "[0] [0.]\n",
            "[1] [1.]\n",
            "[1] [1.]\n",
            "[0] [0.]\n",
            "[1] [1.]\n",
            "[0] [0.]\n",
            "[1] [1.]\n",
            "[1] [1.]\n",
            "[1] [1.]\n",
            "[1] [1.]\n",
            "[1] [1.]\n",
            "[1] [1.]\n",
            "[0] [0.]\n",
            "[0] [0.]\n",
            "[1] [1.]\n",
            "[1] [1.]\n",
            "[1] [1.]\n",
            "[0] [0.]\n",
            "[1] [1.]\n",
            "[1] [1.]\n",
            "[0] [0.]\n",
            "[0] [0.]\n",
            "[0] [0.]\n",
            "[1] [1.]\n",
            "[1] [1.]\n",
            "[0] [0.]\n",
            "[0] [0.]\n",
            "[1] [1.]\n"
          ]
        }
      ]
    },
    {
      "cell_type": "code",
      "source": [
        "def accuracy(preds, labels):\n",
        "    labels = labels.astype('int')\n",
        "    print(np.sum(preds == labels)/labels.shape[0])"
      ],
      "metadata": {
        "id": "hpFaN0A7EDp5"
      },
      "execution_count": 40,
      "outputs": []
    },
    {
      "cell_type": "code",
      "source": [
        "accuracy(test_preds, Y_test)"
      ],
      "metadata": {
        "colab": {
          "base_uri": "https://localhost:8080/"
        },
        "id": "x7jzAlSjEUVY",
        "outputId": "a66e0150-25eb-4a58-d6c9-5b05a11575f3"
      },
      "execution_count": 44,
      "outputs": [
        {
          "output_type": "stream",
          "name": "stdout",
          "text": [
            "1.0\n"
          ]
        }
      ]
    },
    {
      "cell_type": "code",
      "source": [
        "accuracy(train_preds, Y_train)"
      ],
      "metadata": {
        "colab": {
          "base_uri": "https://localhost:8080/"
        },
        "id": "7pPOOqAUEbVb",
        "outputId": "5b9c8499-e8e0-429b-d5b1-f8c582b8be88"
      },
      "execution_count": 45,
      "outputs": [
        {
          "output_type": "stream",
          "name": "stdout",
          "text": [
            "0.995\n"
          ]
        }
      ]
    },
    {
      "cell_type": "code",
      "source": [],
      "metadata": {
        "id": "Ozno85PrEyfK"
      },
      "execution_count": null,
      "outputs": []
    },
    {
      "cell_type": "code",
      "source": [],
      "metadata": {
        "id": "liIj1bQHFH26"
      },
      "execution_count": null,
      "outputs": []
    },
    {
      "cell_type": "code",
      "source": [],
      "metadata": {
        "id": "BLvwUgtYFHzj"
      },
      "execution_count": null,
      "outputs": []
    },
    {
      "cell_type": "code",
      "source": [
        "from sklearn.linear_model import LogisticRegression"
      ],
      "metadata": {
        "id": "ep9WAnZlFHuy"
      },
      "execution_count": 46,
      "outputs": []
    },
    {
      "cell_type": "code",
      "source": [
        "model = LogisticRegression()"
      ],
      "metadata": {
        "id": "cXKGRuEzFQ3P"
      },
      "execution_count": 47,
      "outputs": []
    },
    {
      "cell_type": "code",
      "source": [
        "model.fit(X_train, Y_train.reshape((-1, )))"
      ],
      "metadata": {
        "colab": {
          "base_uri": "https://localhost:8080/"
        },
        "id": "b-JomO12FTeW",
        "outputId": "995731f7-0b9f-49d6-a750-177c515896db"
      },
      "execution_count": 51,
      "outputs": [
        {
          "output_type": "execute_result",
          "data": {
            "text/plain": [
              "LogisticRegression()"
            ]
          },
          "metadata": {},
          "execution_count": 51
        }
      ]
    },
    {
      "cell_type": "code",
      "source": [
        "theta_0 = model.intercept_\n",
        "theta_r = model.coef_"
      ],
      "metadata": {
        "id": "7Y3GdgEJFjPh"
      },
      "execution_count": 54,
      "outputs": []
    },
    {
      "cell_type": "code",
      "source": [
        "print(theta_0, theta_r)"
      ],
      "metadata": {
        "colab": {
          "base_uri": "https://localhost:8080/"
        },
        "id": "wC4LCuJRF2Tu",
        "outputId": "c2d17be8-c547-4155-c3f2-f51a6ac042a5"
      },
      "execution_count": 55,
      "outputs": [
        {
          "output_type": "stream",
          "name": "stdout",
          "text": [
            "[0.7575724] [[5.33200835e-07 1.85941355e+00 5.04949657e+00]]\n"
          ]
        }
      ]
    },
    {
      "cell_type": "code",
      "source": [
        "model.score(X_train, Y_train.reshape((-1, )))"
      ],
      "metadata": {
        "colab": {
          "base_uri": "https://localhost:8080/"
        },
        "id": "Otj0JNhYGAC6",
        "outputId": "0f83c970-ee03-4617-edbe-10bd5abeab06"
      },
      "execution_count": 56,
      "outputs": [
        {
          "output_type": "execute_result",
          "data": {
            "text/plain": [
              "0.99875"
            ]
          },
          "metadata": {},
          "execution_count": 56
        }
      ]
    },
    {
      "cell_type": "code",
      "source": [
        "model.score(X_test, Y_test.reshape((-1, )))"
      ],
      "metadata": {
        "colab": {
          "base_uri": "https://localhost:8080/"
        },
        "id": "4zTELWKRGeVB",
        "outputId": "05181bd0-d136-48a8-d56d-3245fda278a8"
      },
      "execution_count": 57,
      "outputs": [
        {
          "output_type": "execute_result",
          "data": {
            "text/plain": [
              "1.0"
            ]
          },
          "metadata": {},
          "execution_count": 57
        }
      ]
    },
    {
      "cell_type": "code",
      "source": [
        "y_pred = model.predict(X_test)"
      ],
      "metadata": {
        "id": "0fXBcLuiGjpH"
      },
      "execution_count": 58,
      "outputs": []
    },
    {
      "cell_type": "code",
      "source": [
        "y_pred"
      ],
      "metadata": {
        "colab": {
          "base_uri": "https://localhost:8080/"
        },
        "id": "77wMWIkgG6SG",
        "outputId": "54ed8b29-4668-4f57-ef25-6371da09ee3b"
      },
      "execution_count": 59,
      "outputs": [
        {
          "output_type": "execute_result",
          "data": {
            "text/plain": [
              "array([1., 1., 1., 1., 0., 0., 0., 0., 0., 0., 0., 0., 0., 0., 0., 1., 0.,\n",
              "       1., 1., 0., 0., 1., 0., 0., 1., 0., 1., 1., 1., 1., 1., 1., 1., 1.,\n",
              "       1., 1., 0., 0., 1., 1., 1., 0., 0., 1., 1., 0., 1., 1., 0., 0., 1.,\n",
              "       0., 1., 1., 0., 0., 1., 1., 0., 0., 0., 1., 1., 1., 0., 0., 0., 0.,\n",
              "       1., 0., 0., 0., 1., 1., 0., 0., 1., 0., 1., 1., 0., 1., 0., 1., 1.,\n",
              "       0., 1., 1., 0., 0., 1., 1., 1., 0., 1., 0., 1., 0., 0., 0., 0., 1.,\n",
              "       1., 0., 1., 1., 1., 0., 0., 1., 0., 0., 0., 1., 1., 1., 1., 1., 0.,\n",
              "       0., 1., 0., 0., 1., 0., 1., 0., 0., 1., 1., 1., 0., 0., 1., 0., 0.,\n",
              "       1., 1., 0., 0., 0., 1., 1., 0., 0., 1., 0., 0., 0., 1., 1., 1., 1.,\n",
              "       0., 0., 0., 1., 1., 1., 0., 1., 0., 1., 0., 1., 1., 1., 0., 1., 0.,\n",
              "       0., 1., 0., 1., 1., 0., 1., 0., 1., 1., 1., 1., 1., 1., 0., 0., 1.,\n",
              "       1., 1., 0., 1., 1., 0., 0., 0., 1., 1., 0., 0., 1.])"
            ]
          },
          "metadata": {},
          "execution_count": 59
        }
      ]
    },
    {
      "cell_type": "code",
      "source": [],
      "metadata": {
        "id": "7ku6TzgGG7PH"
      },
      "execution_count": null,
      "outputs": []
    }
  ]
}