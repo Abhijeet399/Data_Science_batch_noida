{
  "nbformat": 4,
  "nbformat_minor": 0,
  "metadata": {
    "colab": {
      "provenance": []
    },
    "kernelspec": {
      "name": "python3",
      "display_name": "Python 3"
    },
    "language_info": {
      "name": "python"
    }
  },
  "cells": [
    {
      "cell_type": "code",
      "source": [
        "from google.colab import drive\n",
        "\n",
        "drive.mount('/content/gdrive')"
      ],
      "metadata": {
        "colab": {
          "base_uri": "https://localhost:8080/"
        },
        "id": "Wc5HOgw8v-Dy",
        "outputId": "a0949597-b632-4a37-9e0c-4de756407d5d"
      },
      "execution_count": null,
      "outputs": [
        {
          "output_type": "stream",
          "name": "stdout",
          "text": [
            "Drive already mounted at /content/gdrive; to attempt to forcibly remount, call drive.mount(\"/content/gdrive\", force_remount=True).\n"
          ]
        }
      ]
    },
    {
      "cell_type": "code",
      "source": [
        "!pip uninstall pandas\n",
        "!pip install pandas==1.3.0"
      ],
      "metadata": {
        "colab": {
          "base_uri": "https://localhost:8080/"
        },
        "id": "p4e35l35d8-z",
        "outputId": "d4006d2f-4f49-4f7c-85d8-a9c3b5b35d0d"
      },
      "execution_count": null,
      "outputs": [
        {
          "output_type": "stream",
          "name": "stdout",
          "text": [
            "Found existing installation: pandas 1.3.0\n",
            "Uninstalling pandas-1.3.0:\n",
            "  Would remove:\n",
            "    /usr/local/lib/python3.9/dist-packages/pandas-1.3.0.dist-info/*\n",
            "    /usr/local/lib/python3.9/dist-packages/pandas/*\n",
            "Proceed (Y/n)? Y\n",
            "  Successfully uninstalled pandas-1.3.0\n",
            "Looking in indexes: https://pypi.org/simple, https://us-python.pkg.dev/colab-wheels/public/simple/\n",
            "Collecting pandas==1.3.0\n",
            "  Using cached pandas-1.3.0-cp39-cp39-manylinux_2_5_x86_64.manylinux1_x86_64.whl (10.6 MB)\n",
            "Requirement already satisfied: numpy>=1.17.3 in /usr/local/lib/python3.9/dist-packages (from pandas==1.3.0) (1.22.4)\n",
            "Requirement already satisfied: pytz>=2017.3 in /usr/local/lib/python3.9/dist-packages (from pandas==1.3.0) (2022.7.1)\n",
            "Requirement already satisfied: python-dateutil>=2.7.3 in /usr/local/lib/python3.9/dist-packages (from pandas==1.3.0) (2.8.2)\n",
            "Requirement already satisfied: six>=1.5 in /usr/local/lib/python3.9/dist-packages (from python-dateutil>=2.7.3->pandas==1.3.0) (1.16.0)\n",
            "Installing collected packages: pandas\n",
            "\u001b[31mERROR: pip's dependency resolver does not currently take into account all the packages that are installed. This behaviour is the source of the following dependency conflicts.\n",
            "plotnine 0.10.1 requires pandas>=1.3.5, but you have pandas 1.3.0 which is incompatible.\n",
            "mizani 0.8.1 requires pandas>=1.3.5, but you have pandas 1.3.0 which is incompatible.\u001b[0m\u001b[31m\n",
            "\u001b[0mSuccessfully installed pandas-1.3.0\n"
          ]
        }
      ]
    },
    {
      "cell_type": "code",
      "execution_count": null,
      "metadata": {
        "colab": {
          "base_uri": "https://localhost:8080/"
        },
        "id": "e39XZcSzvSKV",
        "outputId": "d36558ea-ad0c-4ae7-de3c-81d3c85b3047"
      },
      "outputs": [
        {
          "output_type": "stream",
          "name": "stdout",
          "text": [
            "1.3.0\n"
          ]
        }
      ],
      "source": [
        "import numpy as np\n",
        "import pandas as pd\n",
        "print(pd.__version__)"
      ]
    },
    {
      "cell_type": "code",
      "source": [
        "data = pd.read_csv('/content/gdrive/MyDrive/Datasets/Titanic_Dataset/train.csv')"
      ],
      "metadata": {
        "id": "8SLvNAyrvdwD"
      },
      "execution_count": null,
      "outputs": []
    },
    {
      "cell_type": "code",
      "source": [
        "data.head()"
      ],
      "metadata": {
        "colab": {
          "base_uri": "https://localhost:8080/",
          "height": 250
        },
        "id": "JTT07gRCwQO0",
        "outputId": "8583b75c-2239-4796-d1d0-6b176399be62"
      },
      "execution_count": null,
      "outputs": [
        {
          "output_type": "execute_result",
          "data": {
            "text/plain": [
              "   PassengerId  Survived  Pclass  \\\n",
              "0            1         0       3   \n",
              "1            2         1       1   \n",
              "2            3         1       3   \n",
              "3            4         1       1   \n",
              "4            5         0       3   \n",
              "\n",
              "                                                Name     Sex   Age  SibSp  \\\n",
              "0                            Braund, Mr. Owen Harris    male  22.0      1   \n",
              "1  Cumings, Mrs. John Bradley (Florence Briggs Th...  female  38.0      1   \n",
              "2                             Heikkinen, Miss. Laina  female  26.0      0   \n",
              "3       Futrelle, Mrs. Jacques Heath (Lily May Peel)  female  35.0      1   \n",
              "4                           Allen, Mr. William Henry    male  35.0      0   \n",
              "\n",
              "   Parch            Ticket     Fare Cabin Embarked  \n",
              "0      0         A/5 21171   7.2500   NaN        S  \n",
              "1      0          PC 17599  71.2833   C85        C  \n",
              "2      0  STON/O2. 3101282   7.9250   NaN        S  \n",
              "3      0            113803  53.1000  C123        S  \n",
              "4      0            373450   8.0500   NaN        S  "
            ],
            "text/html": [
              "\n",
              "  <div id=\"df-15505c10-934b-45b3-b2ef-0083b1048d16\">\n",
              "    <div class=\"colab-df-container\">\n",
              "      <div>\n",
              "<style scoped>\n",
              "    .dataframe tbody tr th:only-of-type {\n",
              "        vertical-align: middle;\n",
              "    }\n",
              "\n",
              "    .dataframe tbody tr th {\n",
              "        vertical-align: top;\n",
              "    }\n",
              "\n",
              "    .dataframe thead th {\n",
              "        text-align: right;\n",
              "    }\n",
              "</style>\n",
              "<table border=\"1\" class=\"dataframe\">\n",
              "  <thead>\n",
              "    <tr style=\"text-align: right;\">\n",
              "      <th></th>\n",
              "      <th>PassengerId</th>\n",
              "      <th>Survived</th>\n",
              "      <th>Pclass</th>\n",
              "      <th>Name</th>\n",
              "      <th>Sex</th>\n",
              "      <th>Age</th>\n",
              "      <th>SibSp</th>\n",
              "      <th>Parch</th>\n",
              "      <th>Ticket</th>\n",
              "      <th>Fare</th>\n",
              "      <th>Cabin</th>\n",
              "      <th>Embarked</th>\n",
              "    </tr>\n",
              "  </thead>\n",
              "  <tbody>\n",
              "    <tr>\n",
              "      <th>0</th>\n",
              "      <td>1</td>\n",
              "      <td>0</td>\n",
              "      <td>3</td>\n",
              "      <td>Braund, Mr. Owen Harris</td>\n",
              "      <td>male</td>\n",
              "      <td>22.0</td>\n",
              "      <td>1</td>\n",
              "      <td>0</td>\n",
              "      <td>A/5 21171</td>\n",
              "      <td>7.2500</td>\n",
              "      <td>NaN</td>\n",
              "      <td>S</td>\n",
              "    </tr>\n",
              "    <tr>\n",
              "      <th>1</th>\n",
              "      <td>2</td>\n",
              "      <td>1</td>\n",
              "      <td>1</td>\n",
              "      <td>Cumings, Mrs. John Bradley (Florence Briggs Th...</td>\n",
              "      <td>female</td>\n",
              "      <td>38.0</td>\n",
              "      <td>1</td>\n",
              "      <td>0</td>\n",
              "      <td>PC 17599</td>\n",
              "      <td>71.2833</td>\n",
              "      <td>C85</td>\n",
              "      <td>C</td>\n",
              "    </tr>\n",
              "    <tr>\n",
              "      <th>2</th>\n",
              "      <td>3</td>\n",
              "      <td>1</td>\n",
              "      <td>3</td>\n",
              "      <td>Heikkinen, Miss. Laina</td>\n",
              "      <td>female</td>\n",
              "      <td>26.0</td>\n",
              "      <td>0</td>\n",
              "      <td>0</td>\n",
              "      <td>STON/O2. 3101282</td>\n",
              "      <td>7.9250</td>\n",
              "      <td>NaN</td>\n",
              "      <td>S</td>\n",
              "    </tr>\n",
              "    <tr>\n",
              "      <th>3</th>\n",
              "      <td>4</td>\n",
              "      <td>1</td>\n",
              "      <td>1</td>\n",
              "      <td>Futrelle, Mrs. Jacques Heath (Lily May Peel)</td>\n",
              "      <td>female</td>\n",
              "      <td>35.0</td>\n",
              "      <td>1</td>\n",
              "      <td>0</td>\n",
              "      <td>113803</td>\n",
              "      <td>53.1000</td>\n",
              "      <td>C123</td>\n",
              "      <td>S</td>\n",
              "    </tr>\n",
              "    <tr>\n",
              "      <th>4</th>\n",
              "      <td>5</td>\n",
              "      <td>0</td>\n",
              "      <td>3</td>\n",
              "      <td>Allen, Mr. William Henry</td>\n",
              "      <td>male</td>\n",
              "      <td>35.0</td>\n",
              "      <td>0</td>\n",
              "      <td>0</td>\n",
              "      <td>373450</td>\n",
              "      <td>8.0500</td>\n",
              "      <td>NaN</td>\n",
              "      <td>S</td>\n",
              "    </tr>\n",
              "  </tbody>\n",
              "</table>\n",
              "</div>\n",
              "      <button class=\"colab-df-convert\" onclick=\"convertToInteractive('df-15505c10-934b-45b3-b2ef-0083b1048d16')\"\n",
              "              title=\"Convert this dataframe to an interactive table.\"\n",
              "              style=\"display:none;\">\n",
              "        \n",
              "  <svg xmlns=\"http://www.w3.org/2000/svg\" height=\"24px\"viewBox=\"0 0 24 24\"\n",
              "       width=\"24px\">\n",
              "    <path d=\"M0 0h24v24H0V0z\" fill=\"none\"/>\n",
              "    <path d=\"M18.56 5.44l.94 2.06.94-2.06 2.06-.94-2.06-.94-.94-2.06-.94 2.06-2.06.94zm-11 1L8.5 8.5l.94-2.06 2.06-.94-2.06-.94L8.5 2.5l-.94 2.06-2.06.94zm10 10l.94 2.06.94-2.06 2.06-.94-2.06-.94-.94-2.06-.94 2.06-2.06.94z\"/><path d=\"M17.41 7.96l-1.37-1.37c-.4-.4-.92-.59-1.43-.59-.52 0-1.04.2-1.43.59L10.3 9.45l-7.72 7.72c-.78.78-.78 2.05 0 2.83L4 21.41c.39.39.9.59 1.41.59.51 0 1.02-.2 1.41-.59l7.78-7.78 2.81-2.81c.8-.78.8-2.07 0-2.86zM5.41 20L4 18.59l7.72-7.72 1.47 1.35L5.41 20z\"/>\n",
              "  </svg>\n",
              "      </button>\n",
              "      \n",
              "  <style>\n",
              "    .colab-df-container {\n",
              "      display:flex;\n",
              "      flex-wrap:wrap;\n",
              "      gap: 12px;\n",
              "    }\n",
              "\n",
              "    .colab-df-convert {\n",
              "      background-color: #E8F0FE;\n",
              "      border: none;\n",
              "      border-radius: 50%;\n",
              "      cursor: pointer;\n",
              "      display: none;\n",
              "      fill: #1967D2;\n",
              "      height: 32px;\n",
              "      padding: 0 0 0 0;\n",
              "      width: 32px;\n",
              "    }\n",
              "\n",
              "    .colab-df-convert:hover {\n",
              "      background-color: #E2EBFA;\n",
              "      box-shadow: 0px 1px 2px rgba(60, 64, 67, 0.3), 0px 1px 3px 1px rgba(60, 64, 67, 0.15);\n",
              "      fill: #174EA6;\n",
              "    }\n",
              "\n",
              "    [theme=dark] .colab-df-convert {\n",
              "      background-color: #3B4455;\n",
              "      fill: #D2E3FC;\n",
              "    }\n",
              "\n",
              "    [theme=dark] .colab-df-convert:hover {\n",
              "      background-color: #434B5C;\n",
              "      box-shadow: 0px 1px 3px 1px rgba(0, 0, 0, 0.15);\n",
              "      filter: drop-shadow(0px 1px 2px rgba(0, 0, 0, 0.3));\n",
              "      fill: #FFFFFF;\n",
              "    }\n",
              "  </style>\n",
              "\n",
              "      <script>\n",
              "        const buttonEl =\n",
              "          document.querySelector('#df-15505c10-934b-45b3-b2ef-0083b1048d16 button.colab-df-convert');\n",
              "        buttonEl.style.display =\n",
              "          google.colab.kernel.accessAllowed ? 'block' : 'none';\n",
              "\n",
              "        async function convertToInteractive(key) {\n",
              "          const element = document.querySelector('#df-15505c10-934b-45b3-b2ef-0083b1048d16');\n",
              "          const dataTable =\n",
              "            await google.colab.kernel.invokeFunction('convertToInteractive',\n",
              "                                                     [key], {});\n",
              "          if (!dataTable) return;\n",
              "\n",
              "          const docLinkHtml = 'Like what you see? Visit the ' +\n",
              "            '<a target=\"_blank\" href=https://colab.research.google.com/notebooks/data_table.ipynb>data table notebook</a>'\n",
              "            + ' to learn more about interactive tables.';\n",
              "          element.innerHTML = '';\n",
              "          dataTable['output_type'] = 'display_data';\n",
              "          await google.colab.output.renderOutput(dataTable, element);\n",
              "          const docLink = document.createElement('div');\n",
              "          docLink.innerHTML = docLinkHtml;\n",
              "          element.appendChild(docLink);\n",
              "        }\n",
              "      </script>\n",
              "    </div>\n",
              "  </div>\n",
              "  "
            ]
          },
          "metadata": {},
          "execution_count": 5
        }
      ]
    },
    {
      "cell_type": "code",
      "source": [
        "data.info()"
      ],
      "metadata": {
        "colab": {
          "base_uri": "https://localhost:8080/"
        },
        "id": "Mz2IRmjSwWm7",
        "outputId": "edfd38de-9b65-444d-cd13-14e1a7fda98e"
      },
      "execution_count": null,
      "outputs": [
        {
          "output_type": "stream",
          "name": "stdout",
          "text": [
            "<class 'pandas.core.frame.DataFrame'>\n",
            "RangeIndex: 891 entries, 0 to 890\n",
            "Data columns (total 12 columns):\n",
            " #   Column       Non-Null Count  Dtype  \n",
            "---  ------       --------------  -----  \n",
            " 0   PassengerId  891 non-null    int64  \n",
            " 1   Survived     891 non-null    int64  \n",
            " 2   Pclass       891 non-null    int64  \n",
            " 3   Name         891 non-null    object \n",
            " 4   Sex          891 non-null    object \n",
            " 5   Age          714 non-null    float64\n",
            " 6   SibSp        891 non-null    int64  \n",
            " 7   Parch        891 non-null    int64  \n",
            " 8   Ticket       891 non-null    object \n",
            " 9   Fare         891 non-null    float64\n",
            " 10  Cabin        204 non-null    object \n",
            " 11  Embarked     889 non-null    object \n",
            "dtypes: float64(2), int64(5), object(5)\n",
            "memory usage: 83.7+ KB\n"
          ]
        }
      ]
    },
    {
      "cell_type": "code",
      "source": [
        "cols_dropped = [\"PassengerId\", \"Name\", \"Ticket\", \"Cabin\", \"Embarked\"]"
      ],
      "metadata": {
        "id": "K6PmlhqvwgXH"
      },
      "execution_count": null,
      "outputs": []
    },
    {
      "cell_type": "code",
      "source": [
        "data_clean = data.drop(cols_dropped, axis = 1)"
      ],
      "metadata": {
        "id": "spI_BP3ixJTg"
      },
      "execution_count": null,
      "outputs": []
    },
    {
      "cell_type": "code",
      "source": [
        "data_clean.head()"
      ],
      "metadata": {
        "colab": {
          "base_uri": "https://localhost:8080/",
          "height": 206
        },
        "id": "FlabaTYexSDj",
        "outputId": "7549f10c-5180-4464-dc61-9f380aee0afe"
      },
      "execution_count": null,
      "outputs": [
        {
          "output_type": "execute_result",
          "data": {
            "text/plain": [
              "   Survived  Pclass     Sex   Age  SibSp  Parch     Fare\n",
              "0         0       3    male  22.0      1      0   7.2500\n",
              "1         1       1  female  38.0      1      0  71.2833\n",
              "2         1       3  female  26.0      0      0   7.9250\n",
              "3         1       1  female  35.0      1      0  53.1000\n",
              "4         0       3    male  35.0      0      0   8.0500"
            ],
            "text/html": [
              "\n",
              "  <div id=\"df-51d11254-c925-4472-a364-9554b7e01e7e\">\n",
              "    <div class=\"colab-df-container\">\n",
              "      <div>\n",
              "<style scoped>\n",
              "    .dataframe tbody tr th:only-of-type {\n",
              "        vertical-align: middle;\n",
              "    }\n",
              "\n",
              "    .dataframe tbody tr th {\n",
              "        vertical-align: top;\n",
              "    }\n",
              "\n",
              "    .dataframe thead th {\n",
              "        text-align: right;\n",
              "    }\n",
              "</style>\n",
              "<table border=\"1\" class=\"dataframe\">\n",
              "  <thead>\n",
              "    <tr style=\"text-align: right;\">\n",
              "      <th></th>\n",
              "      <th>Survived</th>\n",
              "      <th>Pclass</th>\n",
              "      <th>Sex</th>\n",
              "      <th>Age</th>\n",
              "      <th>SibSp</th>\n",
              "      <th>Parch</th>\n",
              "      <th>Fare</th>\n",
              "    </tr>\n",
              "  </thead>\n",
              "  <tbody>\n",
              "    <tr>\n",
              "      <th>0</th>\n",
              "      <td>0</td>\n",
              "      <td>3</td>\n",
              "      <td>male</td>\n",
              "      <td>22.0</td>\n",
              "      <td>1</td>\n",
              "      <td>0</td>\n",
              "      <td>7.2500</td>\n",
              "    </tr>\n",
              "    <tr>\n",
              "      <th>1</th>\n",
              "      <td>1</td>\n",
              "      <td>1</td>\n",
              "      <td>female</td>\n",
              "      <td>38.0</td>\n",
              "      <td>1</td>\n",
              "      <td>0</td>\n",
              "      <td>71.2833</td>\n",
              "    </tr>\n",
              "    <tr>\n",
              "      <th>2</th>\n",
              "      <td>1</td>\n",
              "      <td>3</td>\n",
              "      <td>female</td>\n",
              "      <td>26.0</td>\n",
              "      <td>0</td>\n",
              "      <td>0</td>\n",
              "      <td>7.9250</td>\n",
              "    </tr>\n",
              "    <tr>\n",
              "      <th>3</th>\n",
              "      <td>1</td>\n",
              "      <td>1</td>\n",
              "      <td>female</td>\n",
              "      <td>35.0</td>\n",
              "      <td>1</td>\n",
              "      <td>0</td>\n",
              "      <td>53.1000</td>\n",
              "    </tr>\n",
              "    <tr>\n",
              "      <th>4</th>\n",
              "      <td>0</td>\n",
              "      <td>3</td>\n",
              "      <td>male</td>\n",
              "      <td>35.0</td>\n",
              "      <td>0</td>\n",
              "      <td>0</td>\n",
              "      <td>8.0500</td>\n",
              "    </tr>\n",
              "  </tbody>\n",
              "</table>\n",
              "</div>\n",
              "      <button class=\"colab-df-convert\" onclick=\"convertToInteractive('df-51d11254-c925-4472-a364-9554b7e01e7e')\"\n",
              "              title=\"Convert this dataframe to an interactive table.\"\n",
              "              style=\"display:none;\">\n",
              "        \n",
              "  <svg xmlns=\"http://www.w3.org/2000/svg\" height=\"24px\"viewBox=\"0 0 24 24\"\n",
              "       width=\"24px\">\n",
              "    <path d=\"M0 0h24v24H0V0z\" fill=\"none\"/>\n",
              "    <path d=\"M18.56 5.44l.94 2.06.94-2.06 2.06-.94-2.06-.94-.94-2.06-.94 2.06-2.06.94zm-11 1L8.5 8.5l.94-2.06 2.06-.94-2.06-.94L8.5 2.5l-.94 2.06-2.06.94zm10 10l.94 2.06.94-2.06 2.06-.94-2.06-.94-.94-2.06-.94 2.06-2.06.94z\"/><path d=\"M17.41 7.96l-1.37-1.37c-.4-.4-.92-.59-1.43-.59-.52 0-1.04.2-1.43.59L10.3 9.45l-7.72 7.72c-.78.78-.78 2.05 0 2.83L4 21.41c.39.39.9.59 1.41.59.51 0 1.02-.2 1.41-.59l7.78-7.78 2.81-2.81c.8-.78.8-2.07 0-2.86zM5.41 20L4 18.59l7.72-7.72 1.47 1.35L5.41 20z\"/>\n",
              "  </svg>\n",
              "      </button>\n",
              "      \n",
              "  <style>\n",
              "    .colab-df-container {\n",
              "      display:flex;\n",
              "      flex-wrap:wrap;\n",
              "      gap: 12px;\n",
              "    }\n",
              "\n",
              "    .colab-df-convert {\n",
              "      background-color: #E8F0FE;\n",
              "      border: none;\n",
              "      border-radius: 50%;\n",
              "      cursor: pointer;\n",
              "      display: none;\n",
              "      fill: #1967D2;\n",
              "      height: 32px;\n",
              "      padding: 0 0 0 0;\n",
              "      width: 32px;\n",
              "    }\n",
              "\n",
              "    .colab-df-convert:hover {\n",
              "      background-color: #E2EBFA;\n",
              "      box-shadow: 0px 1px 2px rgba(60, 64, 67, 0.3), 0px 1px 3px 1px rgba(60, 64, 67, 0.15);\n",
              "      fill: #174EA6;\n",
              "    }\n",
              "\n",
              "    [theme=dark] .colab-df-convert {\n",
              "      background-color: #3B4455;\n",
              "      fill: #D2E3FC;\n",
              "    }\n",
              "\n",
              "    [theme=dark] .colab-df-convert:hover {\n",
              "      background-color: #434B5C;\n",
              "      box-shadow: 0px 1px 3px 1px rgba(0, 0, 0, 0.15);\n",
              "      filter: drop-shadow(0px 1px 2px rgba(0, 0, 0, 0.3));\n",
              "      fill: #FFFFFF;\n",
              "    }\n",
              "  </style>\n",
              "\n",
              "      <script>\n",
              "        const buttonEl =\n",
              "          document.querySelector('#df-51d11254-c925-4472-a364-9554b7e01e7e button.colab-df-convert');\n",
              "        buttonEl.style.display =\n",
              "          google.colab.kernel.accessAllowed ? 'block' : 'none';\n",
              "\n",
              "        async function convertToInteractive(key) {\n",
              "          const element = document.querySelector('#df-51d11254-c925-4472-a364-9554b7e01e7e');\n",
              "          const dataTable =\n",
              "            await google.colab.kernel.invokeFunction('convertToInteractive',\n",
              "                                                     [key], {});\n",
              "          if (!dataTable) return;\n",
              "\n",
              "          const docLinkHtml = 'Like what you see? Visit the ' +\n",
              "            '<a target=\"_blank\" href=https://colab.research.google.com/notebooks/data_table.ipynb>data table notebook</a>'\n",
              "            + ' to learn more about interactive tables.';\n",
              "          element.innerHTML = '';\n",
              "          dataTable['output_type'] = 'display_data';\n",
              "          await google.colab.output.renderOutput(dataTable, element);\n",
              "          const docLink = document.createElement('div');\n",
              "          docLink.innerHTML = docLinkHtml;\n",
              "          element.appendChild(docLink);\n",
              "        }\n",
              "      </script>\n",
              "    </div>\n",
              "  </div>\n",
              "  "
            ]
          },
          "metadata": {},
          "execution_count": 9
        }
      ]
    },
    {
      "cell_type": "code",
      "source": [
        "from sklearn.preprocessing import LabelEncoder"
      ],
      "metadata": {
        "id": "nzjAQ0vFxVST"
      },
      "execution_count": null,
      "outputs": []
    },
    {
      "cell_type": "code",
      "source": [
        "le = LabelEncoder()\n",
        "\n",
        "data_clean[\"Sex\"] = le.fit_transform(data_clean[\"Sex\"])"
      ],
      "metadata": {
        "id": "gqQtdxZ8yP_t"
      },
      "execution_count": null,
      "outputs": []
    },
    {
      "cell_type": "code",
      "source": [
        "data_clean"
      ],
      "metadata": {
        "colab": {
          "base_uri": "https://localhost:8080/",
          "height": 424
        },
        "id": "-l8jtpFsyayW",
        "outputId": "b6b44c03-c7aa-4f10-cf5e-29e86c11c225"
      },
      "execution_count": null,
      "outputs": [
        {
          "output_type": "execute_result",
          "data": {
            "text/plain": [
              "     Survived  Pclass  Sex   Age  SibSp  Parch     Fare\n",
              "0           0       3    1  22.0      1      0   7.2500\n",
              "1           1       1    0  38.0      1      0  71.2833\n",
              "2           1       3    0  26.0      0      0   7.9250\n",
              "3           1       1    0  35.0      1      0  53.1000\n",
              "4           0       3    1  35.0      0      0   8.0500\n",
              "..        ...     ...  ...   ...    ...    ...      ...\n",
              "886         0       2    1  27.0      0      0  13.0000\n",
              "887         1       1    0  19.0      0      0  30.0000\n",
              "888         0       3    0   NaN      1      2  23.4500\n",
              "889         1       1    1  26.0      0      0  30.0000\n",
              "890         0       3    1  32.0      0      0   7.7500\n",
              "\n",
              "[891 rows x 7 columns]"
            ],
            "text/html": [
              "\n",
              "  <div id=\"df-95e3f55e-1e8c-4aff-abd5-db66c72971bc\">\n",
              "    <div class=\"colab-df-container\">\n",
              "      <div>\n",
              "<style scoped>\n",
              "    .dataframe tbody tr th:only-of-type {\n",
              "        vertical-align: middle;\n",
              "    }\n",
              "\n",
              "    .dataframe tbody tr th {\n",
              "        vertical-align: top;\n",
              "    }\n",
              "\n",
              "    .dataframe thead th {\n",
              "        text-align: right;\n",
              "    }\n",
              "</style>\n",
              "<table border=\"1\" class=\"dataframe\">\n",
              "  <thead>\n",
              "    <tr style=\"text-align: right;\">\n",
              "      <th></th>\n",
              "      <th>Survived</th>\n",
              "      <th>Pclass</th>\n",
              "      <th>Sex</th>\n",
              "      <th>Age</th>\n",
              "      <th>SibSp</th>\n",
              "      <th>Parch</th>\n",
              "      <th>Fare</th>\n",
              "    </tr>\n",
              "  </thead>\n",
              "  <tbody>\n",
              "    <tr>\n",
              "      <th>0</th>\n",
              "      <td>0</td>\n",
              "      <td>3</td>\n",
              "      <td>1</td>\n",
              "      <td>22.0</td>\n",
              "      <td>1</td>\n",
              "      <td>0</td>\n",
              "      <td>7.2500</td>\n",
              "    </tr>\n",
              "    <tr>\n",
              "      <th>1</th>\n",
              "      <td>1</td>\n",
              "      <td>1</td>\n",
              "      <td>0</td>\n",
              "      <td>38.0</td>\n",
              "      <td>1</td>\n",
              "      <td>0</td>\n",
              "      <td>71.2833</td>\n",
              "    </tr>\n",
              "    <tr>\n",
              "      <th>2</th>\n",
              "      <td>1</td>\n",
              "      <td>3</td>\n",
              "      <td>0</td>\n",
              "      <td>26.0</td>\n",
              "      <td>0</td>\n",
              "      <td>0</td>\n",
              "      <td>7.9250</td>\n",
              "    </tr>\n",
              "    <tr>\n",
              "      <th>3</th>\n",
              "      <td>1</td>\n",
              "      <td>1</td>\n",
              "      <td>0</td>\n",
              "      <td>35.0</td>\n",
              "      <td>1</td>\n",
              "      <td>0</td>\n",
              "      <td>53.1000</td>\n",
              "    </tr>\n",
              "    <tr>\n",
              "      <th>4</th>\n",
              "      <td>0</td>\n",
              "      <td>3</td>\n",
              "      <td>1</td>\n",
              "      <td>35.0</td>\n",
              "      <td>0</td>\n",
              "      <td>0</td>\n",
              "      <td>8.0500</td>\n",
              "    </tr>\n",
              "    <tr>\n",
              "      <th>...</th>\n",
              "      <td>...</td>\n",
              "      <td>...</td>\n",
              "      <td>...</td>\n",
              "      <td>...</td>\n",
              "      <td>...</td>\n",
              "      <td>...</td>\n",
              "      <td>...</td>\n",
              "    </tr>\n",
              "    <tr>\n",
              "      <th>886</th>\n",
              "      <td>0</td>\n",
              "      <td>2</td>\n",
              "      <td>1</td>\n",
              "      <td>27.0</td>\n",
              "      <td>0</td>\n",
              "      <td>0</td>\n",
              "      <td>13.0000</td>\n",
              "    </tr>\n",
              "    <tr>\n",
              "      <th>887</th>\n",
              "      <td>1</td>\n",
              "      <td>1</td>\n",
              "      <td>0</td>\n",
              "      <td>19.0</td>\n",
              "      <td>0</td>\n",
              "      <td>0</td>\n",
              "      <td>30.0000</td>\n",
              "    </tr>\n",
              "    <tr>\n",
              "      <th>888</th>\n",
              "      <td>0</td>\n",
              "      <td>3</td>\n",
              "      <td>0</td>\n",
              "      <td>NaN</td>\n",
              "      <td>1</td>\n",
              "      <td>2</td>\n",
              "      <td>23.4500</td>\n",
              "    </tr>\n",
              "    <tr>\n",
              "      <th>889</th>\n",
              "      <td>1</td>\n",
              "      <td>1</td>\n",
              "      <td>1</td>\n",
              "      <td>26.0</td>\n",
              "      <td>0</td>\n",
              "      <td>0</td>\n",
              "      <td>30.0000</td>\n",
              "    </tr>\n",
              "    <tr>\n",
              "      <th>890</th>\n",
              "      <td>0</td>\n",
              "      <td>3</td>\n",
              "      <td>1</td>\n",
              "      <td>32.0</td>\n",
              "      <td>0</td>\n",
              "      <td>0</td>\n",
              "      <td>7.7500</td>\n",
              "    </tr>\n",
              "  </tbody>\n",
              "</table>\n",
              "<p>891 rows × 7 columns</p>\n",
              "</div>\n",
              "      <button class=\"colab-df-convert\" onclick=\"convertToInteractive('df-95e3f55e-1e8c-4aff-abd5-db66c72971bc')\"\n",
              "              title=\"Convert this dataframe to an interactive table.\"\n",
              "              style=\"display:none;\">\n",
              "        \n",
              "  <svg xmlns=\"http://www.w3.org/2000/svg\" height=\"24px\"viewBox=\"0 0 24 24\"\n",
              "       width=\"24px\">\n",
              "    <path d=\"M0 0h24v24H0V0z\" fill=\"none\"/>\n",
              "    <path d=\"M18.56 5.44l.94 2.06.94-2.06 2.06-.94-2.06-.94-.94-2.06-.94 2.06-2.06.94zm-11 1L8.5 8.5l.94-2.06 2.06-.94-2.06-.94L8.5 2.5l-.94 2.06-2.06.94zm10 10l.94 2.06.94-2.06 2.06-.94-2.06-.94-.94-2.06-.94 2.06-2.06.94z\"/><path d=\"M17.41 7.96l-1.37-1.37c-.4-.4-.92-.59-1.43-.59-.52 0-1.04.2-1.43.59L10.3 9.45l-7.72 7.72c-.78.78-.78 2.05 0 2.83L4 21.41c.39.39.9.59 1.41.59.51 0 1.02-.2 1.41-.59l7.78-7.78 2.81-2.81c.8-.78.8-2.07 0-2.86zM5.41 20L4 18.59l7.72-7.72 1.47 1.35L5.41 20z\"/>\n",
              "  </svg>\n",
              "      </button>\n",
              "      \n",
              "  <style>\n",
              "    .colab-df-container {\n",
              "      display:flex;\n",
              "      flex-wrap:wrap;\n",
              "      gap: 12px;\n",
              "    }\n",
              "\n",
              "    .colab-df-convert {\n",
              "      background-color: #E8F0FE;\n",
              "      border: none;\n",
              "      border-radius: 50%;\n",
              "      cursor: pointer;\n",
              "      display: none;\n",
              "      fill: #1967D2;\n",
              "      height: 32px;\n",
              "      padding: 0 0 0 0;\n",
              "      width: 32px;\n",
              "    }\n",
              "\n",
              "    .colab-df-convert:hover {\n",
              "      background-color: #E2EBFA;\n",
              "      box-shadow: 0px 1px 2px rgba(60, 64, 67, 0.3), 0px 1px 3px 1px rgba(60, 64, 67, 0.15);\n",
              "      fill: #174EA6;\n",
              "    }\n",
              "\n",
              "    [theme=dark] .colab-df-convert {\n",
              "      background-color: #3B4455;\n",
              "      fill: #D2E3FC;\n",
              "    }\n",
              "\n",
              "    [theme=dark] .colab-df-convert:hover {\n",
              "      background-color: #434B5C;\n",
              "      box-shadow: 0px 1px 3px 1px rgba(0, 0, 0, 0.15);\n",
              "      filter: drop-shadow(0px 1px 2px rgba(0, 0, 0, 0.3));\n",
              "      fill: #FFFFFF;\n",
              "    }\n",
              "  </style>\n",
              "\n",
              "      <script>\n",
              "        const buttonEl =\n",
              "          document.querySelector('#df-95e3f55e-1e8c-4aff-abd5-db66c72971bc button.colab-df-convert');\n",
              "        buttonEl.style.display =\n",
              "          google.colab.kernel.accessAllowed ? 'block' : 'none';\n",
              "\n",
              "        async function convertToInteractive(key) {\n",
              "          const element = document.querySelector('#df-95e3f55e-1e8c-4aff-abd5-db66c72971bc');\n",
              "          const dataTable =\n",
              "            await google.colab.kernel.invokeFunction('convertToInteractive',\n",
              "                                                     [key], {});\n",
              "          if (!dataTable) return;\n",
              "\n",
              "          const docLinkHtml = 'Like what you see? Visit the ' +\n",
              "            '<a target=\"_blank\" href=https://colab.research.google.com/notebooks/data_table.ipynb>data table notebook</a>'\n",
              "            + ' to learn more about interactive tables.';\n",
              "          element.innerHTML = '';\n",
              "          dataTable['output_type'] = 'display_data';\n",
              "          await google.colab.output.renderOutput(dataTable, element);\n",
              "          const docLink = document.createElement('div');\n",
              "          docLink.innerHTML = docLinkHtml;\n",
              "          element.appendChild(docLink);\n",
              "        }\n",
              "      </script>\n",
              "    </div>\n",
              "  </div>\n",
              "  "
            ]
          },
          "metadata": {},
          "execution_count": 12
        }
      ]
    },
    {
      "cell_type": "code",
      "source": [
        "data_clean.info()"
      ],
      "metadata": {
        "colab": {
          "base_uri": "https://localhost:8080/"
        },
        "id": "1FxubR4fyejT",
        "outputId": "7e3c18af-6ecc-4ba3-ea23-0a26b9d864ac"
      },
      "execution_count": null,
      "outputs": [
        {
          "output_type": "stream",
          "name": "stdout",
          "text": [
            "<class 'pandas.core.frame.DataFrame'>\n",
            "RangeIndex: 891 entries, 0 to 890\n",
            "Data columns (total 7 columns):\n",
            " #   Column    Non-Null Count  Dtype  \n",
            "---  ------    --------------  -----  \n",
            " 0   Survived  891 non-null    int64  \n",
            " 1   Pclass    891 non-null    int64  \n",
            " 2   Sex       891 non-null    int64  \n",
            " 3   Age       714 non-null    float64\n",
            " 4   SibSp     891 non-null    int64  \n",
            " 5   Parch     891 non-null    int64  \n",
            " 6   Fare      891 non-null    float64\n",
            "dtypes: float64(2), int64(5)\n",
            "memory usage: 48.9 KB\n"
          ]
        }
      ]
    },
    {
      "cell_type": "code",
      "source": [
        "data_clean = data_clean.fillna(data_clean[\"Age\"].mean())"
      ],
      "metadata": {
        "id": "2lrCkPhLyiWQ"
      },
      "execution_count": null,
      "outputs": []
    },
    {
      "cell_type": "code",
      "source": [
        "data_clean.info()"
      ],
      "metadata": {
        "colab": {
          "base_uri": "https://localhost:8080/"
        },
        "id": "5Nqi7ny2yuZN",
        "outputId": "ebeab126-859f-413b-9584-25478b48c914"
      },
      "execution_count": null,
      "outputs": [
        {
          "output_type": "stream",
          "name": "stdout",
          "text": [
            "<class 'pandas.core.frame.DataFrame'>\n",
            "RangeIndex: 891 entries, 0 to 890\n",
            "Data columns (total 7 columns):\n",
            " #   Column    Non-Null Count  Dtype  \n",
            "---  ------    --------------  -----  \n",
            " 0   Survived  891 non-null    int64  \n",
            " 1   Pclass    891 non-null    int64  \n",
            " 2   Sex       891 non-null    int64  \n",
            " 3   Age       891 non-null    float64\n",
            " 4   SibSp     891 non-null    int64  \n",
            " 5   Parch     891 non-null    int64  \n",
            " 6   Fare      891 non-null    float64\n",
            "dtypes: float64(2), int64(5)\n",
            "memory usage: 48.9 KB\n"
          ]
        }
      ]
    },
    {
      "cell_type": "code",
      "source": [
        "input = [\"Pclass\", \"Sex\", \"Age\", \"SibSp\", \"Parch\", \"Fare\"]\n",
        "output = [\"Survived\"]\n",
        "\n",
        "X_data = data_clean[input]\n",
        "Y_data = data_clean[output]"
      ],
      "metadata": {
        "id": "xLCHsZL1yyCR"
      },
      "execution_count": null,
      "outputs": []
    },
    {
      "cell_type": "code",
      "source": [
        "print(X_data.shape, Y_data.shape)"
      ],
      "metadata": {
        "colab": {
          "base_uri": "https://localhost:8080/"
        },
        "id": "Mnd4DM7zzePV",
        "outputId": "477eec49-dd70-4b6f-9f46-9ce5f8153af5"
      },
      "execution_count": null,
      "outputs": [
        {
          "output_type": "stream",
          "name": "stdout",
          "text": [
            "(891, 6) (891, 1)\n"
          ]
        }
      ]
    },
    {
      "cell_type": "code",
      "source": [
        "def entropy(col):\n",
        "\n",
        "    counts = np.unique(col, return_counts = True)\n",
        "    N = float(col.shape[0])\n",
        "\n",
        "    entropy = 0\n",
        "\n",
        "    for idx in counts[1]:\n",
        "        p = idx/N\n",
        "        entropy += -1.0*(p*np.log2(p))\n",
        "\n",
        "    return entropy"
      ],
      "metadata": {
        "id": "xpbvlAvQzhqs"
      },
      "execution_count": null,
      "outputs": []
    },
    {
      "cell_type": "code",
      "source": [
        "col = np.array([0,0,1,0,1,1])\n",
        "entropy(col)"
      ],
      "metadata": {
        "colab": {
          "base_uri": "https://localhost:8080/"
        },
        "id": "Ew5mdnH6Dgth",
        "outputId": "b09f1286-c1e5-4a8e-c0a9-854bc32a8455"
      },
      "execution_count": null,
      "outputs": [
        {
          "output_type": "execute_result",
          "data": {
            "text/plain": [
              "1.0"
            ]
          },
          "metadata": {},
          "execution_count": 19
        }
      ]
    },
    {
      "cell_type": "code",
      "source": [
        "def divide_data(X_data, fkey, fval):\n",
        "    X_right = pd.DataFrame([], columns = X_data.columns)\n",
        "    X_left = pd.DataFrame([], columns = X_data.columns)\n",
        "\n",
        "    for idx in range(X_data.shape[0]):\n",
        "        val = X_data[fkey].loc[idx]\n",
        "\n",
        "        if val > fval:\n",
        "            X_right = X_right.append(X_data.loc[idx])\n",
        "            # X_right = pd.concat([X_right, X_data.loc[idx]])\n",
        "        else: \n",
        "            X_left = X_left.append(X_data.loc[idx])\n",
        "\n",
        "    return X_left, X_right"
      ],
      "metadata": {
        "id": "iKWC8oGwER5Y"
      },
      "execution_count": null,
      "outputs": []
    },
    {
      "cell_type": "code",
      "source": [
        "left, right = divide_data(data_clean[:10], 'Sex', 0.5)\n",
        "print(left)\n",
        "print(right)"
      ],
      "metadata": {
        "colab": {
          "base_uri": "https://localhost:8080/"
        },
        "id": "ghh7J3X1KxOS",
        "outputId": "d098b380-cb10-445c-f062-4fdb285a425b"
      },
      "execution_count": null,
      "outputs": [
        {
          "output_type": "stream",
          "name": "stdout",
          "text": [
            "   Survived  Pclass  Sex   Age  SibSp  Parch     Fare\n",
            "1       1.0     1.0  0.0  38.0    1.0    0.0  71.2833\n",
            "2       1.0     3.0  0.0  26.0    0.0    0.0   7.9250\n",
            "3       1.0     1.0  0.0  35.0    1.0    0.0  53.1000\n",
            "8       1.0     3.0  0.0  27.0    0.0    2.0  11.1333\n",
            "9       1.0     2.0  0.0  14.0    1.0    0.0  30.0708\n",
            "   Survived  Pclass  Sex        Age  SibSp  Parch     Fare\n",
            "0       0.0     3.0  1.0  22.000000    1.0    0.0   7.2500\n",
            "4       0.0     3.0  1.0  35.000000    0.0    0.0   8.0500\n",
            "5       0.0     3.0  1.0  29.699118    0.0    0.0   8.4583\n",
            "6       0.0     1.0  1.0  54.000000    0.0    0.0  51.8625\n",
            "7       0.0     3.0  1.0   2.000000    3.0    1.0  21.0750\n"
          ]
        }
      ]
    },
    {
      "cell_type": "code",
      "source": [
        "def info_gain(X_data, fkey, fval):\n",
        "\n",
        "    left, right = divide_data(X_data, fkey, fval)\n",
        "\n",
        "    l = float(left.shape[0])/X_data.shape[0]\n",
        "    r = float(right.shape[0])/X_data.shape[0]\n",
        "\n",
        "    if left.shape[0] == 0 or right.shape[0] == 0:\n",
        "        return -1000000\n",
        "\n",
        "    i_gain = entropy(X_data.Survived) - (l*entropy(left.Survived) + r*entropy(right.Survived))\n",
        "\n",
        "    return i_gain"
      ],
      "metadata": {
        "id": "aPQBYeqiDqb6"
      },
      "execution_count": null,
      "outputs": []
    },
    {
      "cell_type": "code",
      "source": [
        "for i in X_data.columns:\n",
        "    print(info_gain(data_clean, i, data_clean[i].mean()))\n",
        "    print(i)"
      ],
      "metadata": {
        "colab": {
          "base_uri": "https://localhost:8080/"
        },
        "id": "amA_akOoGgLL",
        "outputId": "debf132c-6494-447a-b3ec-1d71c8ac0599"
      },
      "execution_count": null,
      "outputs": [
        {
          "output_type": "stream",
          "name": "stdout",
          "text": [
            "0.07579362743608165\n",
            "Pclass\n",
            "0.2176601066606142\n",
            "Sex\n",
            "0.0008836151229467681\n",
            "Age\n",
            "0.009584541813400071\n",
            "SibSp\n",
            "0.015380754493137694\n",
            "Parch\n",
            "0.042140692838995464\n",
            "Fare\n"
          ]
        }
      ]
    },
    {
      "cell_type": "code",
      "source": [
        "class DecisionTree:\n",
        "\n",
        "    def __init__(self, depth = 0, max_depth = 5):\n",
        "        self.left = None\n",
        "        self.right = None\n",
        "        self.fkey = None\n",
        "        self.fval = None\n",
        "        self.max_depth = max_depth\n",
        "        self.depth = depth\n",
        "        self.target = None\n",
        "\n",
        "\n",
        "    def train(self, X_train):\n",
        "\n",
        "        feat = ['Pclass', 'Sex', 'Age', 'SibSp', 'Parch', 'Fare']\n",
        "        i_gains = []\n",
        "\n",
        "        for i in feat:\n",
        "            i_gain = info_gain(X_train, i, X_train[i].mean())\n",
        "            i_gains.append(i_gain)\n",
        "\n",
        "        self.fkey = feat[np.argmax(i_gains)]\n",
        "\n",
        "        self.fval = X_train[self.fkey].mean()\n",
        "        print(\"Making Tree Feature is: \", self.fkey)\n",
        "\n",
        "        data_left, data_right = divide_data(X_train, self.fkey, self.fval)\n",
        "        data_left = data_left.reset_index(drop = True)\n",
        "        data_right = data_right.reset_index(drop = True)\n",
        "\n",
        "        if data_left.shape[0] == 0 or data_right.shape[0] == 0:\n",
        "            if X_train.Survived.mean() >= 0.5:\n",
        "                self.target = \"Survive\"\n",
        "            else:\n",
        "                self.target = \"Dead\"\n",
        "            return\n",
        "\n",
        "        if (self.depth >= self.max_depth):\n",
        "            if X_train.Survived.mean() >= 0.5:\n",
        "              self.target = \"Survive\"\n",
        "            else:\n",
        "                self.target = \"Dead\"\n",
        "            return\n",
        "\n",
        "        self.left = DecisionTree(depth = self.depth + 1, max_depth=self.max_depth)\n",
        "        self.left.train(data_left)\n",
        "\n",
        "        self.right = DecisionTree(depth = self.depth + 1, max_depth=self.max_depth)\n",
        "        self.right.train(data_right)\n",
        "\n",
        "        if X_train.Survived.mean() >= 0.5:\n",
        "            self.target = \"Survive\"\n",
        "        else:\n",
        "            self.target = \"Dead\"\n",
        "        return\n",
        "\n",
        "    def predict(self, test):\n",
        "        if test[self.fkey] > self.fval:\n",
        "\n",
        "            if self.right is None:\n",
        "                return self.target\n",
        "            return self.right.predict(test)\n",
        "\n",
        "        else:\n",
        "            if self.left is None:\n",
        "                return self.target\n",
        "            return self.left.predict(test)\n",
        "\n",
        "\n",
        "        "
      ],
      "metadata": {
        "id": "9OTOJxxBG7UG"
      },
      "execution_count": null,
      "outputs": []
    },
    {
      "cell_type": "code",
      "source": [
        "# d = DecisionTree()\n",
        "# d.train(data_clean)"
      ],
      "metadata": {
        "id": "jmOXZejbdvYu"
      },
      "execution_count": null,
      "outputs": []
    },
    {
      "cell_type": "code",
      "source": [
        "split = int(0.7*data_clean.shape[0])\n",
        "train_data = data_clean[:split]\n",
        "test_data = data_clean[split:]\n",
        "test_data = test_data.reset_index(drop = True)"
      ],
      "metadata": {
        "id": "9_D4BZcJd6PY"
      },
      "execution_count": null,
      "outputs": []
    },
    {
      "cell_type": "code",
      "source": [
        "print(train_data.shape, test_data.shape)"
      ],
      "metadata": {
        "colab": {
          "base_uri": "https://localhost:8080/"
        },
        "id": "wVNZg75ms6Y6",
        "outputId": "b869e667-dba1-4598-e6fd-caf3c4569e2a"
      },
      "execution_count": null,
      "outputs": [
        {
          "output_type": "stream",
          "name": "stdout",
          "text": [
            "(623, 7) (268, 7)\n"
          ]
        }
      ]
    },
    {
      "cell_type": "code",
      "source": [
        "d_t = DecisionTree()\n",
        "d_t.train(train_data)"
      ],
      "metadata": {
        "colab": {
          "base_uri": "https://localhost:8080/"
        },
        "id": "2Q1nKS7js-Va",
        "outputId": "751971ac-969b-410c-c608-62e7c68a61eb"
      },
      "execution_count": null,
      "outputs": [
        {
          "output_type": "stream",
          "name": "stdout",
          "text": [
            "Making Tree Feature is:  Sex\n",
            "Making Tree Feature is:  Pclass\n",
            "Making Tree Feature is:  Age\n",
            "Making Tree Feature is:  SibSp\n",
            "Making Tree Feature is:  Pclass\n",
            "Making Tree Feature is:  Age\n",
            "Making Tree Feature is:  Age\n",
            "Making Tree Feature is:  SibSp\n",
            "Making Tree Feature is:  Parch\n",
            "Making Tree Feature is:  Pclass\n",
            "Making Tree Feature is:  SibSp\n",
            "Making Tree Feature is:  Fare\n",
            "Making Tree Feature is:  Parch\n",
            "Making Tree Feature is:  Age\n",
            "Making Tree Feature is:  Pclass\n",
            "Making Tree Feature is:  Age\n",
            "Making Tree Feature is:  Age\n",
            "Making Tree Feature is:  Parch\n",
            "Making Tree Feature is:  SibSp\n",
            "Making Tree Feature is:  Fare\n",
            "Making Tree Feature is:  Age\n",
            "Making Tree Feature is:  Age\n",
            "Making Tree Feature is:  Fare\n",
            "Making Tree Feature is:  Age\n",
            "Making Tree Feature is:  Age\n",
            "Making Tree Feature is:  Fare\n",
            "Making Tree Feature is:  Age\n",
            "Making Tree Feature is:  Parch\n",
            "Making Tree Feature is:  Fare\n",
            "Making Tree Feature is:  Fare\n",
            "Making Tree Feature is:  Fare\n",
            "Making Tree Feature is:  Age\n",
            "Making Tree Feature is:  Fare\n",
            "Making Tree Feature is:  Parch\n",
            "Making Tree Feature is:  Fare\n",
            "Making Tree Feature is:  Age\n",
            "Making Tree Feature is:  Age\n",
            "Making Tree Feature is:  Fare\n",
            "Making Tree Feature is:  Fare\n",
            "Making Tree Feature is:  SibSp\n",
            "Making Tree Feature is:  Fare\n",
            "Making Tree Feature is:  Age\n",
            "Making Tree Feature is:  Fare\n",
            "Making Tree Feature is:  Pclass\n",
            "Making Tree Feature is:  SibSp\n",
            "Making Tree Feature is:  Age\n",
            "Making Tree Feature is:  Age\n",
            "Making Tree Feature is:  Age\n",
            "Making Tree Feature is:  Pclass\n",
            "Making Tree Feature is:  Age\n",
            "Making Tree Feature is:  SibSp\n",
            "Making Tree Feature is:  Fare\n",
            "Making Tree Feature is:  SibSp\n",
            "Making Tree Feature is:  Age\n",
            "Making Tree Feature is:  Parch\n",
            "Making Tree Feature is:  SibSp\n",
            "Making Tree Feature is:  SibSp\n",
            "Making Tree Feature is:  Age\n",
            "Making Tree Feature is:  Age\n",
            "Making Tree Feature is:  Age\n",
            "Making Tree Feature is:  Parch\n",
            "Making Tree Feature is:  Age\n",
            "Making Tree Feature is:  Age\n"
          ]
        }
      ]
    },
    {
      "cell_type": "code",
      "source": [
        "print(d_t.fkey)\n",
        "print(d_t.fval)\n",
        "print(d_t.left.fkey)\n",
        "print(d_t.right.fkey)"
      ],
      "metadata": {
        "colab": {
          "base_uri": "https://localhost:8080/"
        },
        "id": "wNWcOtBctIV0",
        "outputId": "7fe25803-2765-4047-aa60-691ebe68a06c"
      },
      "execution_count": null,
      "outputs": [
        {
          "output_type": "stream",
          "name": "stdout",
          "text": [
            "Sex\n",
            "0.6292134831460674\n",
            "Pclass\n",
            "Fare\n"
          ]
        }
      ]
    },
    {
      "cell_type": "code",
      "source": [
        "y_pred = []\n",
        "for i in range(test_data.shape[0]):\n",
        "    y_pred.append(d_t.predict(test_data.loc[i]))"
      ],
      "metadata": {
        "id": "nefLMLXktd_B"
      },
      "execution_count": null,
      "outputs": []
    },
    {
      "cell_type": "code",
      "source": [
        "y_pred"
      ],
      "metadata": {
        "colab": {
          "base_uri": "https://localhost:8080/"
        },
        "id": "DaXSCc9ztyty",
        "outputId": "0d958dc4-b1e0-4db1-cb44-f51c4e9eb4d2"
      },
      "execution_count": null,
      "outputs": [
        {
          "output_type": "execute_result",
          "data": {
            "text/plain": [
              "['Dead',\n",
              " 'Dead',\n",
              " 'Dead',\n",
              " 'Dead',\n",
              " 'Survive',\n",
              " 'Dead',\n",
              " 'Dead',\n",
              " 'Dead',\n",
              " 'Dead',\n",
              " 'Dead',\n",
              " 'Dead',\n",
              " 'Dead',\n",
              " 'Survive',\n",
              " 'Dead',\n",
              " 'Dead',\n",
              " 'Dead',\n",
              " 'Dead',\n",
              " 'Dead',\n",
              " 'Survive',\n",
              " 'Dead',\n",
              " 'Dead',\n",
              " 'Survive',\n",
              " 'Dead',\n",
              " 'Dead',\n",
              " 'Dead',\n",
              " 'Dead',\n",
              " 'Survive',\n",
              " 'Dead',\n",
              " 'Survive',\n",
              " 'Dead',\n",
              " 'Survive',\n",
              " 'Survive',\n",
              " 'Dead',\n",
              " 'Dead',\n",
              " 'Survive',\n",
              " 'Dead',\n",
              " 'Dead',\n",
              " 'Dead',\n",
              " 'Dead',\n",
              " 'Dead',\n",
              " 'Dead',\n",
              " 'Dead',\n",
              " 'Dead',\n",
              " 'Dead',\n",
              " 'Dead',\n",
              " 'Dead',\n",
              " 'Survive',\n",
              " 'Survive',\n",
              " 'Survive',\n",
              " 'Dead',\n",
              " 'Dead',\n",
              " 'Dead',\n",
              " 'Dead',\n",
              " 'Dead',\n",
              " 'Dead',\n",
              " 'Dead',\n",
              " 'Dead',\n",
              " 'Survive',\n",
              " 'Dead',\n",
              " 'Dead',\n",
              " 'Dead',\n",
              " 'Dead',\n",
              " 'Dead',\n",
              " 'Dead',\n",
              " 'Dead',\n",
              " 'Dead',\n",
              " 'Survive',\n",
              " 'Survive',\n",
              " 'Survive',\n",
              " 'Dead',\n",
              " 'Dead',\n",
              " 'Dead',\n",
              " 'Dead',\n",
              " 'Dead',\n",
              " 'Survive',\n",
              " 'Dead',\n",
              " 'Dead',\n",
              " 'Survive',\n",
              " 'Dead',\n",
              " 'Survive',\n",
              " 'Dead',\n",
              " 'Dead',\n",
              " 'Dead',\n",
              " 'Survive',\n",
              " 'Dead',\n",
              " 'Survive',\n",
              " 'Dead',\n",
              " 'Survive',\n",
              " 'Dead',\n",
              " 'Dead',\n",
              " 'Dead',\n",
              " 'Dead',\n",
              " 'Dead',\n",
              " 'Survive',\n",
              " 'Survive',\n",
              " 'Dead',\n",
              " 'Dead',\n",
              " 'Survive',\n",
              " 'Dead',\n",
              " 'Dead',\n",
              " 'Dead',\n",
              " 'Survive',\n",
              " 'Dead',\n",
              " 'Survive',\n",
              " 'Survive',\n",
              " 'Dead',\n",
              " 'Dead',\n",
              " 'Survive',\n",
              " 'Dead',\n",
              " 'Dead',\n",
              " 'Dead',\n",
              " 'Dead',\n",
              " 'Dead',\n",
              " 'Dead',\n",
              " 'Dead',\n",
              " 'Dead',\n",
              " 'Dead',\n",
              " 'Dead',\n",
              " 'Survive',\n",
              " 'Survive',\n",
              " 'Dead',\n",
              " 'Dead',\n",
              " 'Dead',\n",
              " 'Survive',\n",
              " 'Survive',\n",
              " 'Survive',\n",
              " 'Dead',\n",
              " 'Survive',\n",
              " 'Dead',\n",
              " 'Dead',\n",
              " 'Dead',\n",
              " 'Survive',\n",
              " 'Dead',\n",
              " 'Dead',\n",
              " 'Dead',\n",
              " 'Dead',\n",
              " 'Survive',\n",
              " 'Dead',\n",
              " 'Dead',\n",
              " 'Dead',\n",
              " 'Survive',\n",
              " 'Dead',\n",
              " 'Survive',\n",
              " 'Dead',\n",
              " 'Survive',\n",
              " 'Dead',\n",
              " 'Dead',\n",
              " 'Dead',\n",
              " 'Dead',\n",
              " 'Survive',\n",
              " 'Dead',\n",
              " 'Survive',\n",
              " 'Dead',\n",
              " 'Dead',\n",
              " 'Dead',\n",
              " 'Dead',\n",
              " 'Survive',\n",
              " 'Survive',\n",
              " 'Survive',\n",
              " 'Dead',\n",
              " 'Dead',\n",
              " 'Dead',\n",
              " 'Dead',\n",
              " 'Survive',\n",
              " 'Dead',\n",
              " 'Survive',\n",
              " 'Dead',\n",
              " 'Dead',\n",
              " 'Dead',\n",
              " 'Dead',\n",
              " 'Dead',\n",
              " 'Dead',\n",
              " 'Dead',\n",
              " 'Survive',\n",
              " 'Dead',\n",
              " 'Dead',\n",
              " 'Dead',\n",
              " 'Dead',\n",
              " 'Survive',\n",
              " 'Survive',\n",
              " 'Dead',\n",
              " 'Dead',\n",
              " 'Dead',\n",
              " 'Dead',\n",
              " 'Survive',\n",
              " 'Dead',\n",
              " 'Survive',\n",
              " 'Dead',\n",
              " 'Dead',\n",
              " 'Dead',\n",
              " 'Dead',\n",
              " 'Dead',\n",
              " 'Dead',\n",
              " 'Survive',\n",
              " 'Dead',\n",
              " 'Dead',\n",
              " 'Dead',\n",
              " 'Survive',\n",
              " 'Dead',\n",
              " 'Dead',\n",
              " 'Survive',\n",
              " 'Dead',\n",
              " 'Dead',\n",
              " 'Dead',\n",
              " 'Dead',\n",
              " 'Dead',\n",
              " 'Survive',\n",
              " 'Dead',\n",
              " 'Survive',\n",
              " 'Dead',\n",
              " 'Dead',\n",
              " 'Dead',\n",
              " 'Survive',\n",
              " 'Dead',\n",
              " 'Dead',\n",
              " 'Dead',\n",
              " 'Dead',\n",
              " 'Dead',\n",
              " 'Dead',\n",
              " 'Survive',\n",
              " 'Dead',\n",
              " 'Dead',\n",
              " 'Dead',\n",
              " 'Dead',\n",
              " 'Dead',\n",
              " 'Dead',\n",
              " 'Survive',\n",
              " 'Dead',\n",
              " 'Dead',\n",
              " 'Survive',\n",
              " 'Survive',\n",
              " 'Survive',\n",
              " 'Survive',\n",
              " 'Survive',\n",
              " 'Dead',\n",
              " 'Survive',\n",
              " 'Dead',\n",
              " 'Dead',\n",
              " 'Dead',\n",
              " 'Survive',\n",
              " 'Dead',\n",
              " 'Dead',\n",
              " 'Survive',\n",
              " 'Survive',\n",
              " 'Dead',\n",
              " 'Dead',\n",
              " 'Dead',\n",
              " 'Dead',\n",
              " 'Survive',\n",
              " 'Dead',\n",
              " 'Dead',\n",
              " 'Survive',\n",
              " 'Survive',\n",
              " 'Dead',\n",
              " 'Dead',\n",
              " 'Dead',\n",
              " 'Survive',\n",
              " 'Survive',\n",
              " 'Dead',\n",
              " 'Dead',\n",
              " 'Dead',\n",
              " 'Dead',\n",
              " 'Dead',\n",
              " 'Dead',\n",
              " 'Survive',\n",
              " 'Dead',\n",
              " 'Dead',\n",
              " 'Dead']"
            ]
          },
          "metadata": {},
          "execution_count": 43
        }
      ]
    },
    {
      "cell_type": "code",
      "source": [
        "y_actual = test_data[output]"
      ],
      "metadata": {
        "id": "7AasFuUduPgB"
      },
      "execution_count": null,
      "outputs": []
    },
    {
      "cell_type": "code",
      "source": [
        "print(y_actual)"
      ],
      "metadata": {
        "colab": {
          "base_uri": "https://localhost:8080/"
        },
        "id": "TLKI4_VguWcE",
        "outputId": "7293a9b9-1ce9-4573-9593-ee2228305603"
      },
      "execution_count": null,
      "outputs": [
        {
          "output_type": "stream",
          "name": "stdout",
          "text": [
            "     Survived\n",
            "0           0\n",
            "1           0\n",
            "2           0\n",
            "3           0\n",
            "4           1\n",
            "..        ...\n",
            "263         0\n",
            "264         1\n",
            "265         0\n",
            "266         1\n",
            "267         0\n",
            "\n",
            "[268 rows x 1 columns]\n"
          ]
        }
      ]
    },
    {
      "cell_type": "code",
      "source": [
        "le = LabelEncoder()\n",
        "\n",
        "y_pred = le.fit_transform(y_pred)"
      ],
      "metadata": {
        "id": "8iXHpy8KubXr"
      },
      "execution_count": null,
      "outputs": []
    },
    {
      "cell_type": "code",
      "source": [
        "y_pred"
      ],
      "metadata": {
        "colab": {
          "base_uri": "https://localhost:8080/"
        },
        "id": "hMPlhYECupwB",
        "outputId": "0d72053d-b613-4d9e-cbb3-d1dd0d6e8203"
      },
      "execution_count": null,
      "outputs": [
        {
          "output_type": "execute_result",
          "data": {
            "text/plain": [
              "array([0, 0, 0, 0, 1, 0, 0, 0, 0, 0, 0, 0, 1, 0, 0, 0, 0, 0, 1, 0, 0, 1,\n",
              "       0, 0, 0, 0, 1, 0, 1, 0, 1, 1, 0, 0, 1, 0, 0, 0, 0, 0, 0, 0, 0, 0,\n",
              "       0, 0, 1, 1, 1, 0, 0, 0, 0, 0, 0, 0, 0, 1, 0, 0, 0, 0, 0, 0, 0, 0,\n",
              "       1, 1, 1, 0, 0, 0, 0, 0, 1, 0, 0, 1, 0, 1, 0, 0, 0, 1, 0, 1, 0, 1,\n",
              "       0, 0, 0, 0, 0, 1, 1, 0, 0, 1, 0, 0, 0, 1, 0, 1, 1, 0, 0, 1, 0, 0,\n",
              "       0, 0, 0, 0, 0, 0, 0, 0, 1, 1, 0, 0, 0, 1, 1, 1, 0, 1, 0, 0, 0, 1,\n",
              "       0, 0, 0, 0, 1, 0, 0, 0, 1, 0, 1, 0, 1, 0, 0, 0, 0, 1, 0, 1, 0, 0,\n",
              "       0, 0, 1, 1, 1, 0, 0, 0, 0, 1, 0, 1, 0, 0, 0, 0, 0, 0, 0, 1, 0, 0,\n",
              "       0, 0, 1, 1, 0, 0, 0, 0, 1, 0, 1, 0, 0, 0, 0, 0, 0, 1, 0, 0, 0, 1,\n",
              "       0, 0, 1, 0, 0, 0, 0, 0, 1, 0, 1, 0, 0, 0, 1, 0, 0, 0, 0, 0, 0, 1,\n",
              "       0, 0, 0, 0, 0, 0, 1, 0, 0, 1, 1, 1, 1, 1, 0, 1, 0, 0, 0, 1, 0, 0,\n",
              "       1, 1, 0, 0, 0, 0, 1, 0, 0, 1, 1, 0, 0, 0, 1, 1, 0, 0, 0, 0, 0, 0,\n",
              "       1, 0, 0, 0])"
            ]
          },
          "metadata": {},
          "execution_count": 48
        }
      ]
    },
    {
      "cell_type": "code",
      "source": [
        "print(y_pred.shape, y_actual.shape)"
      ],
      "metadata": {
        "colab": {
          "base_uri": "https://localhost:8080/"
        },
        "id": "G71m4I_0ustH",
        "outputId": "2e46946c-01e2-44f8-c549-61cf7e7b29ed"
      },
      "execution_count": null,
      "outputs": [
        {
          "output_type": "stream",
          "name": "stdout",
          "text": [
            "(268,) (268, 1)\n"
          ]
        }
      ]
    },
    {
      "cell_type": "code",
      "source": [
        "y_pred = np.array(y_pred).reshape((-1, 1))\n",
        "print(y_pred.shape)"
      ],
      "metadata": {
        "colab": {
          "base_uri": "https://localhost:8080/"
        },
        "id": "5h3K0DRHu3BH",
        "outputId": "a61df4db-b657-4f68-e94e-2b320b3a903c"
      },
      "execution_count": null,
      "outputs": [
        {
          "output_type": "stream",
          "name": "stdout",
          "text": [
            "(268, 1)\n"
          ]
        }
      ]
    },
    {
      "cell_type": "code",
      "source": [
        "acc = np.sum(np.array(y_pred) == np.array(y_actual))/y_pred.shape[0]\n",
        "print(acc)"
      ],
      "metadata": {
        "colab": {
          "base_uri": "https://localhost:8080/"
        },
        "id": "RdtoYQmNvDIp",
        "outputId": "1da3339e-537a-4a94-8b84-8517f3ab8206"
      },
      "execution_count": null,
      "outputs": [
        {
          "output_type": "stream",
          "name": "stdout",
          "text": [
            "0.8171641791044776\n"
          ]
        }
      ]
    },
    {
      "cell_type": "code",
      "source": [
        " "
      ],
      "metadata": {
        "id": "RUETyXKdvO1W"
      },
      "execution_count": null,
      "outputs": []
    },
    {
      "cell_type": "code",
      "source": [],
      "metadata": {
        "id": "ivZFm3GGvpAl"
      },
      "execution_count": null,
      "outputs": []
    }
  ]
}