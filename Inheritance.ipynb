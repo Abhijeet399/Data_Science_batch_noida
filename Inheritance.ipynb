{
 "cells": [
  {
   "cell_type": "code",
   "execution_count": 1,
   "id": "7f71aa62",
   "metadata": {},
   "outputs": [],
   "source": [
    "class School_Members:\n",
    "    def __init__(self, name, age):\n",
    "        self.name = name \n",
    "        self.age = age\n",
    "        print(f\"Initialized School_Member: {self.name}\")\n",
    "        \n",
    "    def tell(self):\n",
    "        print(f\"Name: {self.name}, Age: {self.age}\")\n",
    "        \n",
    "        \n",
    "class Teachers(School_Members):\n",
    "    \n",
    "    def __init__(self, name, age, salary):\n",
    "        School_Members.__init__(self, name, age)\n",
    "        self.salary = salary\n",
    "        print(f\"Initialized Teacher: {self.name}\")\n",
    "        \n",
    "    def tell(self):\n",
    "        School_Members.tell(self)\n",
    "        print(f\"Salary: {self.salary}\")\n",
    "        \n",
    "\n",
    "class Students(School_Members):\n",
    "    \n",
    "    def __init__(self, name, age, marks):\n",
    "        School_Members.__init__(self, name, age)\n",
    "        self.marks = marks\n",
    "        print(f\"Initialized Student: {self.name}\")\n",
    "        \n",
    "    def tell(self):\n",
    "        School_Members.tell(self)\n",
    "        print(f\"Marks: {self.marks}\")"
   ]
  },
  {
   "cell_type": "code",
   "execution_count": 2,
   "id": "63caa873",
   "metadata": {},
   "outputs": [
    {
     "name": "stdout",
     "output_type": "stream",
     "text": [
      "Initialized School_Member: Abhijeet\n",
      "Initialized Teacher: Abhijeet\n",
      "Initialized School_Member: AB\n",
      "Initialized Student: AB\n"
     ]
    }
   ],
   "source": [
    "t = Teachers(\"Abhijeet\", 23, 1000000)\n",
    "s = Students(\"AB\", 22, 75)"
   ]
  },
  {
   "cell_type": "code",
   "execution_count": 3,
   "id": "a2a4e45f",
   "metadata": {},
   "outputs": [],
   "source": [
    "class School_Members:\n",
    "    def __init__(self, name, age):\n",
    "        self.name = name \n",
    "        self.age = age\n",
    "        print(f\"Initialized School_Member: {self.name}\")\n",
    "        \n",
    "    def tell(self):\n",
    "        print(f\"Name: {self.name}, Age: {self.age}\")\n",
    "        \n",
    "        \n",
    "class Teachers(School_Members):\n",
    "    \n",
    "    def __init__(self, name, age, salary):\n",
    "        super().__init__(name, age)\n",
    "        self.salary = salary\n",
    "        print(f\"Initialized Teacher: {self.name}\")\n",
    "        \n",
    "    def tell(self):\n",
    "        super().tell()\n",
    "        print(f\"Salary: {self.salary}\")\n",
    "        \n",
    "\n",
    "class Students(School_Members):\n",
    "    \n",
    "    def __init__(self, name, age, marks):\n",
    "        super().__init__(name, age)\n",
    "        self.marks = marks\n",
    "        print(f\"Initialized Student: {self.name}\")\n",
    "        \n",
    "    def tell(self):\n",
    "        super().tell()\n",
    "        print(f\"Marks: {self.marks}\")"
   ]
  },
  {
   "cell_type": "code",
   "execution_count": 7,
   "id": "497f56fe",
   "metadata": {},
   "outputs": [
    {
     "name": "stdout",
     "output_type": "stream",
     "text": [
      "Initialized School_Member: Abhijeet\n",
      "Initialized Teacher: Abhijeet\n",
      "Initialized School_Member: AB\n",
      "Initialized Student: AB\n"
     ]
    }
   ],
   "source": [
    "t = Teachers(\"Abhijeet\", 23, 1000000)\n",
    "s = Students(\"AB\", 22, 75)"
   ]
  },
  {
   "cell_type": "code",
   "execution_count": 8,
   "id": "d6dad639",
   "metadata": {},
   "outputs": [
    {
     "name": "stdout",
     "output_type": "stream",
     "text": [
      "Name: AB, Age: 22\n",
      "Marks: 75\n"
     ]
    }
   ],
   "source": [
    "s.tell()"
   ]
  },
  {
   "cell_type": "code",
   "execution_count": 9,
   "id": "b02e19fc",
   "metadata": {},
   "outputs": [
    {
     "name": "stdout",
     "output_type": "stream",
     "text": [
      "Name: Abhijeet, Age: 23\n",
      "Salary: 1000000\n"
     ]
    }
   ],
   "source": [
    "t.tell()"
   ]
  },
  {
   "cell_type": "code",
   "execution_count": null,
   "id": "e8dbd3cc",
   "metadata": {},
   "outputs": [],
   "source": []
  }
 ],
 "metadata": {
  "kernelspec": {
   "display_name": "Python 3 (ipykernel)",
   "language": "python",
   "name": "python3"
  },
  "language_info": {
   "codemirror_mode": {
    "name": "ipython",
    "version": 3
   },
   "file_extension": ".py",
   "mimetype": "text/x-python",
   "name": "python",
   "nbconvert_exporter": "python",
   "pygments_lexer": "ipython3",
   "version": "3.8.10"
  }
 },
 "nbformat": 4,
 "nbformat_minor": 5
}
