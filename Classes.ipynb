{
 "cells": [
  {
   "cell_type": "code",
   "execution_count": 15,
   "id": "dd2bfaee",
   "metadata": {},
   "outputs": [],
   "source": [
    "a = 's'\n",
    "b = 1"
   ]
  },
  {
   "cell_type": "code",
   "execution_count": 16,
   "id": "4bb4a650",
   "metadata": {},
   "outputs": [
    {
     "name": "stdout",
     "output_type": "stream",
     "text": [
      "<class 'str'>\n",
      "<class 'int'>\n"
     ]
    }
   ],
   "source": [
    "print(type(a))\n",
    "print(type(b))"
   ]
  },
  {
   "cell_type": "code",
   "execution_count": 11,
   "id": "a3a6d943",
   "metadata": {},
   "outputs": [],
   "source": [
    "a = print"
   ]
  },
  {
   "cell_type": "code",
   "execution_count": 12,
   "id": "c47ec88e",
   "metadata": {},
   "outputs": [
    {
     "name": "stdout",
     "output_type": "stream",
     "text": [
      "<class 'builtin_function_or_method'>\n"
     ]
    }
   ],
   "source": [
    "print(type(a))"
   ]
  },
  {
   "cell_type": "code",
   "execution_count": 13,
   "id": "e9fc14b2",
   "metadata": {},
   "outputs": [
    {
     "name": "stdout",
     "output_type": "stream",
     "text": [
      "Hi\n"
     ]
    }
   ],
   "source": [
    "a(\"Hi\")"
   ]
  },
  {
   "cell_type": "code",
   "execution_count": 8,
   "id": "9979277f",
   "metadata": {},
   "outputs": [
    {
     "name": "stdout",
     "output_type": "stream",
     "text": [
      "Hello world\n"
     ]
    }
   ],
   "source": [
    "print(\"Hello world\")"
   ]
  },
  {
   "cell_type": "code",
   "execution_count": 17,
   "id": "ac7f4866",
   "metadata": {},
   "outputs": [],
   "source": [
    "def temp():\n",
    "    print(\"Temp function\")"
   ]
  },
  {
   "cell_type": "code",
   "execution_count": 10,
   "id": "ec7c3185",
   "metadata": {},
   "outputs": [],
   "source": [
    "a = 1"
   ]
  },
  {
   "cell_type": "code",
   "execution_count": 18,
   "id": "8073b588",
   "metadata": {},
   "outputs": [
    {
     "name": "stdout",
     "output_type": "stream",
     "text": [
      "<class 'function'>\n"
     ]
    }
   ],
   "source": [
    "print(type(temp))"
   ]
  },
  {
   "cell_type": "code",
   "execution_count": 19,
   "id": "d1953d0a",
   "metadata": {},
   "outputs": [],
   "source": [
    "class Person:\n",
    "    pass"
   ]
  },
  {
   "cell_type": "code",
   "execution_count": 20,
   "id": "1c407585",
   "metadata": {},
   "outputs": [],
   "source": [
    "p = Person()"
   ]
  },
  {
   "cell_type": "code",
   "execution_count": 21,
   "id": "4e255fd4",
   "metadata": {},
   "outputs": [
    {
     "name": "stdout",
     "output_type": "stream",
     "text": [
      "<__main__.Person object at 0x7f8f34b01400>\n"
     ]
    }
   ],
   "source": [
    "print(p)"
   ]
  },
  {
   "cell_type": "code",
   "execution_count": 24,
   "id": "9314f844",
   "metadata": {},
   "outputs": [
    {
     "name": "stdout",
     "output_type": "stream",
     "text": [
      "<class '__main__.Person'>\n"
     ]
    }
   ],
   "source": [
    "print(Person)"
   ]
  },
  {
   "cell_type": "code",
   "execution_count": 39,
   "id": "814e59c0",
   "metadata": {},
   "outputs": [],
   "source": [
    "a = 1"
   ]
  },
  {
   "cell_type": "code",
   "execution_count": 40,
   "id": "da45d734",
   "metadata": {},
   "outputs": [
    {
     "name": "stdout",
     "output_type": "stream",
     "text": [
      "<class 'int'>\n"
     ]
    }
   ],
   "source": [
    "print(type(a))"
   ]
  },
  {
   "cell_type": "code",
   "execution_count": 41,
   "id": "762ed0c0",
   "metadata": {},
   "outputs": [
    {
     "name": "stdout",
     "output_type": "stream",
     "text": [
      "True\n"
     ]
    }
   ],
   "source": [
    "print(isinstance(a, object))"
   ]
  },
  {
   "cell_type": "code",
   "execution_count": null,
   "id": "aaf2d963",
   "metadata": {},
   "outputs": [],
   "source": []
  },
  {
   "cell_type": "code",
   "execution_count": null,
   "id": "6c818c71",
   "metadata": {},
   "outputs": [],
   "source": []
  },
  {
   "cell_type": "code",
   "execution_count": 42,
   "id": "04bc58aa",
   "metadata": {},
   "outputs": [],
   "source": [
    "a = print"
   ]
  },
  {
   "cell_type": "code",
   "execution_count": 43,
   "id": "cf215ec7",
   "metadata": {},
   "outputs": [
    {
     "name": "stdout",
     "output_type": "stream",
     "text": [
      "<class 'builtin_function_or_method'>\n"
     ]
    }
   ],
   "source": [
    "print(type(a))"
   ]
  },
  {
   "cell_type": "code",
   "execution_count": 44,
   "id": "dd324962",
   "metadata": {},
   "outputs": [
    {
     "name": "stdout",
     "output_type": "stream",
     "text": [
      "True\n"
     ]
    }
   ],
   "source": [
    "print(isinstance(a, object))"
   ]
  },
  {
   "cell_type": "code",
   "execution_count": 53,
   "id": "4e6eac42",
   "metadata": {},
   "outputs": [],
   "source": [
    "class Person:\n",
    "    name = \"Abhijeet\"\n",
    "    \n",
    "    def say_hi(self):\n",
    "        print(\"Hi \", self.name)"
   ]
  },
  {
   "cell_type": "code",
   "execution_count": 54,
   "id": "47375972",
   "metadata": {},
   "outputs": [
    {
     "name": "stdout",
     "output_type": "stream",
     "text": [
      "Hi  Abhijeet\n"
     ]
    }
   ],
   "source": [
    "p = Person()\n",
    "p.say_hi()"
   ]
  },
  {
   "cell_type": "code",
   "execution_count": 57,
   "id": "b60f58aa",
   "metadata": {},
   "outputs": [
    {
     "name": "stdout",
     "output_type": "stream",
     "text": [
      "Hi  Abhijeet\n"
     ]
    }
   ],
   "source": [
    "Person().say_hi()"
   ]
  },
  {
   "cell_type": "code",
   "execution_count": 1,
   "id": "26034ddf",
   "metadata": {},
   "outputs": [],
   "source": [
    "#INIT method ----> Dunders or Magic method\n",
    "# __name__()  ----> Dunders\n",
    "\n",
    "class Person:\n",
    "    def __init__(self, name):\n",
    "        print(\"Ran\")\n",
    "        self.name = name\n",
    "    \n",
    "    def __repr__(self):\n",
    "        return 'Object: {}'.format(self.name)\n",
    "        \n",
    "    def say_hi(self):\n",
    "        print(\"Name of person is:\", self.name)"
   ]
  },
  {
   "cell_type": "code",
   "execution_count": 5,
   "id": "743ee5db",
   "metadata": {},
   "outputs": [
    {
     "name": "stdout",
     "output_type": "stream",
     "text": [
      "Ran\n"
     ]
    }
   ],
   "source": [
    "p=Person(\"Jack\")"
   ]
  },
  {
   "cell_type": "code",
   "execution_count": 6,
   "id": "c183a7d7",
   "metadata": {},
   "outputs": [
    {
     "name": "stdout",
     "output_type": "stream",
     "text": [
      "Object: Jack\n"
     ]
    }
   ],
   "source": [
    "print(p)"
   ]
  },
  {
   "cell_type": "code",
   "execution_count": 62,
   "id": "aad35bd8",
   "metadata": {},
   "outputs": [
    {
     "name": "stdout",
     "output_type": "stream",
     "text": [
      "Name of person is: Jack\n"
     ]
    }
   ],
   "source": [
    "p.say_hi()"
   ]
  },
  {
   "cell_type": "code",
   "execution_count": 73,
   "id": "37563ce0",
   "metadata": {},
   "outputs": [],
   "source": [
    "class Car:\n",
    "    def __init__(self, model, milage):\n",
    "        self.model = model\n",
    "        print(\"INIT running\")\n",
    "        self.milage = milage\n",
    "        \n",
    "    def __add__(self, other):\n",
    "        return self.milage + other.milage\n",
    "    \n",
    "    def __eq__(self, other):\n",
    "        return self.milage == other.milage"
   ]
  },
  {
   "cell_type": "code",
   "execution_count": 74,
   "id": "227fc6d9",
   "metadata": {},
   "outputs": [
    {
     "name": "stdout",
     "output_type": "stream",
     "text": [
      "INIT running\n"
     ]
    }
   ],
   "source": [
    "c1 = Car('a', 2)"
   ]
  },
  {
   "cell_type": "code",
   "execution_count": 75,
   "id": "d29f9f71",
   "metadata": {},
   "outputs": [
    {
     "name": "stdout",
     "output_type": "stream",
     "text": [
      "INIT running\n"
     ]
    }
   ],
   "source": [
    "c2 = Car('b', 3)"
   ]
  },
  {
   "cell_type": "code",
   "execution_count": 76,
   "id": "8c8ab7bf",
   "metadata": {},
   "outputs": [
    {
     "data": {
      "text/plain": [
       "5"
      ]
     },
     "execution_count": 76,
     "metadata": {},
     "output_type": "execute_result"
    }
   ],
   "source": [
    "c1+c2"
   ]
  },
  {
   "cell_type": "code",
   "execution_count": 77,
   "id": "f5417800",
   "metadata": {},
   "outputs": [
    {
     "data": {
      "text/plain": [
       "False"
      ]
     },
     "execution_count": 77,
     "metadata": {},
     "output_type": "execute_result"
    }
   ],
   "source": [
    "c1 == c2"
   ]
  },
  {
   "cell_type": "code",
   "execution_count": 78,
   "id": "e8b4979c",
   "metadata": {},
   "outputs": [],
   "source": [
    "class Dog:\n",
    "    \n",
    "    def __init__(self, name):\n",
    "        self.name = name\n",
    "        "
   ]
  },
  {
   "cell_type": "code",
   "execution_count": 79,
   "id": "2ebb2966",
   "metadata": {},
   "outputs": [],
   "source": [
    "a = Dog('Pug')"
   ]
  },
  {
   "cell_type": "code",
   "execution_count": 80,
   "id": "85d1fc46",
   "metadata": {},
   "outputs": [
    {
     "data": {
      "text/plain": [
       "'Pug'"
      ]
     },
     "execution_count": 80,
     "metadata": {},
     "output_type": "execute_result"
    }
   ],
   "source": [
    "a.name"
   ]
  },
  {
   "cell_type": "code",
   "execution_count": 81,
   "id": "c2b87490",
   "metadata": {},
   "outputs": [],
   "source": [
    "b = Dog('Labra')"
   ]
  },
  {
   "cell_type": "code",
   "execution_count": 82,
   "id": "b0a713a3",
   "metadata": {},
   "outputs": [
    {
     "data": {
      "text/plain": [
       "'Labra'"
      ]
     },
     "execution_count": 82,
     "metadata": {},
     "output_type": "execute_result"
    }
   ],
   "source": [
    "b.name"
   ]
  },
  {
   "cell_type": "code",
   "execution_count": 83,
   "id": "b004f4a6",
   "metadata": {},
   "outputs": [],
   "source": [
    "b.name = 'puppy'"
   ]
  },
  {
   "cell_type": "code",
   "execution_count": 89,
   "id": "a854fcdc",
   "metadata": {},
   "outputs": [
    {
     "data": {
      "text/plain": [
       "'puppy'"
      ]
     },
     "execution_count": 89,
     "metadata": {},
     "output_type": "execute_result"
    }
   ],
   "source": [
    "b.name"
   ]
  },
  {
   "cell_type": "code",
   "execution_count": 105,
   "id": "fb1db4a4",
   "metadata": {},
   "outputs": [],
   "source": [
    "class Dog:\n",
    "    tricks = []\n",
    "    \n",
    "    def __init__(self, name):\n",
    "        self.name = name\n",
    "    \n",
    "    def add_tricks(self, trick):\n",
    "        self.tricks.append(trick)"
   ]
  },
  {
   "cell_type": "code",
   "execution_count": 106,
   "id": "09c8a5c3",
   "metadata": {},
   "outputs": [],
   "source": [
    "a = Dog('Cherry')\n",
    "b = Dog('Tommy')"
   ]
  },
  {
   "cell_type": "code",
   "execution_count": 107,
   "id": "f06c3364",
   "metadata": {},
   "outputs": [
    {
     "name": "stdout",
     "output_type": "stream",
     "text": [
      "Cherry Tommy\n"
     ]
    }
   ],
   "source": [
    "print(a.name, b.name)"
   ]
  },
  {
   "cell_type": "code",
   "execution_count": 108,
   "id": "e023e602",
   "metadata": {},
   "outputs": [],
   "source": [
    "a.add_tricks(\"sit\")"
   ]
  },
  {
   "cell_type": "code",
   "execution_count": 109,
   "id": "fb6ab935",
   "metadata": {},
   "outputs": [],
   "source": [
    "a.add_tricks(\"roll\")"
   ]
  },
  {
   "cell_type": "code",
   "execution_count": 110,
   "id": "6c98fe4d",
   "metadata": {},
   "outputs": [],
   "source": [
    "a.add_tricks(\"jump\")"
   ]
  },
  {
   "cell_type": "code",
   "execution_count": 111,
   "id": "fed5a66e",
   "metadata": {},
   "outputs": [
    {
     "data": {
      "text/plain": [
       "['sit', 'roll', 'jump']"
      ]
     },
     "execution_count": 111,
     "metadata": {},
     "output_type": "execute_result"
    }
   ],
   "source": [
    "a.tricks"
   ]
  },
  {
   "cell_type": "code",
   "execution_count": 112,
   "id": "21d339fa",
   "metadata": {},
   "outputs": [
    {
     "data": {
      "text/plain": [
       "['sit', 'roll', 'jump']"
      ]
     },
     "execution_count": 112,
     "metadata": {},
     "output_type": "execute_result"
    }
   ],
   "source": [
    "b.tricks"
   ]
  },
  {
   "cell_type": "code",
   "execution_count": 113,
   "id": "598a0c17",
   "metadata": {},
   "outputs": [
    {
     "data": {
      "text/plain": [
       "140253044417536"
      ]
     },
     "execution_count": 113,
     "metadata": {},
     "output_type": "execute_result"
    }
   ],
   "source": [
    "id(a.tricks)"
   ]
  },
  {
   "cell_type": "code",
   "execution_count": 114,
   "id": "8b0a1a2e",
   "metadata": {},
   "outputs": [
    {
     "data": {
      "text/plain": [
       "140253044417536"
      ]
     },
     "execution_count": 114,
     "metadata": {},
     "output_type": "execute_result"
    }
   ],
   "source": [
    "id(b.tricks)"
   ]
  },
  {
   "cell_type": "code",
   "execution_count": 115,
   "id": "54947b2c",
   "metadata": {},
   "outputs": [
    {
     "data": {
      "text/plain": [
       "140253044417536"
      ]
     },
     "execution_count": 115,
     "metadata": {},
     "output_type": "execute_result"
    }
   ],
   "source": [
    "id(Dog.tricks)"
   ]
  },
  {
   "cell_type": "code",
   "execution_count": 116,
   "id": "481924fa",
   "metadata": {},
   "outputs": [],
   "source": [
    "class Dog:\n",
    "#     tricks = []\n",
    "    \n",
    "    def __init__(self, name):\n",
    "        self.name = name\n",
    "        self.tricks = []\n",
    "    \n",
    "    def add_tricks(self, trick):\n",
    "        self.tricks.append(trick)"
   ]
  },
  {
   "cell_type": "code",
   "execution_count": 117,
   "id": "5283a7c2",
   "metadata": {},
   "outputs": [],
   "source": [
    "a = Dog('Cherry')\n",
    "b=Dog('Tommy')"
   ]
  },
  {
   "cell_type": "code",
   "execution_count": 119,
   "id": "74d7689c",
   "metadata": {},
   "outputs": [
    {
     "name": "stdout",
     "output_type": "stream",
     "text": [
      "Cherry Tommy\n"
     ]
    }
   ],
   "source": [
    "print(a.name, b.name)"
   ]
  },
  {
   "cell_type": "code",
   "execution_count": 120,
   "id": "6b813409",
   "metadata": {},
   "outputs": [],
   "source": [
    "a.add_tricks(\"Roll\")\n",
    "a.add_tricks(\"Sit\")\n",
    "a.add_tricks(\"behave\")"
   ]
  },
  {
   "cell_type": "code",
   "execution_count": 121,
   "id": "2e853f3b",
   "metadata": {},
   "outputs": [
    {
     "data": {
      "text/plain": [
       "['Roll', 'Sit', 'behave']"
      ]
     },
     "execution_count": 121,
     "metadata": {},
     "output_type": "execute_result"
    }
   ],
   "source": [
    "a.tricks"
   ]
  },
  {
   "cell_type": "code",
   "execution_count": 122,
   "id": "88669446",
   "metadata": {},
   "outputs": [
    {
     "data": {
      "text/plain": [
       "[]"
      ]
     },
     "execution_count": 122,
     "metadata": {},
     "output_type": "execute_result"
    }
   ],
   "source": [
    "b.tricks"
   ]
  },
  {
   "cell_type": "code",
   "execution_count": 123,
   "id": "c4a0ddca",
   "metadata": {},
   "outputs": [
    {
     "name": "stdout",
     "output_type": "stream",
     "text": [
      "140253047908736 140253047168960\n"
     ]
    }
   ],
   "source": [
    "print(id(a.tricks), id(b.tricks))"
   ]
  },
  {
   "cell_type": "code",
   "execution_count": null,
   "id": "3641d43c",
   "metadata": {},
   "outputs": [],
   "source": [
    "# Link sto read about DUNDERS\n",
    "\n",
    "# https://www.geeksforgeeks.org/dunder-magic-methods-python/\n",
    "# https://docs.python.org/3/reference/datamodel.html"
   ]
  },
  {
   "cell_type": "code",
   "execution_count": null,
   "id": "2f9c8fac",
   "metadata": {},
   "outputs": [],
   "source": []
  },
  {
   "cell_type": "code",
   "execution_count": null,
   "id": "e1ad41f9",
   "metadata": {},
   "outputs": [],
   "source": []
  },
  {
   "cell_type": "code",
   "execution_count": null,
   "id": "abf30ea0",
   "metadata": {},
   "outputs": [],
   "source": []
  },
  {
   "cell_type": "code",
   "execution_count": null,
   "id": "b0ce84f1",
   "metadata": {},
   "outputs": [],
   "source": []
  },
  {
   "cell_type": "code",
   "execution_count": null,
   "id": "2e43ec2d",
   "metadata": {},
   "outputs": [],
   "source": []
  },
  {
   "cell_type": "code",
   "execution_count": null,
   "id": "abc8b6e0",
   "metadata": {},
   "outputs": [],
   "source": []
  },
  {
   "cell_type": "code",
   "execution_count": 100,
   "id": "51c05e27",
   "metadata": {},
   "outputs": [],
   "source": [
    "a = [1,2,3]"
   ]
  },
  {
   "cell_type": "code",
   "execution_count": 101,
   "id": "7640c384",
   "metadata": {},
   "outputs": [],
   "source": [
    "b=a"
   ]
  },
  {
   "cell_type": "code",
   "execution_count": 102,
   "id": "7924ff04",
   "metadata": {},
   "outputs": [],
   "source": [
    "b[0]=100"
   ]
  },
  {
   "cell_type": "code",
   "execution_count": 103,
   "id": "e51a7ea8",
   "metadata": {},
   "outputs": [
    {
     "data": {
      "text/plain": [
       "[100, 2, 3]"
      ]
     },
     "execution_count": 103,
     "metadata": {},
     "output_type": "execute_result"
    }
   ],
   "source": [
    "b"
   ]
  },
  {
   "cell_type": "code",
   "execution_count": 104,
   "id": "063a2230",
   "metadata": {},
   "outputs": [
    {
     "data": {
      "text/plain": [
       "[100, 2, 3]"
      ]
     },
     "execution_count": 104,
     "metadata": {},
     "output_type": "execute_result"
    }
   ],
   "source": [
    "a"
   ]
  },
  {
   "cell_type": "code",
   "execution_count": null,
   "id": "07318f26",
   "metadata": {},
   "outputs": [],
   "source": []
  }
 ],
 "metadata": {
  "kernelspec": {
   "display_name": "Python 3 (ipykernel)",
   "language": "python",
   "name": "python3"
  },
  "language_info": {
   "codemirror_mode": {
    "name": "ipython",
    "version": 3
   },
   "file_extension": ".py",
   "mimetype": "text/x-python",
   "name": "python",
   "nbconvert_exporter": "python",
   "pygments_lexer": "ipython3",
   "version": "3.8.10"
  }
 },
 "nbformat": 4,
 "nbformat_minor": 5
}
